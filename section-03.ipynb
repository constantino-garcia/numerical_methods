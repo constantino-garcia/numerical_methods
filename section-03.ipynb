{
 "cells": [
  {
   "cell_type": "markdown",
   "metadata": {
    "toc-hr-collapsed": false
   },
   "source": [
    "# Solving linear systems of equations\n",
    "\n",
    "## Motivation\n",
    "\n",
    "TODO"
   ]
  },
  {
   "cell_type": "markdown",
   "metadata": {
    "toc-hr-collapsed": false
   },
   "source": [
    "TODO: include: ill-conditioned systems (Sec 9.3.3)\n",
    "\n",
    "$$\\begin{array}{cccccccccccc}\n",
    "a_{11}x_1 &+& a_{12}x_2 &+& a_{13}x_3 &+& \\dots &+& a_{1n}x_n = &b_1 \\\\\n",
    "a_{21}x_1 &+& a_{22}x_2 &+& a_{23}x_3 &+& \\dots &+& a_{2n}x_n = &b_2 \\\\\n",
    "\\ \\vdots &&\\ \\vdots &&\\ \\vdots &&\\ \\ddots &&\\ \\vdots \\ & \\vdots \\\\\n",
    "a_{n1}x_1 &+& a_{n2}x_2 &+& a_{n3}x_3 &+& \\dots &+&a_{nn}x_n = &b_n\n",
    "\\end{array}$$"
   ]
  },
  {
   "cell_type": "markdown",
   "metadata": {
    "toc-hr-collapsed": true
   },
   "source": [
    "## Hand solving systems"
   ]
  },
  {
   "cell_type": "markdown",
   "metadata": {},
   "source": [
    "### Graphically\n",
    "\n",
    "In a chicken and rabbit farm, there are 35 heads and 94 legs. How many chickens and how many rabbits do we have?\n",
    "\n",
    "$$x_1 + x_2 = 35\\\\\n",
    "2x_1 + 4x_2 = 94$$"
   ]
  },
  {
   "cell_type": "code",
   "execution_count": 22,
   "metadata": {},
   "outputs": [
    {
     "data": {
      "text/plain": [
       "[<matplotlib.lines.Line2D at 0x7f58dd51b3c8>]"
      ]
     },
     "execution_count": 22,
     "metadata": {},
     "output_type": "execute_result"
    },
    {
     "data": {
      "image/png": "[encoded data removed]",
      "text/plain": [
       "<Figure size 432x288 with 1 Axes>"
      ]
     },
     "metadata": {
      "needs_background": "light"
     },
     "output_type": "display_data"
    }
   ],
   "source": [
    "import numpy as np\n",
    "import matplotlib.pyplot as plt\n",
    "%matplotlib inline\n",
    "\n",
    "x = np.arange(8, 16, 1)\n",
    "y_1 = 35 - x\n",
    "y_2 = (94 - 4 * x) / 2\n",
    "\n",
    "plt.plot(x, y_1)\n",
    "plt.plot(x, y_2)"
   ]
  },
  {
   "cell_type": "markdown",
   "metadata": {},
   "source": [
    "How would you do it for a system of three equations with three incognitas? And for four?"
   ]
  },
  {
   "cell_type": "markdown",
   "metadata": {
    "toc-hr-collapsed": true
   },
   "source": [
    "### Cramer's Rule\n",
    "\n",
    "TODO Does not scale well"
   ]
  },
  {
   "cell_type": "markdown",
   "metadata": {},
   "source": [
    "#### The coefficient matrix and determinants\n",
    "\n",
    "$$[A]\\{X\\} = \\{B\\}$$\n",
    "\n",
    "\n",
    "The coefficient matrix can be expressed as:\n",
    "\n",
    "$$A = \\begin{bmatrix}\n",
    "a_{11}&a_{12}&a_{13}\\\\\n",
    "a_{21}&a_{22}&a_{23}\\\\\n",
    "a_{31}&a_{32}&a_{33}\\\\\n",
    "\\end{bmatrix}$$\n",
    "\n",
    "And the determinant is:\n",
    "$$D = \\begin{vmatrix}\n",
    "a_{11}&a_{12}&a_{13}\\\\\n",
    "a_{21}&a_{22}&a_{23}\\\\\n",
    "a_{31}&a_{32}&a_{33}\\\\\n",
    "\\end{vmatrix}$$\n",
    "\n",
    "Cramer's rule states that each unknown in a system of linear algebraic equations may be expressed as a fraction of two determinants with denominator D and with the numerator obtained from D by replacing the column of coefficients of the unknown in question by the constants $b_1 ,b_2 , \\ldots, b_n$. For example, x_1 would be computed as:\n",
    "\n",
    "$$ x_1 = \\frac{\\begin{vmatrix}\n",
    "b_{1}&a_{12}&a_{13}\\\\\n",
    "b_{2}&a_{22}&a_{23}\\\\\n",
    "b_{3}&a_{32}&a_{33}\\\\\n",
    "\\end{vmatrix}}{D}$$\n"
   ]
  },
  {
   "cell_type": "markdown",
   "metadata": {},
   "source": [
    "#### Example\n",
    "\n",
    "Use Cramer's rule to solve\n",
    "$$\\begin{matrix}\n",
    "0.3x_1 &+& 0.52x_2 &+& x_3 &=& −0.01\\\\\n",
    "0.5x_1 &+& x_2 &+& 1.9x_3 &=& 0.67\\\\\n",
    "0.1x_1 &+& 0.3x_2 &+& 0.5x_3 &=& −0.44\\\\\n",
    "\\end{matrix}\n",
    "$$"
   ]
  },
  {
   "cell_type": "code",
   "execution_count": 24,
   "metadata": {},
   "outputs": [],
   "source": [
    "# TODO code the example"
   ]
  },
  {
   "cell_type": "markdown",
   "metadata": {
    "toc-hr-collapsed": true
   },
   "source": [
    "## Gauss elimination\n",
    "\n",
    "In particular, we are going to do _naive_ Gauss elimination"
   ]
  },
  {
   "cell_type": "markdown",
   "metadata": {
    "toc-hr-collapsed": true
   },
   "source": [
    "### Elimination of unknowns\n",
    "The basic strategy is to multiply the equations by constants so that one of the unknowns will be eliminated when the two equations are combined. The result is a single equation that can be solved for the remaining unknown.\n"
   ]
  },
  {
   "cell_type": "markdown",
   "metadata": {},
   "source": [
    "#### Exercise\n",
    "\n",
    "Use elimination of unknowns to solve\n",
    "\n",
    "$$\\begin{matrix}\n",
    "3x_1 &+& 2x_2 &=& 18\\\\\n",
    "−x_1 &+& 2x_2 &=& 2\n",
    "\\end{matrix}\n",
    "$$"
   ]
  },
  {
   "cell_type": "markdown",
   "metadata": {},
   "source": [
    "We can extend the procedure to larger systems. In the general case, it will consist of\n",
    "\n",
    "1. Forward Elimination\n",
    "2. Back substution\n",
    "\n"
   ]
  },
  {
   "cell_type": "markdown",
   "metadata": {
    "toc-hr-collapsed": true
   },
   "source": [
    "### Forward elimination\n",
    "\n",
    "We want to reduce the system so that the coefficient matrix is upper triangular. This way we will be able to solve arbitrarily large systems. \n",
    "\n",
    "$$\\begin{array}{cccccccccccc}\n",
    "a_{11}x_1 &+& a_{12}x_2 &+& a_{13}x_3 &+& \\dots &+& a_{1n}x_n = &b_1 \\\\\n",
    "a_{21}x_1 &+& a_{22}x_2 &+& a_{23}x_3 &+& \\dots &+& a_{2n}x_n = &b_2 \\\\\n",
    "\\ \\vdots &&\\ \\vdots &&\\ \\vdots &&\\ \\ddots &&\\ \\vdots \\ & \\vdots \\\\\n",
    "a_{n1}x_1 &+& a_{n2}x_2 &+& a_{n3}x_3 &+& \\dots &+&a_{nn}x_n = &b_n\n",
    "\\end{array}$$\n",
    "\n",
    "The initial step is to multiply the first equation by $a_{21}/a_{11}$\n",
    "\n",
    "What will be the result?\n",
    "\n",
    "We can subtract it from the second equation to obtain:\n",
    "\n",
    "$$\\left(a_{21} - \\frac{a_{21}}{a_{11}}a_{11}\\right) x_1 + \\left(a_{22} - \\frac{a_{21}}{a_{11}}a_{12}\\right) x_2 + \\left(a_{23} - \\frac{a_{21}}{a_{11}}a_{13}\\right) x_3 + \\dots +\\left(a_{2n} - \\frac{a_{21}}{a_{11}}a_{1n}\\right) x_n = b_2 - \\left(\\frac{a_{11}}{a_{21}}b_1\\right)$$\n",
    "\n",
    "\n",
    "and then from the rest to get:\n",
    "\n",
    "$$\\left[\\begin{array}{ccc|c}\n",
    "a_{11}&a_{12}&a_{13}&b_1\\\\\n",
    "&a'_{22}&a'_{23}&b'_2\\\\\n",
    "&a'_{32}&a'_{33}&b'_3\\\\\n",
    "\\end{array}\\right]$$\n",
    "\n",
    "The primes indicate that the value is not the original one. $a_{11}$ is called the _pivot element_ for this step.\n",
    "\n",
    "\n",
    "Applying this process row by row gets us from this:\n",
    "\n",
    "$$\\left[\\begin{array}{ccc|c}\n",
    "a_{11}&a_{12}&a_{13}&b_1\\\\\n",
    "a_{21}&a_{22}&a_{23}&b_2\\\\\n",
    "a_{31}&a_{32}&a_{33}&b_3\\\\\n",
    "\\end{array}\\right]$$\n",
    "\n",
    "To this: \n",
    "\n",
    "$$\\left[\\begin{array}{ccc|c}\n",
    "a_{11}&a_{12}&a_{13}&b_1\\\\\n",
    " &a'_{22}&a'_{23}&b'_2\\\\\n",
    "&&a''_{33}&b''_3\\\\\n",
    "\\end{array}\\right]$$\n"
   ]
  },
  {
   "cell_type": "markdown",
   "metadata": {},
   "source": [
    "#### Example\n",
    "\n",
    "Apply forward elimination to the following system:\n",
    "\n",
    "\n",
    "$$\\begin{matrix}\n",
    "3x_1 &-& 0.1x_2 &-& 0.2x_3  &=& 7.85\\\\\n",
    "0.1x_1 &+& 7x_2 &-& 0.3x_3  &=& -19.3\\\\\n",
    "0.3x_1 &-& 0.2x_2 &+& 10x_3  &=& 71.4\\\\\n",
    "\\end{matrix}\n",
    "$$"
   ]
  },
  {
   "cell_type": "code",
   "execution_count": 51,
   "metadata": {},
   "outputs": [
    {
     "data": {
      "text/plain": [
       "array([[  3.  ,  -0.1 ,  -0.2 ,   7.85],\n",
       "       [  0.1 ,   7.  ,  -0.3 , -19.3 ],\n",
       "       [  0.3 ,  -0.2 ,  10.  ,  71.4 ]])"
      ]
     },
     "execution_count": 51,
     "metadata": {},
     "output_type": "execute_result"
    }
   ],
   "source": [
    "AB = np.array([3, -0.1, -0.2, 7.85, 0.1, 7, -0.3, -19.3, 0.3, -0.2, 10, 71.4]).reshape(3,4)\n",
    "AB"
   ]
  },
  {
   "cell_type": "code",
   "execution_count": 52,
   "metadata": {},
   "outputs": [
    {
     "data": {
      "text/plain": [
       "array([[  3.        ,  -0.1       ,  -0.2       ,   7.85      ],\n",
       "       [  0.        ,   7.00333333,  -0.29333333, -19.56166667],\n",
       "       [  0.        ,  -0.19      ,  10.02      ,  70.615     ]])"
      ]
     },
     "execution_count": 52,
     "metadata": {},
     "output_type": "execute_result"
    }
   ],
   "source": [
    "# First pass\n",
    "\n",
    "pivot_1 = AB[0,0]\n",
    "a_21 = AB[1,0]\n",
    "\n",
    "AB_prime = AB.copy()\n",
    "AB_prime[1] = AB[1] - (AB[1,0] / pivot_1) * AB[0]\n",
    "AB_prime[2] = AB[2] - (AB[2,0] / pivot_1) * AB[0]\n",
    "AB_prime"
   ]
  },
  {
   "cell_type": "code",
   "execution_count": 59,
   "metadata": {},
   "outputs": [
    {
     "data": {
      "text/plain": [
       "array([[  3.        ,  -0.1       ,  -0.2       ,   7.85      ],\n",
       "       [  0.        ,   7.00333333,  -0.29333333, -19.56166667],\n",
       "       [  0.        ,   0.        ,  10.01204188,  70.08429319]])"
      ]
     },
     "execution_count": 59,
     "metadata": {},
     "output_type": "execute_result"
    }
   ],
   "source": [
    "# Second pass\n",
    "pivot_2 = AB_prime[1,1]\n",
    "\n",
    "AB_primeprime = AB_prime.copy()\n",
    "AB_primeprime[2] = AB_prime[2] - (AB_prime[2,1] / pivot_2) * AB_prime[1]\n",
    "AB_primeprime"
   ]
  },
  {
   "cell_type": "markdown",
   "metadata": {
    "toc-hr-collapsed": true
   },
   "source": [
    "### Back substitution\n",
    "\n",
    "Now we can use the upper triangular form of the coefficient matrix to solve each of the unknowns in turn."
   ]
  },
  {
   "cell_type": "markdown",
   "metadata": {},
   "source": [
    "#### Example\n",
    "\n",
    "Execute back substitution on the triangular matrix we obtained."
   ]
  },
  {
   "cell_type": "code",
   "execution_count": 60,
   "metadata": {},
   "outputs": [
    {
     "data": {
      "text/plain": [
       "7.000000000000002"
      ]
     },
     "execution_count": 60,
     "metadata": {},
     "output_type": "execute_result"
    }
   ],
   "source": [
    "x_3 = AB_primeprime[2,3] / AB_primeprime[2,2]\n",
    "x_3"
   ]
  },
  {
   "cell_type": "code",
   "execution_count": 61,
   "metadata": {},
   "outputs": [
    {
     "data": {
      "text/plain": [
       "-2.5"
      ]
     },
     "execution_count": 61,
     "metadata": {},
     "output_type": "execute_result"
    }
   ],
   "source": [
    "x_2 = (AB_primeprime [1,3] - AB_primeprime[1,2] * x_3 ) / AB_primeprime[1,1]\n",
    "x_2"
   ]
  },
  {
   "cell_type": "code",
   "execution_count": 62,
   "metadata": {},
   "outputs": [
    {
     "data": {
      "text/plain": [
       "3.0"
      ]
     },
     "execution_count": 62,
     "metadata": {},
     "output_type": "execute_result"
    }
   ],
   "source": [
    "x_1 =  (AB_primeprime[0,3] - AB_primeprime[0,1] * x_2 - AB_primeprime[0,2] * x_3) / AB_primeprime[0,0] \n",
    "x_1"
   ]
  },
  {
   "cell_type": "markdown",
   "metadata": {},
   "source": [
    "#### Example\n",
    "\n",
    "Verify the results we obtained"
   ]
  },
  {
   "cell_type": "code",
   "execution_count": 63,
   "metadata": {},
   "outputs": [
    {
     "data": {
      "text/plain": [
       "array([ 3. , -2.5,  7. ])"
      ]
     },
     "execution_count": 63,
     "metadata": {},
     "output_type": "execute_result"
    }
   ],
   "source": [
    "x = np.array([x_1, x_2, x_3])\n",
    "x"
   ]
  },
  {
   "cell_type": "code",
   "execution_count": 69,
   "metadata": {},
   "outputs": [
    {
     "data": {
      "text/plain": [
       "array([  7.85, -19.3 ,  71.4 ])"
      ]
     },
     "execution_count": 69,
     "metadata": {},
     "output_type": "execute_result"
    }
   ],
   "source": [
    "A = AB[:,:3]\n",
    "A.dot(x)"
   ]
  },
  {
   "cell_type": "markdown",
   "metadata": {},
   "source": [
    "#### Challenge\n",
    "\n",
    "Can you implement the forward elimination and back substitution procedures for the general case?"
   ]
  },
  {
   "cell_type": "markdown",
   "metadata": {},
   "source": [
    "### Pitfalls\n",
    "\n",
    "* Division by zero → Pivoting\n",
    "* Round-off errors\n",
    "* Ill-conditioned systems\n",
    "* Singular systems and zero diagonal elements"
   ]
  },
  {
   "cell_type": "markdown",
   "metadata": {},
   "source": [
    "### The three falling parachutists\n",
    "\n",
    "TODO: consider: here or in the practice??"
   ]
  },
  {
   "cell_type": "markdown",
   "metadata": {},
   "source": [
    "### Gauss-Jordan\n",
    "\n",
    "The Gauss-Jordan method is a variation of Gauss elimination. The major difference is that when an unknown is eliminated in the Gauss-Jordan method, it is eliminated from all other equations rather than just the subsequent ones. In addition, all rows are normalized by dividing them by their pivot elements. Thus, the elimination step results in an identity matrix rather than a triangular matrix. Consequently, it is not necessary to employ back substitution to obtain the solution."
   ]
  },
  {
   "cell_type": "markdown",
   "metadata": {},
   "source": [
    "TODO: example?"
   ]
  },
  {
   "cell_type": "markdown",
   "metadata": {
    "toc-hr-collapsed": false
   },
   "source": [
    "## LU decomposition for matrix inversion\n",
    "\n",
    "The main interest of LU descomposition methods is to rethink the elimination step so that it only implies operations on the coefficient matrix. This will allow us to perform the operations much quicker, especially if we need to operate on many different $B$s with the same $A$, as is often the case.\n",
    "\n",
    "TODO: which cases?? section 10.2.2 from Chapra looks really interesting.\n",
    "\n",
    "It will also allow us to compute a matrix inverse, which is useful in many engineering applications."
   ]
  },
  {
   "cell_type": "markdown",
   "metadata": {},
   "source": [
    "# Problems"
   ]
  },
  {
   "cell_type": "markdown",
   "metadata": {},
   "source": [
    "# Further Reading\n"
   ]
  },
  {
   "cell_type": "markdown",
   "metadata": {},
   "source": [
    "# Stuff (remove before class)"
   ]
  },
  {
   "cell_type": "code",
   "execution_count": 14,
   "metadata": {},
   "outputs": [
    {
     "data": {
      "text/plain": [
       "(array([[1, 1],\n",
       "        [2, 4]]), array([35, 94]))"
      ]
     },
     "execution_count": 14,
     "metadata": {},
     "output_type": "execute_result"
    }
   ],
   "source": [
    "A = np.array([1, 1, 2, 4]).reshape(2,2)\n",
    "B = np.array([35, 94])\n",
    "A, B"
   ]
  },
  {
   "cell_type": "code",
   "execution_count": 15,
   "metadata": {},
   "outputs": [
    {
     "data": {
      "text/plain": [
       "array([23., 12.])"
      ]
     },
     "execution_count": 15,
     "metadata": {},
     "output_type": "execute_result"
    }
   ],
   "source": [
    "import numpy.linalg as la\n",
    "\n",
    "la.inv(A).dot(B)"
   ]
  }
 ],
 "metadata": {
  "kernelspec": {
   "display_name": "Python 3",
   "language": "python",
   "name": "python3"
  },
  "language_info": {
   "codemirror_mode": {
    "name": "ipython",
    "version": 3
   },
   "file_extension": ".py",
   "mimetype": "text/x-python",
   "name": "python",
   "nbconvert_exporter": "python",
   "pygments_lexer": "ipython3",
   "version": "3.7.2"
  },
  "toc-autonumbering": true,
  "toc-showmarkdowntxt": false
 },
 "nbformat": 4,
 "nbformat_minor": 2
}
