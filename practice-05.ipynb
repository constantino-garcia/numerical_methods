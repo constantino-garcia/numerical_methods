{
 "cells": [
  {
   "cell_type": "markdown",
   "metadata": {},
   "source": [
    "# Practice session 5: section 6"
   ]
  },
  {
   "cell_type": "markdown",
   "metadata": {},
   "source": [
    "# Background"
   ]
  },
  {
   "cell_type": "markdown",
   "metadata": {},
   "source": [
    "Integration can be performed on functions that we know, but also on functions that we don't know. One such function can describe the shape of a polygon such as the cross-section of a river. "
   ]
  },
  {
   "cell_type": "markdown",
   "metadata": {},
   "source": [
    "# Problem\n",
    "\n",
    "## Background\n",
    "\n",
    "When estimating such a polygon we will have measurements of the depth of the river taken at regular intervals."
   ]
  },
  {
   "cell_type": "markdown",
   "metadata": {},
   "source": [
    "## Data\n",
    "\n",
    "\n",
    "The depths of a river H are measured at equally spaced distances across a channel as tabulated below. The river’s crosssectional area can be determined by integration as in\n",
    "\n",
    "$$ \\int_0^xH(x)dx$$\n",
    "\n",
    "```\n",
    "x, m |  0  2    4  6  8    10   12    14    16\n",
    "H, m |  0  1.9  2  2  2.4  2.6  2.25  1.12  0\n",
    "```\n",
    "\n"
   ]
  },
  {
   "cell_type": "markdown",
   "metadata": {},
   "source": [
    "## Tasks\n",
    "\n",
    "* Determine the cross-sectional area, both by the trapezoidal rule and by the 1/3 Simpson's rule with multiple application.\n",
    "\n",
    "* Fit cuadratic splines to the first 4 points, and then calculate the area under that curve with multiple application of the 1/3 Simpons's rule, considering 25 segments. \n",
    "\n",
    "    * Hint: when you build a big sparse matrix, you don't need to write the zeroes. Just use `np.zeroes()` and fill in the non-zero values. If you're feeling adventurous, you can check the [documentation for sparse matrices in scipy]. \n",
    "    * Use [numpy.linalg.solve] to solve the matrix\n",
    "    * It might be worth it to write a function to build the matrix, since it's pretty big.\n",
    "    * You can do this part manually or with a function. With a function it's probably a lot more fun.\n",
    "\n",
    "\n",
    "* Plot the cross section and your splines.\n",
    "\n",
    "* How does the 1/3 Simpson's rule result compare to the result with splines? Why?\n",
    "\n",
    "[documentation for sparse matrices in scipy]: https://docs.scipy.org/doc/scipy/reference/sparse.html\n",
    "[numpy.linalg.solve]: https://docs.scipy.org/doc/numpy/reference/generated/numpy.linalg.solve.html"
   ]
  },
  {
   "cell_type": "markdown",
   "metadata": {},
   "source": [
    "## Solution\n",
    "\n"
   ]
  },
  {
   "cell_type": "code",
   "execution_count": 1,
   "metadata": {},
   "outputs": [],
   "source": [
    "import numpy as np\n",
    "import matplotlib.pyplot as plt\n",
    "import numpy.linalg as la\n",
    "%matplotlib inline\n",
    "\n",
    "xs = np.array([0, 2, 4, 6, 8, 10, 12, 14, 16])\n",
    "hs = np.array([0, 1.9, 2, 2, 2.4, 2.6, 2.25, 1.12, 0])"
   ]
  },
  {
   "cell_type": "markdown",
   "metadata": {},
   "source": [
    "### Trapezoidal rule"
   ]
  },
  {
   "cell_type": "code",
   "execution_count": 2,
   "metadata": {},
   "outputs": [
    {
     "data": {
      "text/plain": [
       "28.540000000000006"
      ]
     },
     "execution_count": 2,
     "metadata": {},
     "output_type": "execute_result"
    }
   ],
   "source": [
    "area = 0\n",
    "\n",
    "for segment in range(len(xs) - 1):\n",
    "    a = xs[segment]\n",
    "    b = xs[segment + 1]\n",
    "    ha = hs[segment]\n",
    "    hb = hs[segment + 1]\n",
    "    \n",
    "    \n",
    "    area += (b-a)*(hb + ha)/2\n",
    "    \n",
    "area"
   ]
  },
  {
   "cell_type": "markdown",
   "metadata": {},
   "source": [
    "### 1/3 Simpson's rule\n",
    "\n",
    "The equation is:\n",
    "\n",
    "$$\\int_a^b f(x)dx \\approx \\int_a^b f_2(x)dx \\approx \\frac{b-a}{6}[f(x_0) + 4f(x_1) +f(x_2)]$$\n",
    "\n",
    "We need three points for each segment, so we will only be able to get 4 segments."
   ]
  },
  {
   "cell_type": "code",
   "execution_count": 3,
   "metadata": {},
   "outputs": [
    {
     "data": {
      "text/plain": [
       "29.18666666666667"
      ]
     },
     "execution_count": 3,
     "metadata": {},
     "output_type": "execute_result"
    }
   ],
   "source": [
    "area = 0\n",
    "\n",
    "for segment in list(range(0,len(xs) - 1,2)):\n",
    "    a = xs[segment]\n",
    "    b = xs[segment + 2]\n",
    "    hx0 = hs[segment]\n",
    "    hx1 = hs[segment + 1]\n",
    "    hx2 = hs[segment + 2]\n",
    "    \n",
    "    \n",
    "    area += (b-a)*(hx0 + 4*hx1 + hx2)/6\n",
    "    \n",
    "area"
   ]
  },
  {
   "cell_type": "markdown",
   "metadata": {},
   "source": [
    "### Fit quadratic splines to the first 4 points (3 segments)\n",
    "\n",
    "We have 4 points, so we'll fit 3 second-degree functions. Remember:\n",
    "\n",
    "* The function values of adjacent polynomials must be equal at the interior knots.\n",
    "* The first and last functions must pass through the end points.\n",
    "* The first derivatives at the interior knots must be equal.\n",
    "* Assume that the second derivative is zero at the first point\n",
    "\n",
    "All of that should add to 9 equations."
   ]
  },
  {
   "cell_type": "markdown",
   "metadata": {},
   "source": [
    "### Manually"
   ]
  },
  {
   "cell_type": "code",
   "execution_count": 4,
   "metadata": {},
   "outputs": [
    {
     "data": {
      "text/plain": [
       "array([[  2.,   0.,   0.,   0.,   0.,   0.,   0.,   0.,   0.,   0.],\n",
       "       [  4.,   2.,   1.,   0.,   0.,   0.,   0.,   0.,   0.,   0.],\n",
       "       [  0.,   0.,   1.,   0.,   0.,   0.,   0.,   0.,   0.,   0.],\n",
       "       [  4.,   1.,   0.,  -4.,  -1.,   0.,   0.,   0.,   0.,   0.],\n",
       "       [  0.,   0.,   0.,   4.,   2.,   1.,   0.,   0.,   0.,   0.],\n",
       "       [  0.,   0.,   0.,  16.,   4.,   1.,   0.,   0.,   0.,   0.],\n",
       "       [  0.,   0.,   0.,   8.,   1.,   0.,  -8.,  -1.,   0.,   0.],\n",
       "       [  0.,   0.,   0.,   0.,   0.,   0.,  16.,   4.,   1.,   0.],\n",
       "       [  0.,   0.,   0.,   0.,   0.,   0.,  36.,   6.,   1.,   0.],\n",
       "       [  0.,   0.,   0.,   0.,   0.,   0.,  12.,   1.,   0., -12.]])"
      ]
     },
     "execution_count": 4,
     "metadata": {},
     "output_type": "execute_result"
    }
   ],
   "source": [
    "AB = np.zeros((24,25))\n",
    "\n",
    "# f1'' at x=0\n",
    "AB[0,0] = 2\n",
    "\n",
    "# f1 at x=2\n",
    "AB[1, :3] = [4,2,1] # x**2, x**1, x**0\n",
    "AB[1,-1] = 1.9 # H at x=2\n",
    "\n",
    "# f1 at x=0\n",
    "AB[2, :3] = [0,0,1]\n",
    "AB[2,-1] = 0\n",
    "\n",
    "# f1' and f2' at x=2\n",
    "AB[3, :2] = [4,1]\n",
    "AB[3, 3:5] = [-4,-1]\n",
    "\n",
    "# f2 at x=2\n",
    "AB[4, 3:6] = [4,2,1]\n",
    "AB[4, -1] = 1.9\n",
    "\n",
    "# f2 at x=4\n",
    "AB[5, 3:6] = [16,4,1]\n",
    "AB[5, -1] = 2\n",
    "\n",
    "# f2' and f3' at x=4\n",
    "AB[6, 3:5] = [8,1]\n",
    "AB[6, 6:8] = [-8,-1]\n",
    " \n",
    "# f3 at x=4\n",
    "AB[7, 6:9] = [16, 4, 1]\n",
    "AB[7, -1] = 2\n",
    "\n",
    "# f3 at x=6\n",
    "AB[8, 6:9] = [36, 6, 1]    \n",
    "AB[8, -1] = 2\n",
    "\n",
    "# f3' and f4; at x=6\n",
    "AB[9, 6:8] = [12, 1]\n",
    "AB[9, 9:11] = [-12, -1]\n",
    "\n",
    "# f4 at x=6\n",
    "AB[10, 9:12] = [36,6,1]\n",
    "AB[10, -1] = 2\n",
    "\n",
    "# f4 at x=8\n",
    "AB[11, 9:12] = [64,8,1]\n",
    "AB[11, -1] = 2.4\n",
    "\n",
    "# f4' and f5' at x=8\n",
    "AB[12, 9:11] = [16, 1]\n",
    "AB[12, 12:14] = [-16, -1]\n",
    "\n",
    "# f5 at x=8\n",
    "AB[13, 12:15] = [64, 8, 1]\n",
    "AB[13, -1] = 2.4\n",
    "\n",
    "# f5 at x=10\n",
    "AB[14, 12:15] = [100, 10, 1]\n",
    "AB[14, -1] = 2.6\n",
    "\n",
    "# f5' and f6' at x=10\n",
    "AB[15, 12:14] = [20, 1]\n",
    "AB[15, 15:17] = [-20, -1]\n",
    "\n",
    "# f6 at x=10\n",
    "AB[16, 15:18] = [100, 10, 1]\n",
    "AB[16, -1] = 2.6\n",
    "\n",
    "# f6 at x=12\n",
    "AB[17, 15:18] = [144, 12, 1]\n",
    "AB[17, -1] = 2.25\n",
    "\n",
    "# f6' and f7' at x=12\n",
    "AB[18, 15:17] = [24, 1]\n",
    "AB[18, 18:20] = [-24,-1]\n",
    "\n",
    "# f7 at x=12\n",
    "AB[19, 18:21] = [144, 12, 1]\n",
    "AB[19, -1] = 2.25\n",
    "\n",
    "# f7 at x=14\n",
    "AB[20, 18:21] = [176, 14, 1]\n",
    "AB[20, -1] = 1.12\n",
    "\n",
    "# f7' and f8' at x=14\n",
    "AB[21, 18:20] = [28, 1]\n",
    "AB[21, 21:23] = [-28,-1]\n",
    "\n",
    "# f8 at x=14\n",
    "AB[22, 21:24] = [176,14,1]\n",
    "AB[22, -1] = 0\n",
    "\n",
    "# f8 at x=16\n",
    "AB[23, 21:24] = [256, 16, 1]\n",
    "AB[23, -1] = 0\n",
    "\n",
    "    \n",
    "AB[:10,:10]"
   ]
  },
  {
   "cell_type": "code",
   "execution_count": 5,
   "metadata": {},
   "outputs": [
    {
     "data": {
      "text/plain": [
       "array([  0.        ,   0.95      ,   0.        ,  -0.45      ,\n",
       "         2.75      ,  -1.8       ,   0.425     ,  -4.25      ,\n",
       "        12.2       ,  -0.325     ,   4.75      , -14.8       ,\n",
       "         0.275     ,  -4.85      ,  23.6       ,  -0.4125    ,\n",
       "         8.9       , -45.15      ,  -0.054375  ,   0.305     ,\n",
       "         6.42      ,   0.10145833,  -4.05833333,  38.96      ])"
      ]
     },
     "execution_count": 5,
     "metadata": {},
     "output_type": "execute_result"
    }
   ],
   "source": [
    "la.solve(AB[:,:-1], AB[:,-1])"
   ]
  },
  {
   "cell_type": "markdown",
   "metadata": {},
   "source": [
    "### With a function for the general case"
   ]
  },
  {
   "cell_type": "code",
   "execution_count": 6,
   "metadata": {},
   "outputs": [],
   "source": [
    "xs = np.array([0, 2, 4, 6, 8, 10, 12, 14, 16])\n",
    "hs = np.array([0, 1.9, 2, 2, 2.4, 2.6, 2.25, 1.12, 0])\n",
    "\n",
    "npoints = None\n",
    "xs = xs[:npoints]\n",
    "fs = hs[:npoints]\n",
    "eq=0\n",
    "eqs = 3 * (len(xs) - 1)\n",
    "AB = np.zeros((eqs, eqs+1))\n",
    "\n",
    "#f1'' at first point\n",
    "AB[eq,0] = 1\n",
    "eq+=1\n",
    "\n",
    "for i, (x, fx) in enumerate(zip(xs, fs)):    \n",
    "    # 3 coefficients per quadratic equation: a, b, c\n",
    "    start = (i-1) * 3\n",
    "    \n",
    "    if i != 0:\n",
    "        # fleft at x\n",
    "        AB[eq, start : start+3] = [x**2, x**1, x**0]\n",
    "        AB[eq, -1] = fx\n",
    "        eq+=1\n",
    "    \n",
    "    if i != len(xs)-1:\n",
    "        #fright at x\n",
    "        AB[eq, start+3 : start+6] =  [x**2, x**1, x**0]\n",
    "        AB[eq, -1] = fx\n",
    "        eq+=1\n",
    "        \n",
    "    # f'left and f'right at interior points\n",
    "    if i != 0 and i != len(xs)-1:\n",
    "        #left\n",
    "        AB[eq, start : start + 2] = [2*x, 1]\n",
    "        AB[eq, start + 3 : start + 5] = [-2*x, -1]\n",
    "        eq+=1\n",
    "    "
   ]
  },
  {
   "cell_type": "code",
   "execution_count": 7,
   "metadata": {},
   "outputs": [
    {
     "data": {
      "text/plain": [
       "array([-9.99200722e-16,  9.50000000e-01,  0.00000000e+00, -4.50000000e-01,\n",
       "        2.75000000e+00, -1.80000000e+00,  4.25000000e-01, -4.25000000e+00,\n",
       "        1.22000000e+01, -3.25000000e-01,  4.75000000e+00, -1.48000000e+01,\n",
       "        2.75000000e-01, -4.85000000e+00,  2.36000000e+01, -4.12500000e-01,\n",
       "        8.90000000e+00, -4.51500000e+01,  2.17500000e-01, -6.22000000e+00,\n",
       "        4.55700000e+01, -2.15000000e-01,  5.89000000e+00, -3.92000000e+01])"
      ]
     },
     "execution_count": 7,
     "metadata": {},
     "output_type": "execute_result"
    }
   ],
   "source": [
    "spline_coefficients = la.solve(AB[:,:-1],AB[:,-1])\n",
    "spline_coefficients"
   ]
  },
  {
   "cell_type": "markdown",
   "metadata": {},
   "source": [
    "### Using the coefficients to calculate the value of f at x"
   ]
  },
  {
   "cell_type": "code",
   "execution_count": 8,
   "metadata": {},
   "outputs": [],
   "source": [
    "def splines(x, spline_coefficients, xs):\n",
    "    assert(len(spline_coefficients)==(len(xs)-1)*3), 'The spline coefficients don\\'t seem to match the number of segments'\n",
    "    # the segment, and therefore equation that we need to use:\n",
    "    # make sure we don't go over the edge\n",
    "    if x >= xs[-1]:\n",
    "        segment = len(xs) - 2\n",
    "    else:\n",
    "        segment = np.where(xs > x)[0][0] - 1\n",
    "    \n",
    "    \n",
    "    \n",
    "    coefficients = spline_coefficients[segment * 3: (segment + 1) * 3]\n",
    "    result = (coefficients * x ** np.array([2,1,0])).sum() # a * x**2 + b * x**1 + c\n",
    "    \n",
    "    return result"
   ]
  },
  {
   "cell_type": "markdown",
   "metadata": {},
   "source": [
    "### Multiple application of the 1/3 Simpson's rule on the splines\n",
    "\n",
    "Again,\n",
    "\n",
    "$$\\int_a^b f(x)dx \\approx \\int_a^b f_2(x)dx \\approx \\frac{b-a}{6}[f(x_0) + 4f(x_1) +f(x_2)]$$\n"
   ]
  },
  {
   "cell_type": "code",
   "execution_count": 9,
   "metadata": {},
   "outputs": [
    {
     "data": {
      "text/plain": [
       "29.18643711999999"
      ]
     },
     "execution_count": 9,
     "metadata": {},
     "output_type": "execute_result"
    }
   ],
   "source": [
    "lp = np.linspace(min(xs), max(xs), 26)\n",
    "area=0\n",
    "\n",
    "for left in (range(len(lp)-1)):\n",
    "    \n",
    "    right = left + 1\n",
    "    \n",
    "    x0 = lp[left]\n",
    "    x2 = lp[right]\n",
    "    x1 = (x0 + x2)/2\n",
    "    \n",
    "    area += (x2 - x0) / 6 * (splines(x0, spline_coefficients=spline_coefficients, xs=xs) + \n",
    "                             4*splines(x1, spline_coefficients=spline_coefficients, xs=xs) + \n",
    "                             splines(x2, spline_coefficients=spline_coefficients, xs=xs))\n",
    "    \n",
    "area"
   ]
  },
  {
   "cell_type": "markdown",
   "metadata": {},
   "source": [
    "### Plotting the measurements and the splines"
   ]
  },
  {
   "cell_type": "code",
   "execution_count": 10,
   "metadata": {},
   "outputs": [
    {
     "data": {
      "image/png": "[encoded data removed]",
      "text/plain": [
       "<Figure size 432x288 with 1 Axes>"
      ]
     },
     "metadata": {
      "needs_background": "light"
     },
     "output_type": "display_data"
    }
   ],
   "source": [
    "# np.vectorize is another way of applying a function to each element in an array, like a map or a loop.\n",
    "vectorized = np.vectorize(lambda x: splines(x, spline_coefficients=spline_coefficients, xs=xs))\n",
    "\n",
    "lp = np.linspace(min(xs), max(xs))\n",
    "sp = vectorized(lp)\n",
    "\n",
    "plt.scatter(xs, -hs)\n",
    "plt.plot(lp, -sp);"
   ]
  }
 ],
 "metadata": {
  "kernelspec": {
   "display_name": "Python 3",
   "language": "python",
   "name": "python3"
  },
  "language_info": {
   "codemirror_mode": {
    "name": "ipython",
    "version": 3
   },
   "file_extension": ".py",
   "mimetype": "text/x-python",
   "name": "python",
   "nbconvert_exporter": "python",
   "pygments_lexer": "ipython3",
   "version": "3.7.2"
  }
 },
 "nbformat": 4,
 "nbformat_minor": 2
}
