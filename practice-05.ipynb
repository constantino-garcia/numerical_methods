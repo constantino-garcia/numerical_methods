{
 "cells": [
  {
   "cell_type": "markdown",
   "metadata": {},
   "source": [
    "# Practice session 5: section 6"
   ]
  },
  {
   "cell_type": "markdown",
   "metadata": {},
   "source": [
    "# Background"
   ]
  },
  {
   "cell_type": "markdown",
   "metadata": {},
   "source": [
    "Integration can be performed on functions that we know, but also on functions that we don't know. One such function can describe the shape of a polygon such as the cross-section of a river. "
   ]
  },
  {
   "cell_type": "markdown",
   "metadata": {},
   "source": [
    "# Problem\n",
    "\n",
    "## Background\n",
    "\n",
    "When estimating such a polygon we will have measurements of the depth of the river taken at regular intervals."
   ]
  },
  {
   "cell_type": "markdown",
   "metadata": {},
   "source": [
    "## Data\n",
    "\n",
    "#### Exercise\n",
    "\n",
    "The depths of a river H are measured at equally spaced distances across a channel as tabulated below. The river’s crosssectional area can be determined by integration as in\n",
    "\n",
    "$$ \\int_0^xH(x)dx$$\n",
    "\n",
    "```\n",
    "x, m |  0  2    4  6  8    10   12    14    16\n",
    "H, m |  0  1.9  2  2  2.4  2.6  2.25  1.12  0\n",
    "```\n",
    "\n"
   ]
  },
  {
   "cell_type": "markdown",
   "metadata": {},
   "source": [
    "## Tasks\n",
    "\n",
    "* Determine the cross-sectional area, both by the trapezoidal rule and by the 1/3 Simpson's rule with multiple application.\n",
    "\n",
    "* Fit cuadratic splines to the points, and then calculate the area under that curve with multiple application, considering 25 segments. \n",
    "\n",
    "    * Hint: when you build a big sparse matrix, you don't need to write the zeroes. Just use `np.zeroes()` and fill in the non-zero values. If you're feeling adventurous, you can check the [documentation for sparse matrices in scipy]. \n",
    "    * Notice that when you build the matrix, you will have to arrange the rows in a certain way to avoid zeroes on the diagonal. It might be worth it to write a function to build the matrix, since it's pretty big.\n",
    "\n",
    "* Compare both measurements with the Python integration of the estimated section.\n",
    "\n",
    "* Plot both the measurements and your estimation of the shape of the cross-section. \n",
    "\n",
    "[documentation for sparse matrices in scipy]: https://docs.scipy.org/doc/scipy/reference/sparse.html"
   ]
  },
  {
   "cell_type": "markdown",
   "metadata": {},
   "source": [
    "## Solution\n",
    "\n"
   ]
  },
  {
   "cell_type": "code",
   "execution_count": 3,
   "metadata": {},
   "outputs": [],
   "source": [
    "import numpy as np\n",
    "import matplotlib.pyplot as plt\n",
    "%matplotlib inline\n",
    "\n",
    "xs = np.array([0, 2, 4, 6, 8, 10, 12, 15, 16])\n",
    "hs = np.array([0, 1.9, 2, 2, 2.4, 2.6, 2.25, 1.12, 0])"
   ]
  },
  {
   "cell_type": "markdown",
   "metadata": {},
   "source": [
    "### Trapezoidal rule"
   ]
  },
  {
   "cell_type": "code",
   "execution_count": 7,
   "metadata": {},
   "outputs": [
    {
     "data": {
      "text/plain": [
       "29.665000000000003"
      ]
     },
     "execution_count": 7,
     "metadata": {},
     "output_type": "execute_result"
    }
   ],
   "source": [
    "area = 0\n",
    "\n",
    "for segment in range(len(xs) - 1):\n",
    "    a = xs[segment]\n",
    "    b = xs[segment + 1]\n",
    "    ha = hs[segment]\n",
    "    hb = hs[segment + 1]\n",
    "    \n",
    "    \n",
    "    area += (b-a)*(hb + ha)/2\n",
    "    \n",
    "area"
   ]
  },
  {
   "cell_type": "markdown",
   "metadata": {},
   "source": [
    "### 1/3 Simpson's rule\n",
    "\n",
    "The equation is:\n",
    "\n",
    "$$\\int_a^b f(x)dx \\approx \\int_a^b f_2(x)dx \\approx \\frac{b-a}{6}[f(x_0) + 4f(x_1) +f(x_2)]$$\n",
    "\n",
    "We need three points for each segment, so we will only be able to get 4 segments."
   ]
  },
  {
   "cell_type": "code",
   "execution_count": 24,
   "metadata": {},
   "outputs": [
    {
     "data": {
      "text/plain": [
       "29.18666666666667"
      ]
     },
     "execution_count": 24,
     "metadata": {},
     "output_type": "execute_result"
    }
   ],
   "source": [
    "area = 0\n",
    "\n",
    "for segment in list(range(0,len(xs) - 1,2)):\n",
    "    a = xs[segment]\n",
    "    b = xs[segment + 2]\n",
    "    hx0 = hs[segment]\n",
    "    hx1 = hs[segment + 1]\n",
    "    hx2 = hs[segment + 2]\n",
    "    \n",
    "    \n",
    "    area += (b-a)*(hx0 + 4*hx1 + hx2)/6\n",
    "    \n",
    "area"
   ]
  },
  {
   "cell_type": "markdown",
   "metadata": {},
   "source": [
    "### Fit quadratic splines\n",
    "\n",
    "We have 9 points, so we'll fit 8 second-degree functions. Remember:\n",
    "\n",
    "* The function values of adjacent polynomials must be equal at the interior knots.\n",
    "* The first and last functions must pass through the end points.\n",
    "* The first derivatives at the interior knots must be equal.\n",
    "* Assume that the second derivative is zero at the first point\n",
    "\n",
    "All of that should add to 24 equations."
   ]
  },
  {
   "cell_type": "code",
   "execution_count": 106,
   "metadata": {},
   "outputs": [
    {
     "data": {
      "text/plain": [
       "array([[  2.,   0.,   0.,   0.,   0.,   0.,   0.,   0.,   0.,   0.],\n",
       "       [  0.,   0.,   1.,   0.,   0.,   0.,   0.,   0.,   0.,   0.],\n",
       "       [  4.,   2.,   1.,   0.,   0.,   0.,   0.,   0.,   0.,   0.],\n",
       "       [  4.,   1.,   0.,  -4.,  -1.,   0.,   0.,   0.,   0.,   0.],\n",
       "       [  0.,   0.,   0.,   4.,   2.,   1.,   0.,   0.,   0.,   0.],\n",
       "       [  0.,   0.,   0.,  16.,   4.,   1.,   0.,   0.,   0.,   0.],\n",
       "       [  0.,   0.,   0.,   8.,   1.,   0.,  -8.,  -1.,   0.,   0.],\n",
       "       [  0.,   0.,   0.,   0.,   0.,   0.,  16.,   4.,   1.,   0.],\n",
       "       [  0.,   0.,   0.,   0.,   0.,   0.,  16.,   4.,   1.,   0.],\n",
       "       [  0.,   0.,   0.,   0.,   0.,   0.,  12.,   1.,   0., -12.]])"
      ]
     },
     "execution_count": 106,
     "metadata": {},
     "output_type": "execute_result"
    }
   ],
   "source": [
    "AB = np.zeros((24,25))\n",
    "\n",
    "# f1'' at x=0\n",
    "AB[0,0] = 2\n",
    "\n",
    "# f1 at x=0\n",
    "AB[1, :3] = [0,0,1]\n",
    "AB[1,24] = 0\n",
    "\n",
    "# f1 at x=2\n",
    "AB[2, :3] = [4,2,1]\n",
    "AB[2,24] = 1.9\n",
    "\n",
    "# f1' and f2' at x=2\n",
    "AB[3, :2] = [4,1]\n",
    "AB[3, 3:5] = [-4,-1]\n",
    "\n",
    "# f2 at x=2\n",
    "AB[4, 3:6] = [4,2,1]\n",
    "AB[4, 24] = 1.9\n",
    "\n",
    "# f2 at x=4\n",
    "AB[5, 3:6] = [16,4,1]\n",
    "AB[5, 24] = 2\n",
    "\n",
    "# f2' and f3' at x=4\n",
    "AB[6, 3:5] = [8,1]\n",
    "AB[6, 6:8] = [-8,-1]\n",
    " \n",
    "# f3 at x=4\n",
    "AB[7, 6:9] = [16, 4, 1]\n",
    "AB[7, 24] = 2\n",
    "\n",
    "# f3 at x=6\n",
    "AB[8, 6:9] = [16, 4, 1]    \n",
    "AB[8, 24] = 2\n",
    "\n",
    "# f3' and f4; at x=6\n",
    "AB[9, 6:8] = [12, 1]\n",
    "AB[9, 9:11] = [-12, -1]\n",
    "\n",
    "# f4 at x=6\n",
    "AB[10, 9:12] = [36,6,1]\n",
    "AB[10, 24] = 2\n",
    "\n",
    "# f4 at x=8\n",
    "AB[11, 9:12] = [64,8,1]\n",
    "AB[11, 24] = 2.4\n",
    "\n",
    "# f4' and f5' at x=8\n",
    "AB[12, 9:11] = [16, 1]\n",
    "AB[12, 12:14] = [-16, -1]\n",
    "\n",
    "# f5 at x=8\n",
    "AB[13, 12:15] = [64, 8, 1]\n",
    "AB[13, 24] = 2.4\n",
    "\n",
    "# f5 at x=10\n",
    "AB[14, 12:15] = [100, 10, 1]\n",
    "AB[14, 24] = 2.6\n",
    "\n",
    "# f5' and f6' at x=10\n",
    "AB[15, 12:14] = [20, 1]\n",
    "AB[15, 15:17] = [-20, -1]\n",
    "\n",
    "# f6 at x=10\n",
    "AB[16, 15:18] = [100, 10, 1]\n",
    "AB[16, 24] = 2.6\n",
    "\n",
    "# f6 at x=12\n",
    "AB[17, 15:18] = [144, 12, 1]\n",
    "AB[17, 24] = 2.25\n",
    "\n",
    "# f6' and f7' at x=12\n",
    "AB[18, 15:17] = [24, 1]\n",
    "AB[18, 18:20] = [-24,-1]\n",
    "\n",
    "# f7 at x=12\n",
    "AB[19, 18:21] = [144, 12, 1]\n",
    "AB[19, 24] = 2.25\n",
    "\n",
    "# f7 at x=14\n",
    "AB[20, 18:21] = [176, 14, 1]\n",
    "AB[20, 24] = 1.12\n",
    "\n",
    "# f7' and f8' at x=14\n",
    "AB[21, 18:20] = [28, 1]\n",
    "AB[21, 21:23] = [-28,-1]\n",
    "\n",
    "# f8 at x=14\n",
    "AB[22, 21:24] = [176,14,1]\n",
    "AB[22, 24] = 1.12\n",
    "\n",
    "# f8 at x=16\n",
    "AB[23, 21:24] = [256, 16, 1]\n",
    "AB[23, 24] = 0\n",
    "\n",
    "AB[:10,:10]"
   ]
  },
  {
   "cell_type": "code",
   "execution_count": 111,
   "metadata": {},
   "outputs": [
    {
     "data": {
      "text/plain": [
       "array([  2.,   0.,   1.,  -4.,   2.,   1.,  -8.,   4.,   1., -12.,   6.,\n",
       "         1., -16.,   8.,   1., -20.,  10.,   1., -24.,  12.,   1., -28.,\n",
       "        14.,   1.])"
      ]
     },
     "execution_count": 111,
     "metadata": {},
     "output_type": "execute_result"
    }
   ],
   "source": [
    "AB.diagonal()"
   ]
  },
  {
   "cell_type": "code",
   "execution_count": 112,
   "metadata": {},
   "outputs": [
    {
     "data": {
      "text/plain": [
       "array([0.  , 0.  , 1.9 , 0.  , 1.9 , 2.  , 0.  , 2.  , 2.  , 0.  , 2.  ,\n",
       "       2.4 , 0.  , 2.4 , 2.6 , 0.  , 2.6 , 2.25, 0.  , 2.25, 1.12, 0.  ,\n",
       "       1.12, 0.  ])"
      ]
     },
     "execution_count": 112,
     "metadata": {},
     "output_type": "execute_result"
    }
   ],
   "source": [
    "AB[:,24]"
   ]
  },
  {
   "cell_type": "code",
   "execution_count": 113,
   "metadata": {},
   "outputs": [
    {
     "data": {
      "text/plain": [
       "0.0"
      ]
     },
     "execution_count": 113,
     "metadata": {},
     "output_type": "execute_result"
    }
   ],
   "source": [
    "la.det(AB[:,:24])"
   ]
  },
  {
   "cell_type": "code",
   "execution_count": 114,
   "metadata": {},
   "outputs": [
    {
     "ename": "LinAlgError",
     "evalue": "Singular matrix",
     "output_type": "error",
     "traceback": [
      "\u001b[0;31m---------------------------------------------------------------------------\u001b[0m",
      "\u001b[0;31mLinAlgError\u001b[0m                               Traceback (most recent call last)",
      "\u001b[0;32m<ipython-input-114-82fe87bca264>\u001b[0m in \u001b[0;36m<module>\u001b[0;34m\u001b[0m\n\u001b[0;32m----> 1\u001b[0;31m \u001b[0mla\u001b[0m\u001b[0;34m.\u001b[0m\u001b[0msolve\u001b[0m\u001b[0;34m(\u001b[0m\u001b[0mAB\u001b[0m\u001b[0;34m[\u001b[0m\u001b[0;34m:\u001b[0m\u001b[0;34m,\u001b[0m\u001b[0;34m:\u001b[0m\u001b[0;34m-\u001b[0m\u001b[0;36m1\u001b[0m\u001b[0;34m]\u001b[0m\u001b[0;34m,\u001b[0m \u001b[0mAB\u001b[0m\u001b[0;34m[\u001b[0m\u001b[0;34m:\u001b[0m\u001b[0;34m,\u001b[0m\u001b[0;34m-\u001b[0m\u001b[0;36m1\u001b[0m\u001b[0;34m]\u001b[0m\u001b[0;34m)\u001b[0m\u001b[0;34m\u001b[0m\u001b[0;34m\u001b[0m\u001b[0m\n\u001b[0m",
      "\u001b[0;32m~/anaconda3/envs/numerical_methods/lib/python3.7/site-packages/numpy/linalg/linalg.py\u001b[0m in \u001b[0;36msolve\u001b[0;34m(a, b)\u001b[0m\n\u001b[1;32m    392\u001b[0m     \u001b[0msignature\u001b[0m \u001b[0;34m=\u001b[0m \u001b[0;34m'DD->D'\u001b[0m \u001b[0;32mif\u001b[0m \u001b[0misComplexType\u001b[0m\u001b[0;34m(\u001b[0m\u001b[0mt\u001b[0m\u001b[0;34m)\u001b[0m \u001b[0;32melse\u001b[0m \u001b[0;34m'dd->d'\u001b[0m\u001b[0;34m\u001b[0m\u001b[0;34m\u001b[0m\u001b[0m\n\u001b[1;32m    393\u001b[0m     \u001b[0mextobj\u001b[0m \u001b[0;34m=\u001b[0m \u001b[0mget_linalg_error_extobj\u001b[0m\u001b[0;34m(\u001b[0m\u001b[0m_raise_linalgerror_singular\u001b[0m\u001b[0;34m)\u001b[0m\u001b[0;34m\u001b[0m\u001b[0;34m\u001b[0m\u001b[0m\n\u001b[0;32m--> 394\u001b[0;31m     \u001b[0mr\u001b[0m \u001b[0;34m=\u001b[0m \u001b[0mgufunc\u001b[0m\u001b[0;34m(\u001b[0m\u001b[0ma\u001b[0m\u001b[0;34m,\u001b[0m \u001b[0mb\u001b[0m\u001b[0;34m,\u001b[0m \u001b[0msignature\u001b[0m\u001b[0;34m=\u001b[0m\u001b[0msignature\u001b[0m\u001b[0;34m,\u001b[0m \u001b[0mextobj\u001b[0m\u001b[0;34m=\u001b[0m\u001b[0mextobj\u001b[0m\u001b[0;34m)\u001b[0m\u001b[0;34m\u001b[0m\u001b[0;34m\u001b[0m\u001b[0m\n\u001b[0m\u001b[1;32m    395\u001b[0m \u001b[0;34m\u001b[0m\u001b[0m\n\u001b[1;32m    396\u001b[0m     \u001b[0;32mreturn\u001b[0m \u001b[0mwrap\u001b[0m\u001b[0;34m(\u001b[0m\u001b[0mr\u001b[0m\u001b[0;34m.\u001b[0m\u001b[0mastype\u001b[0m\u001b[0;34m(\u001b[0m\u001b[0mresult_t\u001b[0m\u001b[0;34m,\u001b[0m \u001b[0mcopy\u001b[0m\u001b[0;34m=\u001b[0m\u001b[0;32mFalse\u001b[0m\u001b[0;34m)\u001b[0m\u001b[0;34m)\u001b[0m\u001b[0;34m\u001b[0m\u001b[0;34m\u001b[0m\u001b[0m\n",
      "\u001b[0;32m~/anaconda3/envs/numerical_methods/lib/python3.7/site-packages/numpy/linalg/linalg.py\u001b[0m in \u001b[0;36m_raise_linalgerror_singular\u001b[0;34m(err, flag)\u001b[0m\n\u001b[1;32m     87\u001b[0m \u001b[0;34m\u001b[0m\u001b[0m\n\u001b[1;32m     88\u001b[0m \u001b[0;32mdef\u001b[0m \u001b[0m_raise_linalgerror_singular\u001b[0m\u001b[0;34m(\u001b[0m\u001b[0merr\u001b[0m\u001b[0;34m,\u001b[0m \u001b[0mflag\u001b[0m\u001b[0;34m)\u001b[0m\u001b[0;34m:\u001b[0m\u001b[0;34m\u001b[0m\u001b[0;34m\u001b[0m\u001b[0m\n\u001b[0;32m---> 89\u001b[0;31m     \u001b[0;32mraise\u001b[0m \u001b[0mLinAlgError\u001b[0m\u001b[0;34m(\u001b[0m\u001b[0;34m\"Singular matrix\"\u001b[0m\u001b[0;34m)\u001b[0m\u001b[0;34m\u001b[0m\u001b[0;34m\u001b[0m\u001b[0m\n\u001b[0m\u001b[1;32m     90\u001b[0m \u001b[0;34m\u001b[0m\u001b[0m\n\u001b[1;32m     91\u001b[0m \u001b[0;32mdef\u001b[0m \u001b[0m_raise_linalgerror_nonposdef\u001b[0m\u001b[0;34m(\u001b[0m\u001b[0merr\u001b[0m\u001b[0;34m,\u001b[0m \u001b[0mflag\u001b[0m\u001b[0;34m)\u001b[0m\u001b[0;34m:\u001b[0m\u001b[0;34m\u001b[0m\u001b[0;34m\u001b[0m\u001b[0m\n",
      "\u001b[0;31mLinAlgError\u001b[0m: Singular matrix"
     ]
    }
   ],
   "source": [
    "la.solve(AB[:,:-1], AB[:,-1])"
   ]
  },
  {
   "cell_type": "code",
   "execution_count": null,
   "metadata": {},
   "outputs": [],
   "source": []
  }
 ],
 "metadata": {
  "kernelspec": {
   "display_name": "Python 3",
   "language": "python",
   "name": "python3"
  },
  "language_info": {
   "codemirror_mode": {
    "name": "ipython",
    "version": 3
   },
   "file_extension": ".py",
   "mimetype": "text/x-python",
   "name": "python",
   "nbconvert_exporter": "python",
   "pygments_lexer": "ipython3",
   "version": "3.7.2"
  }
 },
 "nbformat": 4,
 "nbformat_minor": 2
}
