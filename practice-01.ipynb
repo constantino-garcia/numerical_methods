{
 "cells": [
  {
   "cell_type": "markdown",
   "metadata": {},
   "source": [
    "# Practice session 1: sections 00, 01, 02"
   ]
  },
  {
   "cell_type": "markdown",
   "metadata": {},
   "source": [
    "# Background"
   ]
  },
  {
   "cell_type": "markdown",
   "metadata": {},
   "source": [
    "## Ideal and nonideal gas laws\n",
    "\n",
    "The ideal gas law is given by\n",
    "\n",
    "$$pV=nRT$$\n",
    "\n",
    "where p is the absolute pressure, V is the volume, n is the number of moles, R is the universal gas constant, and T is the absolute temperature.\n",
    "\n",
    "This is a good approximation for most uses, but it is a simplification of reality. A more accurate description is given by the _van der Waals equation_:\n",
    "\n",
    "$$\\left(p + \\frac{a}{v^2}\\right) (v -b) = RT$$\n",
    "\n",
    "where a and b are empirical values for each particular gas, and $v$ is the molal volume $v = V/n$"
   ]
  },
  {
   "cell_type": "markdown",
   "metadata": {},
   "source": [
    "# Problem\n",
    "\n",
    "## Background\n",
    "\n",
    "![Cell Incubator](https://media.biocompare.com/m/37/product/5754312-400x300.jpg)\n",
    "\n",
    "You are designing the containment system for the gases used in a cell incubator. Cell incubators need to regulate both oxygen and carbon dioxide in order to emulate the hypoxic conditions found inside organisms and therefore require a supply for both.\n",
    "\n",
    "In order to do that, you need to accurately estimate the molal volume of both oxygen and carbon dioxide. We will also compare how well the ideal gas law describes each gas at the presures and temperatures of interest.\n",
    "\n",
    "Pressures: 1, 10, 100 atm\n",
    "\n",
    "Temperatures: 273, 300, 350 K.\n",
    "\n"
   ]
  },
  {
   "cell_type": "markdown",
   "metadata": {},
   "source": [
    "## Data\n",
    "\n",
    "$R = 0.082054 \\frac{L\\ atm}{K\\ mol}$\n",
    "\n",
    "Carbon dioxide: $a=3.592$, $b=0.04267$.\n",
    "\n",
    "Oxygen: $a=1.360$, $b=0.03183$"
   ]
  },
  {
   "cell_type": "markdown",
   "metadata": {},
   "source": [
    "## Tasks\n",
    "\n",
    "* Use the Newton-Raphson function you coded in class to estimate the molal volume at the interesting temperatures and pressures with a $\\epsilon_s$ of $10^{-8}$ for both oxigen and carbon dioxide. \n",
    "\n",
    "* Compare them to the values obtained from the ideal gas law.\n",
    "\n",
    "* Plot the relative deviations that the ideal gas law incurs for both carbon dioxide and oxygen, for each of the temperatures and pressures."
   ]
  },
  {
   "cell_type": "markdown",
   "metadata": {},
   "source": [
    "## Solution\n",
    "\n",
    "First, we need the `newton-raphson` function from class:"
   ]
  },
  {
   "cell_type": "code",
   "execution_count": 1,
   "metadata": {},
   "outputs": [],
   "source": [
    "def newton_raphson(f, fprime, x0=1, es=0.0005, max_iterations=100):\n",
    "    \n",
    "    ea=1\n",
    "    iteration=0\n",
    "    \n",
    "    while abs(ea) > es and iteration < max_iterations:\n",
    "        x1 = x0 - f(x0) / fprime(x0)\n",
    "        ea = (x1 - x0) / x1\n",
    "        x0 = x1\n",
    "        iteration += 1\n",
    "    \n",
    "    return x0"
   ]
  },
  {
   "cell_type": "markdown",
   "metadata": {},
   "source": [
    "For it, we need an $f(x)$ and an $f'(x)$. The function we want to find the root for is:\n",
    "\n",
    "$$f(v) = \\left(p + \\frac{a}{v^2}\\right) (v -b) -RT$$\n",
    "\n",
    "and its first derivative is:\n",
    "\n",
    "$$f'(v) = -av^{-2} +2bv^{-3} + p$$\n",
    "\n",
    "The roots we find will be the values of $v$ that satisfy the van der Waals equation.\n",
    "\n",
    "Now we just have to code the functions:"
   ]
  },
  {
   "cell_type": "code",
   "execution_count": 2,
   "metadata": {},
   "outputs": [],
   "source": [
    "def f(v, p=1, t=300, a=1.360, b=0.03183):\n",
    "    R = 0.082054\n",
    "    return (p + a / v ** 2) * (v - b) - R * t\n",
    "    \n",
    "def fprime(v, p=1, t=300, a=1.360, b=0.03183):\n",
    "    return - a * v**-2 + 2*b*v**-3 + p"
   ]
  },
  {
   "cell_type": "markdown",
   "metadata": {},
   "source": [
    "`newton_raphson()` takes an f and an fprime that in turn take a single parameter, $v$. In order to fix the constants for each gas and the temperature and pressure values, we could bind them in named functions like these:"
   ]
  },
  {
   "cell_type": "code",
   "execution_count": 3,
   "metadata": {},
   "outputs": [
    {
     "data": {
      "text/plain": [
       "2.211286820036953"
      ]
     },
     "execution_count": 3,
     "metadata": {},
     "output_type": "execute_result"
    }
   ],
   "source": [
    "def f_withdifferentvalues(v):\n",
    "    return  f(v, 10, 273, 1.36, 0.03183)\n",
    "\n",
    "def fprimewith_different_values(v):\n",
    "    return fprime(v, 10, 273, 1.36, 0.03183)\n",
    "\n",
    "newton_raphson(f_withdifferentvalues, fprimewith_different_values)"
   ]
  },
  {
   "cell_type": "markdown",
   "metadata": {},
   "source": [
    "But it would get very laborious. It's a lot better to do this with anonymous functions."
   ]
  },
  {
   "cell_type": "code",
   "execution_count": 4,
   "metadata": {},
   "outputs": [],
   "source": [
    "temps = [273, 300, 350]\n",
    "presssures = [1, 10, 100]\n",
    "\n",
    "for temp in temps:\n",
    "    for press in presssures:\n",
    "        newton_raphson(lambda v: f(v, press, temp, 1.36, 0.03183), \n",
    "                       lambda v: fprime(v, press, temp, 1.36, 0.03183))"
   ]
  },
  {
   "cell_type": "markdown",
   "metadata": {},
   "source": [
    "There are a number of ways to store the results, but one could be a 3-dimensional array, in which we store the results for each gas, temperature, and pressure:"
   ]
  },
  {
   "cell_type": "code",
   "execution_count": 5,
   "metadata": {},
   "outputs": [],
   "source": [
    "import numpy as np\n",
    "\n",
    "temperatures = [273, 300, 350]\n",
    "pressures = [1, 10, 100]\n",
    "# a and b for oxygen and co2:\n",
    "gasses = [[1.36, 0.03183],[3.592 , 0.04267]]\n",
    "R = 0.082054\n",
    "\n",
    "# gasses, temps, pressures\n",
    "real_gasses = np.zeros((2,3,3))\n",
    "ideal_gas = np.zeros((3,3))\n",
    "\n",
    "# enumerate is useful to get both values and indices at\n",
    "# the same time. We unpack them in the loop declaration.\n",
    "for i, (a_gas, b_gas) in enumerate(gasses):\n",
    "    for j, temp in enumerate(temperatures):\n",
    "        for k, press in enumerate(pressures):\n",
    "            # Calculate v for a set of conditions\n",
    "            this_result = newton_raphson(lambda v: f(v, press, temp, a_gas, b_gas), \n",
    "                                         lambda v: fprime(v, press, temp, a_gas, b_gas))\n",
    "            \n",
    "            real_gasses[i,j,k] = this_result\n",
    "            # By placing this here, we are calculating twice the\n",
    "            # values for the ideal gas, but in this case it isn't\n",
    "            # very costly so we'll do it here for simplicity.\n",
    "            ideal_gas[j, k] = R * temp / press"
   ]
  },
  {
   "cell_type": "code",
   "execution_count": 6,
   "metadata": {},
   "outputs": [
    {
     "data": {
      "text/plain": [
       "array([[[2.23718679e+01, 2.21128682e+00, 1.98252106e-01],\n",
       "        [2.45928008e+01, 2.43840385e+00, 2.26356850e-01],\n",
       "        [2.87034014e+01, 2.85664212e+00, 2.75335051e-01]],\n",
       "\n",
       "       [[2.22825180e+01, 2.11644758e+00, 1.49950404e-03],\n",
       "        [2.45125881e+01, 2.35449559e+00, 6.41834573e-01],\n",
       "        [2.86363218e+01, 2.78767962e+00, 4.70788573e-02]]])"
      ]
     },
     "execution_count": 6,
     "metadata": {},
     "output_type": "execute_result"
    }
   ],
   "source": [
    "# values for oxygen and co2\n",
    "real_gasses"
   ]
  },
  {
   "cell_type": "code",
   "execution_count": 7,
   "metadata": {},
   "outputs": [
    {
     "data": {
      "text/plain": [
       "array([[22.400742  ,  2.2400742 ,  0.22400742],\n",
       "       [24.6162    ,  2.46162   ,  0.246162  ],\n",
       "       [28.7189    ,  2.87189   ,  0.287189  ]])"
      ]
     },
     "execution_count": 7,
     "metadata": {},
     "output_type": "execute_result"
    }
   ],
   "source": [
    "ideal_gas"
   ]
  },
  {
   "cell_type": "markdown",
   "metadata": {},
   "source": [
    "Now we are almost ready to plot! A nice advantage of saving the results in array form is that we can easily operate with them vectorially:"
   ]
  },
  {
   "cell_type": "code",
   "execution_count": 8,
   "metadata": {},
   "outputs": [
    {
     "data": {
      "text/plain": [
       "array([[[1.28898148e-03, 1.28510832e-02, 1.14975274e-01],\n",
       "        [9.50559462e-04, 9.43124981e-03, 8.04557558e-02],\n",
       "        [5.39665583e-04, 5.30935535e-03, 4.12757770e-02]],\n",
       "\n",
       "       [[5.27768120e-03, 5.51886291e-02, 9.93306007e-01],\n",
       "        [4.20909398e-03, 4.35178498e-02, 1.60736658e+00],\n",
       "        [2.87539580e-03, 2.93222854e-02, 8.36070124e-01]]])"
      ]
     },
     "execution_count": 8,
     "metadata": {},
     "output_type": "execute_result"
    }
   ],
   "source": [
    "deviations = np.abs(real_gasses - ideal_gas) / ideal_gas\n",
    "deviations"
   ]
  },
  {
   "cell_type": "markdown",
   "metadata": {},
   "source": [
    "If we give `plt.plot()` a two-dimensional array of (m, n) shape, it will draw n lines with m points each. We can use this to very quickly plot: "
   ]
  },
  {
   "cell_type": "code",
   "execution_count": 9,
   "metadata": {},
   "outputs": [
    {
     "data": {
      "image/png": "[encoded data removed]",
      "text/plain": [
       "<Figure size 432x288 with 1 Axes>"
      ]
     },
     "metadata": {
      "needs_background": "light"
     },
     "output_type": "display_data"
    }
   ],
   "source": [
    "import matplotlib.pyplot as plt\n",
    "%matplotlib inline\n",
    "\n",
    "for gas in [0,1]:\n",
    "    plt.plot(temps, deviations[gas, :,:])\n",
    "    "
   ]
  },
  {
   "cell_type": "markdown",
   "metadata": {},
   "source": [
    "As you can see, most of the time the ideal gas law is a good approximation to the behavior of real gasses, but sometimes it's not.\n",
    "\n",
    "That line far above all others corresponds to high pressures in $CO_2$.\n",
    "\n",
    "If you look again at the van der Waals equation, you will notice that it approximates the ideal gas law as a and b tend to zero, and that the differences will be bigger with bigger pressures and the bigger a and b are:\n",
    "\n",
    "$$\\left(p + \\frac{a}{v^2}\\right) (v -b) = RT$$\n"
   ]
  }
 ],
 "metadata": {
  "kernelspec": {
   "display_name": "Python 3",
   "language": "python",
   "name": "python3"
  },
  "language_info": {
   "codemirror_mode": {
    "name": "ipython",
    "version": 3
   },
   "file_extension": ".py",
   "mimetype": "text/x-python",
   "name": "python",
   "nbconvert_exporter": "python",
   "pygments_lexer": "ipython3",
   "version": "3.7.2"
  }
 },
 "nbformat": 4,
 "nbformat_minor": 2
}
