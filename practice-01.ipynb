{
 "cells": [
  {
   "cell_type": "markdown",
   "metadata": {},
   "source": [
    "# Practice session 1: sections 00, 01, 02"
   ]
  },
  {
   "cell_type": "markdown",
   "metadata": {},
   "source": [
    "# Background"
   ]
  },
  {
   "cell_type": "markdown",
   "metadata": {},
   "source": [
    "## Ideal and nonideal gas laws\n",
    "\n",
    "The ideal gas law is given by\n",
    "\n",
    "$$pV=nRT$$\n",
    "\n",
    "where p is the absolute pressure, V is the volume, n is the number of moles, R is the universal gas constant, and T is the absolute temperature.\n",
    "\n",
    "This is a good approximation for most uses, but it is a simplification of reality. A more accurate description is given by the _van der Waals equation_:\n",
    "\n",
    "$$\\left(p + \\frac{a}{v^2}\\right) (v -b) = RT$$\n",
    "\n",
    "where a and b are empirical values for each particular gas, and $v$ is the molal volume $v = V/n$"
   ]
  },
  {
   "cell_type": "markdown",
   "metadata": {},
   "source": [
    "# Problem\n",
    "\n",
    "## Background\n",
    "\n",
    "You are designing the containment system for the gases used in a cell incubator. Cell incubators need to regulate both oxygen and carbon dioxide in order to emulate the hypoxic conditions found inside organisms and therefore require a supply for both.\n",
    "\n",
    "In order to do that, you need to accurately estimate the molal volume of both oxygen and carbon dioxide. We will also compare how well the ideal gas law describes each gas at the presures and temperatures of interest.\n",
    "\n",
    "Pressures: 1, 10, 100 atm\n",
    "\n",
    "Temperatures: 273, 300, 350 K.\n",
    "\n"
   ]
  },
  {
   "cell_type": "markdown",
   "metadata": {},
   "source": [
    "## Data\n",
    "\n",
    "$R = 0.082054 \\frac{L\\ atm}{K\\ mol}$\n",
    "\n",
    "Carbon dioxide: $a=3.592$, $b=0.04267$.\n",
    "\n",
    "Oxygen: $a=1.360$, $b=0.03183$"
   ]
  },
  {
   "cell_type": "markdown",
   "metadata": {},
   "source": [
    "## Tasks\n",
    "\n",
    "* Use the Newton-Raphson function you coded in class to estimate the molal volume at the interesting temperatures and pressures with a $\\epsilon_s$ of $10^{-8}$ for both oxigen and carbon dioxide. \n",
    "\n",
    "* Compare them to the values obtained from the ideal gas law.\n",
    "\n",
    "* Plot the relative deviations that the ideal gas law incurs for both carbon dioxide and oxygen, for each of the temperatures and pressures."
   ]
  },
  {
   "cell_type": "code",
   "execution_count": null,
   "metadata": {},
   "outputs": [],
   "source": [
    "TODO"
   ]
  }
 ],
 "metadata": {
  "kernelspec": {
   "display_name": "Python 3",
   "language": "python",
   "name": "python3"
  },
  "language_info": {
   "codemirror_mode": {
    "name": "ipython",
    "version": 3
   },
   "file_extension": ".py",
   "mimetype": "text/x-python",
   "name": "python",
   "nbconvert_exporter": "python",
   "pygments_lexer": "ipython3",
   "version": "3.7.2"
  }
 },
 "nbformat": 4,
 "nbformat_minor": 2
}
