{
 "cells": [
  {
   "cell_type": "markdown",
   "metadata": {},
   "source": [
    "# Practice session 04 - section 05\n",
    "\n",
    "Numerical Curve Fitting"
   ]
  },
  {
   "cell_type": "markdown",
   "metadata": {},
   "source": [
    "## Background\n",
    "\n",
    "Population models are often based on the rate of change of the population being proportional to the size of the population itself. This is due to the fact that the more individuals there are, the more offspring they can produce.\n",
    "\n",
    "$$\\frac{dp}{dt} = kp$$\n",
    "\n",
    "If we integrate this, we get an exponential equation:\n",
    "\n",
    "$$p(t) = p_0e^{kt}$$\n",
    "\n",
    "In some cases, biological populations behave like this. Specifically, we can see exponential growth rates when the resources needed are not limiting, for example at the start of a bacterial culture, or when a species reaches a new habitat without competitors.\n",
    "\n",
    "However, at some point, real populations reduce their rate of growth k, usually by reduced survival rates. This can be modeled by replacing k for from a constant to \n",
    "\n",
    "$$k = k_{max}\\frac{f}{K + f}$$\n",
    "\n",
    "where $k_{max}$ is the maximum possible growth rate, f is the limiting resource, and K is the half-saturation constant."
   ]
  },
  {
   "cell_type": "code",
   "execution_count": 7,
   "metadata": {},
   "outputs": [
    {
     "data": {
      "image/png": "[encoded data removed]",
      "text/plain": [
       "<Figure size 432x288 with 1 Axes>"
      ]
     },
     "metadata": {
      "needs_background": "light"
     },
     "output_type": "display_data"
    }
   ],
   "source": [
    "import numpy as np\n",
    "import matplotlib.pyplot as plt\n",
    "%matplotlib inline\n",
    "\n",
    "K = 5\n",
    "f = np.linspace(0,50)\n",
    "kmax = 10\n",
    "k = kmax * f / (K + f)\n",
    "\n",
    "plt.plot(f, k);"
   ]
  },
  {
   "cell_type": "markdown",
   "metadata": {},
   "source": [
    "# Problem"
   ]
  },
  {
   "cell_type": "markdown",
   "metadata": {},
   "source": [
    "## Background\n",
    "\n",
    "We have characterized the growth rate of a pathogenic bacterium in a culture simulating its natural habitat, the human body. We have quantified its growth rate in $days^{-1}$ for different amounts of food (glucose, in this case) in the medium, measured in mg/l.\n"
   ]
  },
  {
   "cell_type": "markdown",
   "metadata": {},
   "source": [
    "## Data\n",
    "\n",
    "\n",
    "|f, mg/l|k, $days^{-1}$|\n",
    "|----|------|\n",
    "|7   | 0.29 |\n",
    "|9   | 0.37 |\n",
    "|15  | 0.48 |\n",
    "|25  | 0.65 |\n",
    "|40  | 0.80 |\n",
    "|75  | 0.97 |\n",
    "|100 | 0.99 |\n",
    "|150 | 1.07 |"
   ]
  },
  {
   "cell_type": "markdown",
   "metadata": {},
   "source": [
    "## Tasks\n",
    "\n",
    "Knowing that we if we invert the equation that relates f, k, K and k_max, it can take a linear form,\n",
    "\n",
    "* Estimate an equation to describe the relationship between f and k in this particular case, using linear regression. \n",
    "\n",
    "* Plot the equation and the points we have, once in inverted form and once in the regular form."
   ]
  }
 ],
 "metadata": {
  "kernelspec": {
   "display_name": "Python 3",
   "language": "python",
   "name": "python3"
  },
  "language_info": {
   "codemirror_mode": {
    "name": "ipython",
    "version": 3
   },
   "file_extension": ".py",
   "mimetype": "text/x-python",
   "name": "python",
   "nbconvert_exporter": "python",
   "pygments_lexer": "ipython3",
   "version": "3.7.2"
  }
 },
 "nbformat": 4,
 "nbformat_minor": 2
}
