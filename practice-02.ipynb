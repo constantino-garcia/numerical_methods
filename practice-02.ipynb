{
 "cells": [
  {
   "cell_type": "markdown",
   "metadata": {},
   "source": [
    "# Practice session 2: section 03"
   ]
  },
  {
   "cell_type": "markdown",
   "metadata": {},
   "source": [
    "# Background\n",
    "\n",
    "Water exposed to atmospheric $CO_2$ traps part of it in solution. Increasing CO2 concentrations in the atmosphere have been damped by the oceans, but at the same have resulted in an acidification that threatens marine ecosystems. \n",
    "\n",
    "Like seawater, rainwater also absorbs CO2. This leads to acidification. The pH of rainwater is governed by a series of chemical equilibria that can be summed in the following five equations with five unknowns:\n",
    "\n",
    "\n",
    "$$K_1 = 10^6\\frac{[H^+][HCO_3^-]}{K_H p_{CO_2}}$$\n",
    "\n",
    "$$K_2 = \\frac{[H^+][CO_3^{2-}]}{[HCO_3^-]}$$\n",
    "\n",
    "$$K_w = [H^+][OH^-]$$\n",
    "\n",
    "$$c_T = \\frac{K_H p_{CO_2}}{10^6} + [HCO_3^-] + [CO_3^{2-}]$$\n",
    "\n",
    "$$0 = [HCO_3^-] + 2[CO_3^{2-}] + [H^+]+[OH^-]$$\n",
    "\n",
    "where $K_H$ = Henry’s constant, and K_1 , K_2 and K_w are equilibrium coefficients.\n",
    "\n",
    "The unkowns are therefore $c_T$, $[CO_3^{2-}]$, $[HCO_3^-]$ $[H^+]$, and $[OH^-]$."
   ]
  },
  {
   "cell_type": "markdown",
   "metadata": {},
   "source": [
    "# Problem"
   ]
  },
  {
   "cell_type": "markdown",
   "metadata": {},
   "source": [
    "## Background\n",
    "\n",
    "You are worried that the increase in atmospheric CO2 might endanger the local ecosystem in your area, so you want to calculate how much the increase in atmospheric CO2 has acidificated rainwater.\n",
    "\n",
    "You have data for the atmospheric CO2 concentration in 1958 and 2003. "
   ]
  },
  {
   "cell_type": "markdown",
   "metadata": {},
   "source": [
    "## Data\n",
    "\n",
    "$K_H = 10^{ −1.46}$\n",
    "\n",
    "$K_1 = 10^{−6.3}$\n",
    "\n",
    "$K^2 = 10^{−10.3}$\n",
    "\n",
    "$K_w = 10^{−14}$\n",
    "\n",
    "$p_{CO_2(1958)} = 315ppm$\n",
    "\n",
    "$p_{CO_2(2003)} = 375ppm$"
   ]
  },
  {
   "cell_type": "markdown",
   "metadata": {},
   "source": [
    "## Tasks\n",
    "\n",
    "Employing the parameters above and the program developed in class, solve this system for conditions between 1958 and 2019. Assume the increase in CO2 has been linear and sustained beyond 2003. \n",
    "\n",
    "* Solve the system for each year between 1958 and 2019\n",
    "\n",
    "* Plot the increases in CO2 and the evolution of pH."
   ]
  },
  {
   "cell_type": "code",
   "execution_count": null,
   "metadata": {},
   "outputs": [],
   "source": [
    "TODO"
   ]
  }
 ],
 "metadata": {
  "kernelspec": {
   "display_name": "Python 3",
   "language": "python",
   "name": "python3"
  },
  "language_info": {
   "codemirror_mode": {
    "name": "ipython",
    "version": 3
   },
   "file_extension": ".py",
   "mimetype": "text/x-python",
   "name": "python",
   "nbconvert_exporter": "python",
   "pygments_lexer": "ipython3",
   "version": "3.7.2"
  }
 },
 "nbformat": 4,
 "nbformat_minor": 2
}
