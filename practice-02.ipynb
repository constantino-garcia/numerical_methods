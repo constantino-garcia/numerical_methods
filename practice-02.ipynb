{
 "cells": [
  {
   "cell_type": "markdown",
   "metadata": {},
   "source": [
    "# Practice session 2: section 03\n",
    "\n",
    "One of the most important organizing principles in chemical engineering is the _conservation of mass_. Simply put, if the system is not changing total mass, then the outputs must balance the inputs."
   ]
  },
  {
   "cell_type": "markdown",
   "metadata": {},
   "source": [
    "# Background\n",
    "\n",
    "Mass balance dictates that the flow of a substance through a reactor must be balanced: input must be equal to output. In particular, for a reactor with an input flow from two pipes $Q_{in1}$ and $Q_{in2}$, and output flow, $Q_{out}$ the concentration in the inputs and output must be such that the following equation holds:\n",
    "\n",
    "$$Q_{in1}c_{in1} + Q_{in2}c_{in2} = Q_{out}c_{out}$$\n",
    "\n",
    "assuming that the reactor is well-mixed and at steady state. Units are irrelevant as long as they are consistent, but in this practice we will use $mg/m^3$ for concentration and $m^3/min$ for flow rates.\n",
    "\n",
    "For example, if the flows mentioned above are:\n",
    "\n",
    "$$Q_{in1} = 2$$\n",
    "\n",
    "$$c_{in1} = 25$$\n",
    "\n",
    "$$Q_{in2} = 1.5$$\n",
    "\n",
    "$$c_{in2} = 10$$\n",
    "\n",
    "we can calculate $Q_{out}$, because the volume of the reactor is constant:\n",
    "\n",
    "$$Q_{out} = 2 + 1.5$$\n",
    "\n",
    "And then use that to calculate $c_{out}$ \n",
    "\n",
    "$$50 + 15 = 3.5c_{out}$$\n",
    "\n",
    "$$c_{out} = 18.6\\ mg/m^3$$"
   ]
  },
  {
   "cell_type": "markdown",
   "metadata": {},
   "source": [
    "# Problem"
   ]
  },
  {
   "cell_type": "markdown",
   "metadata": {},
   "source": [
    "## Background\n",
    "\n",
    "You have been tasked with determining the mass flow through a system of interconnected reactors that are used in the design of a bioreactor to produce a medicament.\n",
    "\n",
    "Since we have a system with 5 unknowns, we will need at least 5 equations to solve it.\n",
    "\n"
   ]
  },
  {
   "cell_type": "markdown",
   "metadata": {},
   "source": [
    "## Data\n",
    "\n",
    "The flows through the 5 reactors are depicted in the following diagram:\n",
    "\n",
    "![reactor diagram](images/reactor-diagram.png)"
   ]
  },
  {
   "cell_type": "markdown",
   "metadata": {},
   "source": [
    "## Tasks\n",
    "\n",
    "* Set out the system. Each equation will represent the mass balance in one of the reactors.\n",
    "\n",
    "* Solve the system to determine the concentrations in each of the reactors, applying any of the methods we developed in class.\n"
   ]
  },
  {
   "cell_type": "code",
   "execution_count": 11,
   "metadata": {},
   "outputs": [
    {
     "data": {
      "text/plain": [
       "array([[  6,   0,  -1,   0,   0,  50],\n",
       "       [ -3,   3,   0,   0,   0,   0],\n",
       "       [  0,  -1,   9,   0,   0, 160],\n",
       "       [  0,  -2,  -8,  11,  -2,   0],\n",
       "       [ -3,  -1,   0,   0,   4,   0]])"
      ]
     },
     "execution_count": 11,
     "metadata": {},
     "output_type": "execute_result"
    }
   ],
   "source": [
    "import numpy as np\n",
    "\n",
    "AB = np.array([[6, 0, -1, 0, 0, 50], \n",
    "               [-3, 3, 0, 0, 0, 0], \n",
    "               [0, -1, 9, 0, 0, 160],\n",
    "               [0, -2, -8, 11, -2, 0],\n",
    "               [-3, -1, 0, 0, 4, 0]])\n",
    "\n",
    "AB"
   ]
  },
  {
   "cell_type": "code",
   "execution_count": 12,
   "metadata": {},
   "outputs": [
    {
     "data": {
      "text/plain": [
       "array([[ 1,  0,  0,  0,  0, 11],\n",
       "       [ 0,  1,  0,  0,  0,  8],\n",
       "       [ 0,  0,  1,  0,  0, 18],\n",
       "       [ 0,  0,  0,  1,  0, 16],\n",
       "       [ 0,  0,  0,  0,  1,  8]])"
      ]
     },
     "execution_count": 12,
     "metadata": {},
     "output_type": "execute_result"
    }
   ],
   "source": [
    "def gauss_jordan(A, B):\n",
    "    AB = np.concatenate((A, B.reshape(-1,1)), axis=1)\n",
    "    n = A.shape[0]\n",
    "    \n",
    "    for row in range(n):\n",
    "        others = list(range(n))\n",
    "        others.remove(row)\n",
    "        \n",
    "        for other_row in others:\n",
    "            # Eliminate column row from other rows\n",
    "            AB[other_row] = AB[other_row] - AB[row] * AB[other_row,row] / AB[row,row]\n",
    "\n",
    "    # normalize \n",
    "    for row in range(n):\n",
    "        \n",
    "        AB[row] = AB[row] / AB[row,row]\n",
    "    \n",
    "    return AB\n",
    "\n",
    "gauss_jordan(AB[:,:5],AB[:,5])"
   ]
  }
 ],
 "metadata": {
  "kernelspec": {
   "display_name": "Python 3",
   "language": "python",
   "name": "python3"
  },
  "language_info": {
   "codemirror_mode": {
    "name": "ipython",
    "version": 3
   },
   "file_extension": ".py",
   "mimetype": "text/x-python",
   "name": "python",
   "nbconvert_exporter": "python",
   "pygments_lexer": "ipython3",
   "version": "3.7.2"
  }
 },
 "nbformat": 4,
 "nbformat_minor": 2
}
