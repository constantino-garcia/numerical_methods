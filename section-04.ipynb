{
 "cells": [
  {
   "cell_type": "markdown",
   "metadata": {},
   "source": [
    "# Optimization\n",
    "\n",
    "Finding maxima and minima of a function $f(x)$.\n"
   ]
  },
  {
   "cell_type": "markdown",
   "metadata": {},
   "source": [
    "## Motivation\n",
    "\n",
    "Many problems in engineering involve optimization. There will be often a set of constraints and an objective, and the engineer wil need to achieve optimally the objective (maximize speed, effectiveness, minimize cost) within the constraints. We will learn here how to combine those."
   ]
  },
  {
   "cell_type": "markdown",
   "metadata": {},
   "source": [
    "# One-dimensional unconstrained optimization"
   ]
  },
  {
   "cell_type": "markdown",
   "metadata": {},
   "source": [
    "## Newton's method\n",
    "\n",
    "Basically, finding the zeros of $f'(x)$ through Newton-Rhapson. Therefore, we need to be able to calculate $f''(x)$."
   ]
  },
  {
   "cell_type": "markdown",
   "metadata": {},
   "source": [
    "### Example\n",
    "\n",
    "Use Newton’s method to find the\n",
    "maximum of\n",
    "\n",
    "$$f(x) = 2 sin(x) − \\frac{x^2}{2} $$\n",
    "\n",
    "Use\n",
    "\n",
    "$$x_0 = 2.5$$"
   ]
  },
  {
   "cell_type": "markdown",
   "metadata": {},
   "source": [
    "We will need $f'(x)$ and $f''(x)$. Luckily, these ones are easy:\n",
    "\n",
    "$$f'(x) = 2cos(x) - x$$\n",
    "\n",
    "$$f''(x) = -2sin(x) - 1$$"
   ]
  },
  {
   "cell_type": "code",
   "execution_count": 14,
   "metadata": {},
   "outputs": [],
   "source": [
    "import numpy as np\n",
    "import matplotlib.pyplot as plt\n",
    "%matplotlib inline\n",
    "\n",
    "def f(x):\n",
    "    return 2 * np.sin(x) - (x ** 2) / 2\n",
    "\n",
    "def f_prime(x):\n",
    "    return 2 * np.cos(x) - x\n",
    "\n",
    "def f_primeprime(x):\n",
    "    return -2 * np.sin(x) - 1"
   ]
  },
  {
   "cell_type": "markdown",
   "metadata": {},
   "source": [
    "With that, we can just copy over the `newton_raphson` function from section 02 and apply it to our current problem:"
   ]
  },
  {
   "cell_type": "code",
   "execution_count": 19,
   "metadata": {},
   "outputs": [
    {
     "data": {
      "text/plain": [
       "(1.029866529322259,\n",
       " (0.6327304232916271,\n",
       "  1.0817625428130564,\n",
       "  1.0303387747040045,\n",
       "  1.0298665715985984,\n",
       "  1.029866529322259))"
      ]
     },
     "execution_count": 19,
     "metadata": {},
     "output_type": "execute_result"
    }
   ],
   "source": [
    "def newton_raphson(f, f_prime, x_0=0, e_s=1e-5, max_iter=100, history=(), debug=False):\n",
    "    '''Calculate a zero of f by closing in on it using the gradient'''\n",
    "    n=0\n",
    "    e_a = 1e9 \n",
    "    \n",
    "    while n < max_iter and e_a > e_s:\n",
    "        n += 1\n",
    "        x_1 = x_0 - (f(x_0) / f_prime(x_0))\n",
    "        e_a = abs(x_1 - x_0)\n",
    "        history += (x_1,)\n",
    "        x_0 = x_1\n",
    "    \n",
    "    return x_1, history\n",
    "\n",
    "maximum, history = newton_raphson(f_prime, f_primeprime, 2.5)\n",
    "maximum, history"
   ]
  },
  {
   "cell_type": "code",
   "execution_count": 1,
   "metadata": {},
   "outputs": [
    {
     "ename": "NameError",
     "evalue": "name 'np' is not defined",
     "output_type": "error",
     "traceback": [
      "\u001b[0;31m---------------------------------------------------------------------------\u001b[0m",
      "\u001b[0;31mNameError\u001b[0m                                 Traceback (most recent call last)",
      "\u001b[0;32m<ipython-input-1-9066c643b2c9>\u001b[0m in \u001b[0;36m<module>\u001b[0;34m\u001b[0m\n\u001b[0;32m----> 1\u001b[0;31m \u001b[0mxs\u001b[0m \u001b[0;34m=\u001b[0m \u001b[0mnp\u001b[0m\u001b[0;34m.\u001b[0m\u001b[0mlinspace\u001b[0m\u001b[0;34m(\u001b[0m\u001b[0;34m-\u001b[0m\u001b[0;36m3\u001b[0m\u001b[0;34m,\u001b[0m \u001b[0;36m3\u001b[0m\u001b[0;34m)\u001b[0m\u001b[0;34m\u001b[0m\u001b[0;34m\u001b[0m\u001b[0m\n\u001b[0m\u001b[1;32m      2\u001b[0m \u001b[0mys\u001b[0m \u001b[0;34m=\u001b[0m \u001b[0mf\u001b[0m\u001b[0;34m(\u001b[0m\u001b[0mxs\u001b[0m\u001b[0;34m)\u001b[0m\u001b[0;34m\u001b[0m\u001b[0;34m\u001b[0m\u001b[0m\n\u001b[1;32m      3\u001b[0m \u001b[0;34m\u001b[0m\u001b[0m\n\u001b[1;32m      4\u001b[0m \u001b[0;34m\u001b[0m\u001b[0m\n\u001b[1;32m      5\u001b[0m \u001b[0mplt\u001b[0m\u001b[0;34m.\u001b[0m\u001b[0mplot\u001b[0m\u001b[0;34m(\u001b[0m\u001b[0mxs\u001b[0m\u001b[0;34m,\u001b[0m \u001b[0mys\u001b[0m\u001b[0;34m)\u001b[0m\u001b[0;34m\u001b[0m\u001b[0;34m\u001b[0m\u001b[0m\n",
      "\u001b[0;31mNameError\u001b[0m: name 'np' is not defined"
     ]
    }
   ],
   "source": [
    "xs = np.linspace(-3, 3)\n",
    "ys = f(xs)\n",
    "\n",
    "\n",
    "plt.plot(xs, ys)\n",
    "plt.axvline(maximum, linestyle='--', c='black')"
   ]
  },
  {
   "cell_type": "markdown",
   "metadata": {},
   "source": [
    "# Multidimensional unconstrained optimization\n",
    "\n",
    "It's much the same, but now our function will take a vector instead of a scalar.\n",
    "\n",
    "$$f\\left(\\underline{x} \\right): \\Bbb{R}^n \\rightarrow \\Bbb{R}$$\n",
    "\n",
    "* Direct Methods: or _nongradient_, because they don't require that we evaluate the derivative.\n",
    "\n",
    "* Gradient Methods: Also known as _descent_ methods."
   ]
  },
  {
   "cell_type": "code",
   "execution_count": null,
   "metadata": {},
   "outputs": [],
   "source": []
  },
  {
   "cell_type": "markdown",
   "metadata": {},
   "source": [
    "## Direct Methods"
   ]
  },
  {
   "cell_type": "markdown",
   "metadata": {},
   "source": [
    "### Random Search\n",
    "\n",
    "Or brute force. It can work for discontinuous, non-differentiable functions. However, it is extremely computationally expensive."
   ]
  },
  {
   "cell_type": "markdown",
   "metadata": {},
   "source": [
    "### Heuristic approaches\n",
    "\n",
    "They try to make educated guesses instead of guessing wildly.\n",
    "\n",
    "* Genetic Algorithms\n",
    "* Simulated Annealing\n",
    "* Taboo Search\n",
    "* Artificial Neural Networks.\n",
    "\n",
    "TODO: prepare one example and a bit of explanation of each of these."
   ]
  },
  {
   "cell_type": "markdown",
   "metadata": {},
   "source": [
    "## Gradient Methods\n",
    "\n",
    "The gradient indicates the maximum growth direction, while the Hessian matrix indicates the convexity.\n",
    "\n",
    "\n",
    "<img src=\"http://ludovicarnold.altervista.org/wp-content/uploads/2015/01/gradient-trajectory.png\" alt=\"Gradient descent\" style=\"width: 600px; float: left;\"/>\n",
    "\n",
    "TODO: include the [Hessian](https://www.khanacademy.org/math/multivariable-calculus/applications-of-multivariable-derivatives/quadratic-approximations/a/the-hessian) and an explanation of why its determinant shows convexity.\n",
    "\n",
    "If we can't calculate the derivatives, we can approximate them numerically.\n",
    "\n",
    "TODO: understand section4 slides 18-23 (Taylor series, Newton's method for multiavariate case) "
   ]
  },
  {
   "cell_type": "markdown",
   "metadata": {},
   "source": [
    "### Example \n",
    "\n",
    "Consider\n",
    "\n",
    "$$f(x,y) = 2xy + 3x + 5y^3 + x^ 2$$\n",
    "\n",
    "* Find all critical points analytically.\n",
    "* For each point, decide whether it’s a maximum, a minimum or a saddle point.\n",
    "* Perform 3 iterations of the Newton method using $(x_0 , y_0) = (−3, 0)$.\n",
    "* Plot it using `numpy` and `matplotlib`."
   ]
  },
  {
   "cell_type": "code",
   "execution_count": 43,
   "metadata": {},
   "outputs": [],
   "source": [
    "# TODO: do the example"
   ]
  },
  {
   "cell_type": "markdown",
   "metadata": {},
   "source": [
    "### Plotting Bidimensional functions \n",
    "\n",
    "We need to create a meshgrid. \n",
    "\n",
    "See [pyplot.contour](https://matplotlib.org/api/_as_gen/matplotlib.pyplot.contour.html) and [numpy.meshgrid](https://docs.scipy.org/doc/numpy/reference/generated/numpy.meshgrid.html#numpy.meshgrid)\n",
    "\n",
    "Example: \n",
    "\n",
    "$$f(x) = e^{-(x - 1)^2 - (y-1)^2}$$\n",
    "\n",
    "```python\n",
    "xs = np.linspace(-3, 3)\n",
    "ys = np.linspace(-3, 3)\n",
    "xs, ys = np.meshgrid(xs, ys)\n",
    "\n",
    "zs = np.exp(-(xs - 1)**2 - (ys - 1)**2)\n",
    "plt.contour(xs, ys, zs);\n",
    "\n",
    "```"
   ]
  },
  {
   "cell_type": "code",
   "execution_count": 44,
   "metadata": {},
   "outputs": [
    {
     "data": {
      "image/png": "[encoded data removed]",
      "text/plain": [
       "<Figure size 432x288 with 1 Axes>"
      ]
     },
     "metadata": {
      "needs_background": "light"
     },
     "output_type": "display_data"
    }
   ],
   "source": [
    "xs = np.linspace(-3, 3)\n",
    "ys = np.linspace(-3, 3)\n",
    "xs, ys = np.meshgrid(xs, ys)\n",
    "\n",
    "zs = np.exp(-(xs - 1)**2 - (ys - 1)**2)\n",
    "plt.contour(xs, ys, zs);"
   ]
  },
  {
   "cell_type": "markdown",
   "metadata": {},
   "source": [
    "#### Exercise\n",
    "\n",
    "Plot \n",
    "\n",
    "$$ f(x,y) = x^2 - y^2$$\n",
    "\n",
    "using a contour plot."
   ]
  },
  {
   "cell_type": "code",
   "execution_count": 41,
   "metadata": {},
   "outputs": [
    {
     "data": {
      "image/png": "[encoded data removed]",
      "text/plain": [
       "<Figure size 432x288 with 1 Axes>"
      ]
     },
     "metadata": {
      "needs_background": "light"
     },
     "output_type": "display_data"
    }
   ],
   "source": [
    "zs = xs ** 2 - ys **2\n",
    "plt.contour(xs, ys, zs);"
   ]
  },
  {
   "cell_type": "markdown",
   "metadata": {},
   "source": [
    "# Constrained optimization \n",
    "\n",
    "* Objective function\n",
    "* Restrictions"
   ]
  },
  {
   "cell_type": "markdown",
   "metadata": {},
   "source": [
    "## Linear programming\n",
    "\n",
    "Objective function and constraints are all linear.\n",
    "\n",
    "\"Programming\" here is used as \"scheduling\", not \"computer programming\"."
   ]
  },
  {
   "cell_type": "markdown",
   "metadata": {},
   "source": [
    "#### Example\n",
    "\n",
    "TODO: the gas-processing plant"
   ]
  },
  {
   "cell_type": "code",
   "execution_count": null,
   "metadata": {},
   "outputs": [],
   "source": []
  },
  {
   "cell_type": "markdown",
   "metadata": {},
   "source": [
    "## Nonlinear programming\n",
    "\n",
    "* Indirect methods\n",
    "* Direct methods: generalized gradient search"
   ]
  },
  {
   "cell_type": "code",
   "execution_count": null,
   "metadata": {},
   "outputs": [],
   "source": []
  },
  {
   "cell_type": "markdown",
   "metadata": {},
   "source": [
    "# Problems"
   ]
  },
  {
   "cell_type": "markdown",
   "metadata": {},
   "source": [
    "#### Exercise\n",
    "\n",
    "The trajectory of a ball can be computed with\n",
    "\n",
    "$$y =(tan\\theta_0)x - \\frac{g}{2v_0^2cos^2\\theta_0}x^2 + y_0$$\n",
    "\n",
    "where $y$ = the height (m), $\\theta_0$ = the initial angle (radians), $v_0$ = the initial velocity (m/s), $g$ = the gravitational constant $9.81 m/s^2$, and $y_0$ = the initial height (m). \n",
    "\n",
    "Use bisection search like we did in section 02 to find roots of equations, but this time to determine the maximum height given $y_0 = 1 m$, $v_0 = 25 m/s$ and $\\theta_0= 50$. Iterate until the approximate error falls below $\\epsilon_s = 1%$ using initial guesses of $x_l = 0$ and $x_u = 60 m$."
   ]
  },
  {
   "cell_type": "code",
   "execution_count": null,
   "metadata": {},
   "outputs": [],
   "source": []
  },
  {
   "cell_type": "markdown",
   "metadata": {},
   "source": [
    "#### Exercise\n",
    "\n",
    "Perform three iterations of the optimal gradient steepest descent method to locate the minimum of \n",
    "\n",
    "$$f(x, y) = −8x + x^2 + 12y + 4y^2 − 2x y$$\n",
    "\n",
    "using initial guesses $x = 0$ and $y = 0$.\n",
    "\n",
    "Plot the function and the steps you took."
   ]
  },
  {
   "cell_type": "code",
   "execution_count": null,
   "metadata": {},
   "outputs": [],
   "source": []
  },
  {
   "cell_type": "markdown",
   "metadata": {},
   "source": [
    "#### Exercise\n",
    "\n",
    "Given the following function,\n",
    "\n",
    "$$f(x, y) = −8x + x^2 + 12y + 4y^2 − 2x y$$\n",
    "\n",
    "use Python to determine the minimum:\n",
    "\n",
    "* Graphically.\n",
    "* Numerically.\n",
    "* Substitute the result of (b) back into the function to determine the minimum $f (x, y)$.\n",
    "* Determine the Hessian and its determinant, and substitute the result of part (b) back into the latter to verify that a minimum has been detected."
   ]
  },
  {
   "cell_type": "code",
   "execution_count": null,
   "metadata": {},
   "outputs": [],
   "source": []
  },
  {
   "cell_type": "markdown",
   "metadata": {},
   "source": [
    "# Further reading\n",
    "\n",
    "TODO"
   ]
  }
 ],
 "metadata": {
  "kernelspec": {
   "display_name": "Python 3",
   "language": "python",
   "name": "python3"
  },
  "language_info": {
   "codemirror_mode": {
    "name": "ipython",
    "version": 3
   },
   "file_extension": ".py",
   "mimetype": "text/x-python",
   "name": "python",
   "nbconvert_exporter": "python",
   "pygments_lexer": "ipython3",
   "version": "3.7.2"
  }
 },
 "nbformat": 4,
 "nbformat_minor": 2
}
