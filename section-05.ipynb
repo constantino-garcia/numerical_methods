{
 "cells": [
  {
   "cell_type": "markdown",
   "metadata": {},
   "source": [
    "# Curve Fitting\n",
    "\n",
    "Fit a curve as closely as possible to a set of given points."
   ]
  },
  {
   "cell_type": "markdown",
   "metadata": {},
   "source": [
    "## Motivation\n",
    "\n",
    "TODO TODO TODO"
   ]
  },
  {
   "cell_type": "markdown",
   "metadata": {
    "toc-hr-collapsed": false
   },
   "source": [
    "# Regression"
   ]
  },
  {
   "cell_type": "markdown",
   "metadata": {},
   "source": [
    "## Linear Regression\n",
    "\n",
    "We want to fit a line of the general form\n",
    "\n",
    "$$y = ax + b$$\n",
    "\n",
    "to a set of points $(x_1,y_1), (x_2,y_2), (x_3,y_3),\\ldots, (x_n,y_n)$\n",
    "\n",
    "![Linear Regression](https://uc-r.github.io/public/images/analytics/regression/sq.errors-1.png)"
   ]
  },
  {
   "cell_type": "markdown",
   "metadata": {},
   "source": [
    "If we express those points as \n",
    "\n",
    "$$y_i = \\beta_0 + \\beta_1 x_i + e_i$$ \n",
    "\n",
    "We have an objective for an optimization problem: minimize the error terms $e_i$. More precisely, we'll minimize the square errors.\n",
    "\n",
    "$$\\min_{\\beta_0, \\beta_1}\\sum_{i=1}^n e_i^2 = \\sum_{i=1}^n (y_i - \\beta_0 -\\beta_1x_i)^2$$\n",
    "\n",
    "TODO: slide 8 section 5"
   ]
  },
  {
   "cell_type": "markdown",
   "metadata": {},
   "source": [
    "### Linear Regression with Python\n",
    "\n",
    "Very easy to do with the [scikit-learn](https://scikit-learn.org/) package.\n",
    "\n",
    "scikit-learn works flawlessly with numpy and also allows us to fit Machine Learning models that are a lot more flexible, like Random Forests or Artificial Neural Networks."
   ]
  },
  {
   "cell_type": "markdown",
   "metadata": {},
   "source": [
    "#### Example \n",
    "\n",
    "Create random points that approximately fit the line\n",
    "\n",
    "$$y = 2x + 10$$\n",
    "\n",
    "Plot them, fit a line using `LinearRegression` from the `sklearn.linear_model` package, and plot both the points and the line together."
   ]
  },
  {
   "cell_type": "code",
   "execution_count": 1,
   "metadata": {},
   "outputs": [
    {
     "data": {
      "image/png": "[encoded data removed]",
      "text/plain": [
       "<Figure size 432x288 with 1 Axes>"
      ]
     },
     "metadata": {
      "needs_background": "light"
     },
     "output_type": "display_data"
    }
   ],
   "source": [
    "import numpy as np\n",
    "import matplotlib.pyplot as plt\n",
    "from sklearn.linear_model import LinearRegression\n",
    "%matplotlib inline\n",
    "\n",
    "npoints = 50\n",
    "xs = 20 *  np.random.randn(npoints) + 30\n",
    "ys = 2 * xs + 10 + np.random.randn(npoints) * 10\n",
    "\n",
    "plt.scatter(xs, ys);"
   ]
  },
  {
   "cell_type": "code",
   "execution_count": 2,
   "metadata": {},
   "outputs": [
    {
     "data": {
      "text/plain": [
       "(array([2.07092181]), 7.453164014316762)"
      ]
     },
     "execution_count": 2,
     "metadata": {},
     "output_type": "execute_result"
    }
   ],
   "source": [
    "lm = LinearRegression()\n",
    "lm.fit(xs.reshape(-1,1), ys)\n",
    "\n",
    "lm.coef_, lm.intercept_"
   ]
  },
  {
   "cell_type": "code",
   "execution_count": 3,
   "metadata": {},
   "outputs": [
    {
     "data": {
      "text/plain": [
       "[<matplotlib.lines.Line2D at 0x7fd727624240>]"
      ]
     },
     "execution_count": 3,
     "metadata": {},
     "output_type": "execute_result"
    },
    {
     "data": {
      "image/png": "[encoded data removed]",
      "text/plain": [
       "<Figure size 432x288 with 1 Axes>"
      ]
     },
     "metadata": {
      "needs_background": "light"
     },
     "output_type": "display_data"
    }
   ],
   "source": [
    "plt.scatter(xs, ys);\n",
    "plt.plot(xs, lm.predict(xs.reshape(-1,1)), c='Orange')"
   ]
  },
  {
   "cell_type": "markdown",
   "metadata": {},
   "source": [
    "### Multivariable linear regression with Python\n",
    "\n",
    "Same thing, with more dimensions"
   ]
  },
  {
   "cell_type": "code",
   "execution_count": 4,
   "metadata": {},
   "outputs": [
    {
     "data": {
      "text/plain": [
       "(array([2.00012234, 3.98332559, 7.02949643]), 17.429071166896392)"
      ]
     },
     "execution_count": 4,
     "metadata": {},
     "output_type": "execute_result"
    }
   ],
   "source": [
    "# Create random input points\n",
    "npoints = 50\n",
    "ndims = 3\n",
    "xs = 20 *  np.random.randn(npoints, ndims) + 30\n",
    "ys = 2 * xs[:, 0] + 10 +\\\n",
    "     4 * xs[:, 1] - 15 +\\\n",
    "     7 * xs[:, 2] + 23 + np.random.randn(npoints) * 10\n",
    "\n",
    "lm = LinearRegression()\n",
    "lm.fit(xs, ys)\n",
    "\n",
    "lm.coef_, lm.intercept_"
   ]
  },
  {
   "cell_type": "markdown",
   "metadata": {},
   "source": [
    "## Polynomial Regression\n",
    "\n",
    "It can be posed as a simple extension of linear regression, with new synthetic variables.\n",
    "\n",
    "Then we can express it in vectorial form.\n",
    "\n",
    "TODO"
   ]
  },
  {
   "cell_type": "code",
   "execution_count": 5,
   "metadata": {},
   "outputs": [
    {
     "data": {
      "image/png": "[encoded data removed]",
      "text/plain": [
       "<Figure size 432x288 with 1 Axes>"
      ]
     },
     "metadata": {
      "needs_background": "light"
     },
     "output_type": "display_data"
    }
   ],
   "source": [
    "npoints = 50\n",
    "xs = 3 *  np.random.randn(npoints)\n",
    "ys = xs ** 3 + 5 * xs ** 2 + 2 * xs + 10 + np.random.randn(npoints) * 10\n",
    "\n",
    "plt.scatter(xs, ys);"
   ]
  },
  {
   "cell_type": "code",
   "execution_count": 6,
   "metadata": {},
   "outputs": [
    {
     "data": {
      "text/plain": [
       "array([[ 1.00000000e+00,  6.10243477e+00,  3.72397101e+01,\n",
       "         2.27252902e+02],\n",
       "       [ 1.00000000e+00,  2.93485244e+00,  8.61335886e+00,\n",
       "         2.52789373e+01],\n",
       "       [ 1.00000000e+00, -2.79961576e-01,  7.83784838e-02,\n",
       "        -2.19429638e-02],\n",
       "       [ 1.00000000e+00,  2.30793309e+00,  5.32655514e+00,\n",
       "         1.22933329e+01]])"
      ]
     },
     "execution_count": 6,
     "metadata": {},
     "output_type": "execute_result"
    }
   ],
   "source": [
    "from sklearn.preprocessing import PolynomialFeatures\n",
    "\n",
    "polyfeatures = PolynomialFeatures(degree=3)\n",
    "polyfeatures.fit(xs.reshape(-1, 1))\n",
    "synthetic_vars = polyfeatures.transform(xs.reshape(-1, 1))\n",
    "synthetic_vars[:4,:]"
   ]
  },
  {
   "cell_type": "code",
   "execution_count": 7,
   "metadata": {},
   "outputs": [
    {
     "data": {
      "text/plain": [
       "[<matplotlib.lines.Line2D at 0x7fd72750e6d8>]"
      ]
     },
     "execution_count": 7,
     "metadata": {},
     "output_type": "execute_result"
    },
    {
     "data": {
      "image/png": "[encoded data removed]",
      "text/plain": [
       "<Figure size 432x288 with 1 Axes>"
      ]
     },
     "metadata": {
      "needs_background": "light"
     },
     "output_type": "display_data"
    }
   ],
   "source": [
    "lm = LinearRegression()\n",
    "lm.fit(synthetic_vars, ys)\n",
    "\n",
    "\n",
    "xs_prediction = np.linspace(-5, 5)\n",
    "ys_predicted = lm.predict(polyfeatures.transform(xs_prediction.reshape(-1,1)))\n",
    "\n",
    "plt.scatter(xs, ys);\n",
    "plt.plot(xs_prediction, ys_predicted, c='Orange')"
   ]
  },
  {
   "cell_type": "markdown",
   "metadata": {},
   "source": [
    "# Interpolation"
   ]
  },
  {
   "cell_type": "code",
   "execution_count": null,
   "metadata": {},
   "outputs": [],
   "source": []
  },
  {
   "cell_type": "markdown",
   "metadata": {},
   "source": [
    "#### Example\n",
    "\n",
    "Estimate $ln (2)$ using linear interpolation.\n",
    "\n",
    "* First, perform the computation by interpolating between ln(1) = 0 and ln(6) = 1.791759.\n",
    "* Then, repeat the procedure, but use a smaller interval from ln(1) to ln(4) = 1.386294.\n",
    "\n",
    "Note that the true value of $ln(2)$ is 0.6931472."
   ]
  },
  {
   "cell_type": "code",
   "execution_count": 10,
   "metadata": {},
   "outputs": [],
   "source": [
    "# TODO"
   ]
  },
  {
   "cell_type": "markdown",
   "metadata": {},
   "source": [
    "## Polynomial Interpolation\n",
    "\n",
    "We can fit a polynomial of degree n if we have n + 1 data points. Then we can use it to interpolate between those points."
   ]
  },
  {
   "cell_type": "markdown",
   "metadata": {},
   "source": [
    "#### Example\n",
    "\n",
    "Now estimate $ln (2)$ using quadratic interpolation. Use the points:\n",
    "\n",
    "* $ln(1) = 0$\n",
    "* $ln(4) = 1.386294$\n",
    "* $ln(6) = 1.791759$\n",
    "\n",
    "Note that the true value of $ln(2)$ is 0.6931472."
   ]
  },
  {
   "cell_type": "code",
   "execution_count": 8,
   "metadata": {},
   "outputs": [],
   "source": [
    "# TODO"
   ]
  },
  {
   "cell_type": "markdown",
   "metadata": {},
   "source": [
    "## Spline Interpolation\n",
    "\n",
    "Imagine we have 10 points. Rather than fit a single polynomial of degree 9, we can get a better result if we fit a different polynomial to each segment between two points. \n",
    "\n",
    "If we want to fit $n$ second order polynomials like this:\n",
    "\n",
    "$$f_i(x) = a_i x^2 + b_i x + c_i$$\n",
    "\n",
    "We will need to solve a linear system which has $3n$ equations. We can specify constraints which will each be represented by an equation in the system. In general, they will be restrictions on the values of the polynomials and their derivatives at the knots. Specifically:\n",
    "\n",
    "* The function values of adjacent polynomials must be equal at the interior knots.\n",
    "* The first and last functions must pass through the end points.\n",
    "* The first derivatives at the interior knots must be equal.\n",
    "* Assume that the second derivative is zero at the first point\n"
   ]
  },
  {
   "cell_type": "markdown",
   "metadata": {},
   "source": [
    "#### Example\n",
    "\n",
    "Fit the data in the following table using linear splines. Evaluate the function in x = 5.\n",
    "\n",
    "|x|f(x)|\n",
    "|---|---|\n",
    "|3.0 |2.5|\n",
    "|4.5 |1.0|\n",
    "|7.0 |2.5|\n",
    "|9.0 |0.5|"
   ]
  },
  {
   "cell_type": "code",
   "execution_count": null,
   "metadata": {},
   "outputs": [],
   "source": [
    "#TODO"
   ]
  },
  {
   "cell_type": "markdown",
   "metadata": {},
   "source": [
    "#### Example\n",
    "\n",
    "Fit quadratic splines to the same data used in the previous example. Use the results to approximate the value of the underlying function at x = 5.\n",
    "\n",
    "|x|f(x)|\n",
    "|---|---|\n",
    "|3.0 |2.5|\n",
    "|4.5 |1.0|\n",
    "|7.0 |2.5|\n",
    "|9.0 |0.5|"
   ]
  },
  {
   "cell_type": "code",
   "execution_count": null,
   "metadata": {},
   "outputs": [],
   "source": [
    "#TODO"
   ]
  },
  {
   "cell_type": "markdown",
   "metadata": {},
   "source": [
    "#### Example\n",
    "\n",
    "Fit cubic splines to the same data used in the previous example. Use the results to approximate the value of the underlying function at x = 5.\n",
    "\n",
    "|x|f(x)|\n",
    "|---|---|\n",
    "|3.0 |2.5|\n",
    "|4.5 |1.0|\n",
    "|7.0 |2.5|\n",
    "|9.0 |0.5|"
   ]
  },
  {
   "cell_type": "code",
   "execution_count": 11,
   "metadata": {},
   "outputs": [],
   "source": [
    "#TODO"
   ]
  },
  {
   "cell_type": "markdown",
   "metadata": {},
   "source": [
    "# Problems"
   ]
  },
  {
   "cell_type": "markdown",
   "metadata": {},
   "source": [
    "#### Exercise\n",
    "\n",
    "Estimate the common logarithm of 10 using linear interpolation.\n",
    "* Interpolate between $log(8)= 0.9030900$ and $log(12) = 1.0791812$.\n",
    "* Interpolate between $log(9)= 0.9542425$ and $log(11) = 1.0413927$. \n",
    "\n",
    "For each of the interpolations, compute the percent relative error based on the true value."
   ]
  },
  {
   "cell_type": "code",
   "execution_count": null,
   "metadata": {},
   "outputs": [],
   "source": []
  },
  {
   "cell_type": "markdown",
   "metadata": {},
   "source": [
    "#### Exercise\n",
    "\n",
    "Use the portion of the given steam table for superheated $H_2O$ at $200 MPa$ to \n",
    "\n",
    "* Find the corresponding entropy s for a specific volume v of 0.108 m 3 /kg with linear interpolation\n",
    "* Find the same corresponding entropy using quadratic interpolation\n",
    "\n",
    "| $v (m^3/kg)$ | $s(kJ/kg\\cdot K)$ |\n",
    "|---|---|\n",
    "|0.10377|6.4147|\n",
    "|0.11144|6.5453|\n",
    "|0.1254|6.7664|"
   ]
  },
  {
   "cell_type": "code",
   "execution_count": null,
   "metadata": {},
   "outputs": [],
   "source": []
  },
  {
   "cell_type": "markdown",
   "metadata": {},
   "source": [
    "#### Exercise\n",
    "\n",
    "The following data defines the sea-level concentration of\n",
    "dissolved oxygen for fresh water as a function of temperature:\n",
    "\n",
    "|$T,ºC$|$o, mg/l$|\n",
    "|------|-----------|\n",
    "|0|14.621|\n",
    "|8|11.843|\n",
    "|16|9.870|\n",
    "|24|8.418|\n",
    "|32|7.305|\n",
    "|40|6.413|\n",
    "\n",
    "Estimate $o(27)$ using \n",
    "* Linear interpolation\n",
    "* Cubic splines. \n",
    "\n",
    "Note that the exact result is $7.986 mg/L$."
   ]
  },
  {
   "cell_type": "code",
   "execution_count": null,
   "metadata": {},
   "outputs": [],
   "source": []
  },
  {
   "cell_type": "markdown",
   "metadata": {},
   "source": [
    "# Further Reading\n",
    "\n",
    "TODO"
   ]
  }
 ],
 "metadata": {
  "kernelspec": {
   "display_name": "Python 3",
   "language": "python",
   "name": "python3"
  },
  "language_info": {
   "codemirror_mode": {
    "name": "ipython",
    "version": 3
   },
   "file_extension": ".py",
   "mimetype": "text/x-python",
   "name": "python",
   "nbconvert_exporter": "python",
   "pygments_lexer": "ipython3",
   "version": "3.7.2"
  }
 },
 "nbformat": 4,
 "nbformat_minor": 2
}
