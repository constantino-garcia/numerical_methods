{
 "cells": [
  {
   "cell_type": "markdown",
   "metadata": {},
   "source": [
    "# Curve Fitting\n",
    "\n",
    "Fit a curve as closely as possible to a set of given points.\n"
   ]
  },
  {
   "cell_type": "markdown",
   "metadata": {},
   "source": [
    "## Motivation\n",
    "\n",
    "When we have many noisy measurements, we might want to fit a curve of a particular shape to approximate the \"real\" or \"ideal\" response curve independent of the noise of each particular measurement.\n",
    "\n",
    "When the individual measures are known to be very precise, we might still need to do curve fitting. The intention here can be to simplify the representation of a complex function, if we know it. If we don't, generating a mathematical expression that passes through all the points will allow us to _interpolate_, ie, to evaluate the function at points for which we have no data."
   ]
  },
  {
   "cell_type": "markdown",
   "metadata": {
    "toc-hr-collapsed": false
   },
   "source": [
    "# Regression"
   ]
  },
  {
   "cell_type": "markdown",
   "metadata": {},
   "source": [
    "## Linear Regression\n",
    "\n",
    "We want to fit a line of the general form\n",
    "\n",
    "$$y = ax + b$$\n",
    "\n",
    "to a set of points $(x_1,y_1), (x_2,y_2), (x_3,y_3),\\ldots, (x_n,y_n)$\n",
    "\n",
    "![Linear Regression](https://uc-r.github.io/public/images/analytics/regression/sq.errors-1.png)"
   ]
  },
  {
   "cell_type": "markdown",
   "metadata": {},
   "source": [
    "If we express those points as \n",
    "\n",
    "$$y_i = \\beta_0 + \\beta_1 x_i + e_i$$ \n",
    "\n",
    "We have an objective for an optimization problem: minimize the error terms $e_i$. More precisely, we'll minimize the square errors.\n",
    "\n",
    "$$\\min_{\\beta_0, \\beta_1}\\sum_{i=1}^n e_i^2 = \\sum_{i=1}^n (y_i - \\beta_0 -\\beta_1x_i)^2$$\n",
    "\n",
    "The curve that best fits our n points will have slope and intercept:\n",
    "\n",
    "$$ \\widehat{\\beta_1} = \\frac{\\sum x_iy_i - n \\bar{x}\\bar{y}}{\\sum x_i^2 - n \\bar{x}^2}$$\n",
    "\n",
    "$$\\widehat{\\beta_0} = \\bar{y} - \\widehat{\\beta_1} \\bar{x}$$"
   ]
  },
  {
   "cell_type": "markdown",
   "metadata": {},
   "source": [
    "### Linear Regression with Python\n",
    "\n",
    "Very easy to do with the [scikit-learn](https://scikit-learn.org/) package.\n",
    "\n",
    "scikit-learn works flawlessly with numpy and also allows us to fit Machine Learning models that are a lot more flexible, like Random Forests or Artificial Neural Networks."
   ]
  },
  {
   "cell_type": "markdown",
   "metadata": {},
   "source": [
    "#### Example \n",
    "\n",
    "Create random points that approximately fit the line\n",
    "\n",
    "$$y = 2x + 10$$\n",
    "\n",
    "Plot them, fit a line using `LinearRegression` from the `sklearn.linear_model` package, and plot both the points and the line together."
   ]
  },
  {
   "cell_type": "code",
   "execution_count": 1,
   "metadata": {},
   "outputs": [
    {
     "data": {
      "image/png": "[encoded data removed]",
      "text/plain": [
       "<Figure size 432x288 with 1 Axes>"
      ]
     },
     "metadata": {
      "needs_background": "light"
     },
     "output_type": "display_data"
    }
   ],
   "source": [
    "import numpy as np\n",
    "import matplotlib.pyplot as plt\n",
    "from sklearn.linear_model import LinearRegression\n",
    "%matplotlib inline\n",
    "\n",
    "npoints = 50\n",
    "xs = 20 *  np.random.randn(npoints) + 30\n",
    "ys = 2 * xs + 10 + np.random.randn(npoints) * 10\n",
    "\n",
    "plt.scatter(xs, ys);"
   ]
  },
  {
   "cell_type": "code",
   "execution_count": 2,
   "metadata": {},
   "outputs": [
    {
     "data": {
      "text/plain": [
       "(array([2.07470892]), 8.367470136273951)"
      ]
     },
     "execution_count": 2,
     "metadata": {},
     "output_type": "execute_result"
    }
   ],
   "source": [
    "lm = LinearRegression()\n",
    "lm.fit(xs.reshape(-1,1), ys)\n",
    "\n",
    "lm.coef_, lm.intercept_"
   ]
  },
  {
   "cell_type": "code",
   "execution_count": 3,
   "metadata": {},
   "outputs": [
    {
     "data": {
      "text/plain": [
       "[<matplotlib.lines.Line2D at 0x7fb01a9790b8>]"
      ]
     },
     "execution_count": 3,
     "metadata": {},
     "output_type": "execute_result"
    },
    {
     "data": {
      "image/png": "[encoded data removed]",
      "text/plain": [
       "<Figure size 432x288 with 1 Axes>"
      ]
     },
     "metadata": {
      "needs_background": "light"
     },
     "output_type": "display_data"
    }
   ],
   "source": [
    "plt.scatter(xs, ys);\n",
    "plt.plot(xs, lm.predict(xs.reshape(-1,1)), c='Orange')"
   ]
  },
  {
   "cell_type": "markdown",
   "metadata": {},
   "source": [
    "### Multivariable linear regression with Python\n",
    "\n",
    "Same thing, with more dimensions"
   ]
  },
  {
   "cell_type": "code",
   "execution_count": 4,
   "metadata": {},
   "outputs": [
    {
     "data": {
      "text/plain": [
       "(array([1.90455457, 4.09419864, 7.001753  ]), 18.498744722207334)"
      ]
     },
     "execution_count": 4,
     "metadata": {},
     "output_type": "execute_result"
    }
   ],
   "source": [
    "# Create random input points\n",
    "npoints = 50\n",
    "ndims = 3\n",
    "xs = 20 *  np.random.randn(npoints, ndims) + 30\n",
    "ys = 2 * xs[:, 0] + 10 +\\\n",
    "     4 * xs[:, 1] - 15 +\\\n",
    "     7 * xs[:, 2] + 23 + np.random.randn(npoints) * 10\n",
    "\n",
    "lm = LinearRegression()\n",
    "lm.fit(xs, ys)\n",
    "\n",
    "lm.coef_, lm.intercept_"
   ]
  },
  {
   "cell_type": "markdown",
   "metadata": {},
   "source": [
    "## Polynomial Regression\n",
    "\n",
    "It can be posed as a simple extension of linear regression, with new synthetic variables.\n",
    "\n",
    "Then we can express it in vectorial form.\n",
    "\n",
    "TODO"
   ]
  },
  {
   "cell_type": "code",
   "execution_count": 5,
   "metadata": {},
   "outputs": [
    {
     "data": {
      "image/png": "[encoded data removed]",
      "text/plain": [
       "<Figure size 432x288 with 1 Axes>"
      ]
     },
     "metadata": {
      "needs_background": "light"
     },
     "output_type": "display_data"
    }
   ],
   "source": [
    "npoints = 50\n",
    "xs = 3 *  np.random.randn(npoints)\n",
    "ys = xs ** 3 + 5 * xs ** 2 + 2 * xs + 10 + np.random.randn(npoints) * 10\n",
    "\n",
    "plt.scatter(xs, ys);"
   ]
  },
  {
   "cell_type": "code",
   "execution_count": 6,
   "metadata": {},
   "outputs": [
    {
     "data": {
      "text/plain": [
       "array([[ 1.00000000e+00, -1.63710607e+00,  2.68011629e+00,\n",
       "        -4.38763466e+00],\n",
       "       [ 1.00000000e+00, -2.17634969e+00,  4.73649798e+00,\n",
       "        -1.03082759e+01],\n",
       "       [ 1.00000000e+00,  1.79320663e+00,  3.21559001e+00,\n",
       "         5.76621731e+00],\n",
       "       [ 1.00000000e+00, -1.06222086e+01,  1.12831316e+02,\n",
       "        -1.19851777e+03]])"
      ]
     },
     "execution_count": 6,
     "metadata": {},
     "output_type": "execute_result"
    }
   ],
   "source": [
    "from sklearn.preprocessing import PolynomialFeatures\n",
    "\n",
    "polyfeatures = PolynomialFeatures(degree=3)\n",
    "polyfeatures.fit(xs.reshape(-1, 1))\n",
    "synthetic_vars = polyfeatures.transform(xs.reshape(-1, 1))\n",
    "synthetic_vars[:4,:]"
   ]
  },
  {
   "cell_type": "code",
   "execution_count": 7,
   "metadata": {},
   "outputs": [
    {
     "data": {
      "image/png": "[encoded data removed]",
      "text/plain": [
       "<Figure size 432x288 with 1 Axes>"
      ]
     },
     "metadata": {
      "needs_background": "light"
     },
     "output_type": "display_data"
    }
   ],
   "source": [
    "lm = LinearRegression()\n",
    "lm.fit(synthetic_vars, ys)\n",
    "\n",
    "\n",
    "xs_prediction = np.linspace(-5, 10)\n",
    "ys_predicted = lm.predict(polyfeatures.transform(xs_prediction.reshape(-1,1)))\n",
    "\n",
    "plt.scatter(xs, ys);\n",
    "plt.plot(xs_prediction, ys_predicted, c='Orange');"
   ]
  },
  {
   "cell_type": "markdown",
   "metadata": {},
   "source": [
    "## Other Regression algorithms in `scikit-learn`\n",
    "\n",
    "[scikit-learn] is an extremely powerful library for Python Machine Learning. It has a well defined API that lets you easily swap learning algorithms.\n",
    "\n",
    "[scikit-learn]: https://scikit-learn.org/stable/tutorial/basic/tutorial.html"
   ]
  },
  {
   "cell_type": "code",
   "execution_count": 8,
   "metadata": {},
   "outputs": [
    {
     "name": "stderr",
     "output_type": "stream",
     "text": [
      "/home/dani/anaconda3/envs/numerical_methods/lib/python3.7/site-packages/sklearn/ensemble/forest.py:246: FutureWarning: The default value of n_estimators will change from 10 in version 0.20 to 100 in 0.22.\n",
      "  \"10 in version 0.20 to 100 in 0.22.\", FutureWarning)\n"
     ]
    },
    {
     "data": {
      "image/png": "[encoded data removed]",
      "text/plain": [
       "<Figure size 432x288 with 1 Axes>"
      ]
     },
     "metadata": {
      "needs_background": "light"
     },
     "output_type": "display_data"
    }
   ],
   "source": [
    "from sklearn.ensemble import RandomForestRegressor\n",
    "\n",
    "rf = RandomForestRegressor()\n",
    "\n",
    "rf.fit(xs.reshape(-1,1), ys)\n",
    "plt.scatter(xs, ys)\n",
    "\n",
    "xs.sort()\n",
    "predictions = rf.predict(xs.reshape(-1,1))\n",
    "plt.plot(xs, predictions , c='Orange');"
   ]
  },
  {
   "cell_type": "markdown",
   "metadata": {},
   "source": [
    "# Interpolation\n",
    "\n",
    "Consists of obtaining the only function of a particular family that passes through every point in a set, in order to estimate the value at intermediate points that we are not able to observe.\n",
    "\n",
    "In order to interpolate a polynomial of degree $n$, we need at least $n + 1$ points. With that number of points, there is only one polynomial that fits."
   ]
  },
  {
   "cell_type": "markdown",
   "metadata": {},
   "source": [
    "#### Example\n",
    "\n",
    "Estimate $ln (2)$ using linear interpolation.\n",
    "\n",
    "* First, perform the computation by interpolating between ln(1) = 0 and ln(6) = 1.791759.\n",
    "* Then, repeat the procedure, but use a smaller interval from ln(1) to ln(4) = 1.386294.\n",
    "\n",
    "Note that the true value of $ln(2)$ is 0.6931472."
   ]
  },
  {
   "cell_type": "code",
   "execution_count": 29,
   "metadata": {},
   "outputs": [],
   "source": [
    "# Do in the blackboard"
   ]
  },
  {
   "cell_type": "markdown",
   "metadata": {},
   "source": [
    "## Polynomial Interpolation\n",
    "\n",
    "We can fit a polynomial of degree n if we have n + 1 data points. Then we can use it to interpolate between those points."
   ]
  },
  {
   "cell_type": "markdown",
   "metadata": {},
   "source": [
    "#### Example\n",
    "\n",
    "Now estimate $ln (2)$ using quadratic interpolation. Use the points:\n",
    "\n",
    "* $ln(1) = 0$\n",
    "* $ln(4) = 1.386294$\n",
    "* $ln(6) = 1.791759$\n",
    "\n",
    "Note that the true value of $ln(2)$ is 0.6931472."
   ]
  },
  {
   "cell_type": "code",
   "execution_count": 12,
   "metadata": {},
   "outputs": [],
   "source": [
    "def gauss_jordan(A, B):\n",
    "    AB = np.concatenate((A, B.reshape(-1,1)), axis=1)\n",
    "    n = A.shape[0]\n",
    "    \n",
    "    for row in range(n):\n",
    "        others = list(range(n))\n",
    "        others.remove(row)\n",
    "        \n",
    "        for other_row in others:\n",
    "            # Eliminate column row from other rows\n",
    "            AB[other_row] = AB[other_row] - AB[row] * AB[other_row,row] / AB[row,row]\n",
    "\n",
    "    # normalize \n",
    "    for row in range(n):\n",
    "        \n",
    "        AB[row] = AB[row] / AB[row,row]\n",
    "    \n",
    "    return AB"
   ]
  },
  {
   "cell_type": "code",
   "execution_count": 24,
   "metadata": {},
   "outputs": [],
   "source": [
    "AB = np.array([[1,1,1,0],\n",
    "               [16,4,1,np.log(4)],\n",
    "               [36,6,1,np.log(6)]])"
   ]
  },
  {
   "cell_type": "code",
   "execution_count": 26,
   "metadata": {},
   "outputs": [
    {
     "data": {
      "text/plain": [
       "array([-0.05187311,  0.72146369, -0.66959057])"
      ]
     },
     "execution_count": 26,
     "metadata": {},
     "output_type": "execute_result"
    }
   ],
   "source": [
    "result = gauss_jordan(AB[:,:3], AB[:,3])\n",
    "coefficients = result[:,3]\n",
    "coefficients"
   ]
  },
  {
   "cell_type": "markdown",
   "metadata": {},
   "source": [
    "$$f(x) =-0.05187311x^2 + 0.72146369x-0.66959057$$"
   ]
  },
  {
   "cell_type": "code",
   "execution_count": 27,
   "metadata": {},
   "outputs": [],
   "source": [
    "def quadratic(coefficients, x):\n",
    "    return coefficients[0] * x **2 + coefficients[1] * x + coefficients[2]"
   ]
  },
  {
   "cell_type": "code",
   "execution_count": 31,
   "metadata": {},
   "outputs": [
    {
     "data": {
      "text/plain": [
       "[<matplotlib.lines.Line2D at 0x7fb0197d8c88>]"
      ]
     },
     "execution_count": 31,
     "metadata": {},
     "output_type": "execute_result"
    },
    {
     "data": {
      "image/png": "[encoded data removed]",
      "text/plain": [
       "<Figure size 432x288 with 1 Axes>"
      ]
     },
     "metadata": {
      "needs_background": "light"
     },
     "output_type": "display_data"
    }
   ],
   "source": [
    "xs = np.linspace(0.1, 7)\n",
    "log = np.log(xs)\n",
    "approximation = quadratic(coefficients, xs)\n",
    "plt.plot(xs, log)\n",
    "plt.plot(xs, approximation)"
   ]
  },
  {
   "cell_type": "code",
   "execution_count": 32,
   "metadata": {},
   "outputs": [
    {
     "data": {
      "text/plain": [
       "0.5658443469009826"
      ]
     },
     "execution_count": 32,
     "metadata": {},
     "output_type": "execute_result"
    }
   ],
   "source": [
    "quadratic(coefficients, 2)"
   ]
  },
  {
   "cell_type": "code",
   "execution_count": 33,
   "metadata": {},
   "outputs": [
    {
     "data": {
      "text/plain": [
       "0.6931471805599453"
      ]
     },
     "execution_count": 33,
     "metadata": {},
     "output_type": "execute_result"
    }
   ],
   "source": [
    "np.log(2)"
   ]
  },
  {
   "cell_type": "markdown",
   "metadata": {},
   "source": [
    "## Spline Interpolation\n",
    "\n",
    "Imagine we have 10 points. Rather than fit a single polynomial of degree 9, we can get a better result if we fit a different polynomial to each segment between two points. \n",
    "\n",
    "If we want to fit $n$ second order polynomials like this:\n",
    "\n",
    "$$f_i(x) = a_i x^2 + b_i x + c_i$$\n",
    "\n",
    "We will need to solve a linear system which has $3n$ equations. We can specify constraints which will each be represented by an equation in the system. In general, they will be restrictions on the values of the polynomials and their derivatives at the knots. Specifically:\n",
    "\n",
    "* The function values of adjacent polynomials must be equal at the interior knots.\n",
    "* The first and last functions must pass through the end points.\n",
    "* The first derivatives at the interior knots must be equal.\n",
    "* Assume that the second derivative is zero at the first point\n"
   ]
  },
  {
   "cell_type": "markdown",
   "metadata": {},
   "source": [
    "#### Example\n",
    "\n",
    "Fit the data in the following table using linear splines. Evaluate the function in x = 5.\n",
    "\n",
    "|x|f(x)|\n",
    "|---|---|\n",
    "|3.0 |2.5|\n",
    "|4.5 |1.0|\n",
    "|7.0 |2.5|\n",
    "|9.0 |0.5|"
   ]
  },
  {
   "cell_type": "code",
   "execution_count": 39,
   "metadata": {},
   "outputs": [
    {
     "data": {
      "text/plain": [
       "<matplotlib.collections.PathCollection at 0x7fb01965ff98>"
      ]
     },
     "execution_count": 39,
     "metadata": {},
     "output_type": "execute_result"
    },
    {
     "data": {
      "image/png": "[encoded data removed]",
      "text/plain": [
       "<Figure size 432x288 with 1 Axes>"
      ]
     },
     "metadata": {
      "needs_background": "light"
     },
     "output_type": "display_data"
    }
   ],
   "source": [
    "xs = np.array([3,4.5,7,9])\n",
    "fs = np.array([2.5,1,2.5,0.5])\n",
    "plt.scatter(xs, fs)\n",
    "\n",
    "\n"
   ]
  },
  {
   "cell_type": "markdown",
   "metadata": {},
   "source": [
    "#### Example\n",
    "\n",
    "Fit quadratic splines to the same data used in the previous example. Use the results to approximate the value of the underlying function at x = 5.\n",
    "\n",
    "|x|f(x)|\n",
    "|---|---|\n",
    "|3.0 |2.5|\n",
    "|4.5 |1.0|\n",
    "|7.0 |2.5|\n",
    "|9.0 |0.5|"
   ]
  },
  {
   "cell_type": "code",
   "execution_count": 38,
   "metadata": {},
   "outputs": [],
   "source": [
    "# Three quadratic functions:\n",
    "\n",
    "# The function values of adjacent polynomials must be equal at the interior knots.\n",
    "\n",
    "# The first and last functions must pass through the end points.\n",
    "\n",
    "# The first derivatives at the interior knots must be equal.\n",
    "\n",
    "# Assume that the second derivative is zero at the first point."
   ]
  },
  {
   "cell_type": "markdown",
   "metadata": {},
   "source": [
    "#### Example\n",
    "\n",
    "Fit cubic splines to the same data used in the previous example. Use the results to approximate the value of the underlying function at x = 5.\n",
    "\n",
    "|x|f(x)|\n",
    "|---|---|\n",
    "|3.0 |2.5|\n",
    "|4.5 |1.0|\n",
    "|7.0 |2.5|\n",
    "|9.0 |0.5|"
   ]
  },
  {
   "cell_type": "code",
   "execution_count": 40,
   "metadata": {},
   "outputs": [],
   "source": [
    "# Three cubic functions\n",
    "\n",
    "# The function values must be equal at the interior knots (2n − 2 conditions).\n",
    "\n",
    "# The first and last functions must pass through the end points (2 conditions).\n",
    "\n",
    "# The first derivatives at the interior knots must be equal (n − 1 conditions).\n",
    "\n",
    "# The second derivatives at the interior knots must be equal (n − 1 conditions).\n",
    "\n",
    "# The second derivatives at the end knots are zero (2 conditions)."
   ]
  },
  {
   "cell_type": "markdown",
   "metadata": {},
   "source": [
    "# Problems"
   ]
  },
  {
   "cell_type": "markdown",
   "metadata": {},
   "source": [
    "#### Exercise\n",
    "\n",
    "Estimate the common logarithm of 10 using linear interpolation.\n",
    "* Interpolate between $log(8)= 0.9030900$ and $log(12) = 1.0791812$.\n",
    "* Interpolate between $log(9)= 0.9542425$ and $log(11) = 1.0413927$. \n",
    "\n",
    "For each of the interpolations, compute the percent relative error based on the true value."
   ]
  },
  {
   "cell_type": "code",
   "execution_count": null,
   "metadata": {},
   "outputs": [],
   "source": []
  },
  {
   "cell_type": "markdown",
   "metadata": {},
   "source": [
    "#### Exercise\n",
    "\n",
    "Use the portion of the given steam table for superheated $H_2O$ at $200 MPa$ to \n",
    "\n",
    "* Find the corresponding entropy s for a specific volume v of 0.108 m 3 /kg with linear interpolation\n",
    "* Find the same corresponding entropy using quadratic interpolation\n",
    "\n",
    "| $v (m^3/kg)$ | $s(kJ/kg\\cdot K)$ |\n",
    "|---|---|\n",
    "|0.10377|6.4147|\n",
    "|0.11144|6.5453|\n",
    "|0.1254|6.7664|"
   ]
  },
  {
   "cell_type": "code",
   "execution_count": null,
   "metadata": {},
   "outputs": [],
   "source": []
  },
  {
   "cell_type": "markdown",
   "metadata": {},
   "source": [
    "#### Exercise\n",
    "\n",
    "The following data defines the sea-level concentration of\n",
    "dissolved oxygen for fresh water as a function of temperature:\n",
    "\n",
    "|$T,ºC$|$o, mg/l$|\n",
    "|------|-----------|\n",
    "|0|14.621|\n",
    "|8|11.843|\n",
    "|16|9.870|\n",
    "|24|8.418|\n",
    "|32|7.305|\n",
    "|40|6.413|\n",
    "\n",
    "Estimate $o(27)$ using \n",
    "* Linear interpolation\n",
    "* Cubic splines. \n",
    "\n",
    "Note that the exact result is $7.986 mg/L$."
   ]
  },
  {
   "cell_type": "code",
   "execution_count": null,
   "metadata": {},
   "outputs": [],
   "source": []
  },
  {
   "cell_type": "markdown",
   "metadata": {},
   "source": [
    "# Further Reading\n",
    "\n",
    "[An introduction to scikit-learn]\n",
    "\n",
    "[An introduction to scikit-learn]: https://jakevdp.github.io/PythonDataScienceHandbook/05.02-introducing-scikit-learn.html"
   ]
  }
 ],
 "metadata": {
  "kernelspec": {
   "display_name": "Python 3",
   "language": "python",
   "name": "python3"
  },
  "language_info": {
   "codemirror_mode": {
    "name": "ipython",
    "version": 3
   },
   "file_extension": ".py",
   "mimetype": "text/x-python",
   "name": "python",
   "nbconvert_exporter": "python",
   "pygments_lexer": "ipython3",
   "version": "3.7.2"
  }
 },
 "nbformat": 4,
 "nbformat_minor": 2
}
