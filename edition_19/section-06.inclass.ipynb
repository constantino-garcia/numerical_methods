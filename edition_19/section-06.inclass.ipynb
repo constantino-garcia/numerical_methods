{
 "cells": [
  {
   "cell_type": "markdown",
   "metadata": {},
   "source": [
    "# Differentiation and Integration\n",
    "\n",
    "## Motivation\n",
    "\n",
    "Differentiation and Integration allow understanding change in physical systems. Any magnitude that changes and which we need to calculate will require some of the tools of calculus. \n",
    "\n",
    "In real systems, we will very often find that the governing equations are either a) too hard or impossible to differentiate or integrate analytically, or b) unknown. Therefore, we will need to apply numerical approximations to estimate the value of differentials and integrals. Integrals can be used, for example, to estimate the volume of irregular objects.\n",
    "\n"
   ]
  },
  {
   "cell_type": "markdown",
   "metadata": {},
   "source": [
    "# Numerical integration\n",
    "\n",
    "Common sense visual integration: divide in strips, then sum the area of the strips. The most basic numerical methods to approximate integrals are reminiscent of this basic approach: _cuadrature_ methods.\n",
    "\n",
    "As an example, let's integrate graphically the (initially) unknown function from practice 4:\n",
    "\n",
    "\n",
    "|f, mg/l|k, $days^{-1}$|\n",
    "|----|------|\n",
    "|7   | 0.29 |\n",
    "|9   | 0.37 |\n",
    "|15  | 0.48 |\n",
    "|25  | 0.65 |\n",
    "|40  | 0.80 |\n",
    "|75  | 0.97 |\n",
    "|100 | 0.99 |\n",
    "|150 | 1.07 |\n"
   ]
  },
  {
   "cell_type": "markdown",
   "metadata": {},
   "source": [
    "## Newton-Cotes Integration Formulas\n",
    "\n",
    "Based on replacing a complicated function or tabulated data with an easier to integrate function."
   ]
  },
  {
   "cell_type": "markdown",
   "metadata": {},
   "source": [
    "## Trapezoidal Rule\n",
    "\n",
    "Replacing with a linear function:\n",
    "\n",
    "$$I = (b-a)\\frac{f(a)+ f(b)}{2}$$"
   ]
  },
  {
   "cell_type": "markdown",
   "metadata": {},
   "source": [
    "#### Exercise\n",
    "\n",
    "Compute, both analytically and using the trapezoidal rule, the integral:\n",
    "\n",
    "$$\\int_0^{0.8}(0.2 + 25x - 200x^2 + 675x^3 - 900x^4 + 400x^5)dx$$"
   ]
  },
  {
   "cell_type": "code",
   "execution_count": 1,
   "metadata": {},
   "outputs": [
    {
     "data": {
      "text/plain": [
       "(0.1728000000000225, 1.6405333333333374)"
      ]
     },
     "execution_count": 1,
     "metadata": {},
     "output_type": "execute_result"
    }
   ],
   "source": [
    "a = 0\n",
    "b = 0.8\n",
    "\n",
    "def analytical(x):\n",
    "    return .2*x + (25 / 2) * x**2 - (200/3)*x**3 + (675/4)* x**4 - (900/5)*x**5 + (400/6)*x**6\n",
    "\n",
    "def f(x):\n",
    "     return .2 + (25) * x - (200)*x**2 + (675)* x**3 - (900)*x**4 + (400)*x**5\n",
    "\n",
    "(b-a)*(f(a) + f(b)) /2, analytical(b) - analytical(a)"
   ]
  },
  {
   "cell_type": "code",
   "execution_count": 2,
   "metadata": {},
   "outputs": [
    {
     "data": {
      "text/plain": [
       "[<matplotlib.lines.Line2D at 0x7fa236930dd8>]"
      ]
     },
     "execution_count": 2,
     "metadata": {},
     "output_type": "execute_result"
    },
    {
     "data": {
      "image/png": "[encoded data removed]",
      "text/plain": [
       "<Figure size 432x288 with 1 Axes>"
      ]
     },
     "metadata": {
      "needs_background": "light"
     },
     "output_type": "display_data"
    }
   ],
   "source": [
    "import numpy as np\n",
    "import matplotlib.pyplot as plt\n",
    "%matplotlib inline\n",
    "\n",
    "xs = np.linspace(a, b)\n",
    "plt.plot(xs, f(xs))\n",
    "plt.fill_between(xs, f(xs))\n",
    "plt.plot([a,b], [f(a), f(b)])"
   ]
  },
  {
   "cell_type": "code",
   "execution_count": null,
   "metadata": {},
   "outputs": [],
   "source": []
  },
  {
   "cell_type": "markdown",
   "metadata": {},
   "source": [
    "### Multiple application trapezoidal rule\n",
    "\n",
    "Just consider multiple segments"
   ]
  },
  {
   "cell_type": "markdown",
   "metadata": {},
   "source": [
    "#### Example\n",
    "\n",
    "The falling parachutist: remember that our parachutist falls with a velocity that increases with time according to:\n",
    "\n",
    "$$v(t) = \\frac{gm}{c} (1 - e^{-(c/m)t})$$\n",
    "\n",
    "where v = velocity (m/s), g = the gravitational constant of 9.8 $m/s^2$, m = mass of the parachutist equal to 68.1 kg, and c = the drag coefficient of 12.5 kg/s.\n",
    "\n",
    "Calculate the distance in meters he has fallen at t=10s.\n",
    "\n",
    "Perform the calculation with 10,20 and 50 segments."
   ]
  },
  {
   "cell_type": "code",
   "execution_count": 3,
   "metadata": {},
   "outputs": [
    {
     "data": {
      "text/plain": [
       "<matplotlib.collections.PolyCollection at 0x7fa236839f98>"
      ]
     },
     "execution_count": 3,
     "metadata": {},
     "output_type": "execute_result"
    },
    {
     "data": {
      "image/png": "[encoded data removed]",
      "text/plain": [
       "<Figure size 432x288 with 1 Axes>"
      ]
     },
     "metadata": {
      "needs_background": "light"
     },
     "output_type": "display_data"
    }
   ],
   "source": [
    "def v_parachutist(t, c=12.5, m=68.1, g=9.8):\n",
    "    return (g * m) * (1- np.exp((-c/m)*t) ) / c\n",
    "\n",
    "ts = np.linspace(0,15, num=200)\n",
    "plt.plot(ts, v_parachutist(ts), c='orange')\n",
    "plt.fill_between(ts, v_parachutist(ts), where=ts<=10)"
   ]
  },
  {
   "cell_type": "code",
   "execution_count": 4,
   "metadata": {},
   "outputs": [
    {
     "data": {
      "text/plain": [
       "1.5398809600000134"
      ]
     },
     "execution_count": 4,
     "metadata": {},
     "output_type": "execute_result"
    }
   ],
   "source": [
    "def integral_trapezoid(f, a=0, b=10, segments=10):\n",
    "    space = np.linspace(a, b, num=segments+1)\n",
    "    total_area = 0\n",
    "\n",
    "    for b in space[1:]:\n",
    "        total_area += (b-a)*(f(b) + f(a))/2\n",
    "        a=b\n",
    "    \n",
    "    return total_area\n",
    "\n",
    "integral_trapezoid(f, 0, 0.8, 5)"
   ]
  },
  {
   "cell_type": "code",
   "execution_count": 5,
   "metadata": {},
   "outputs": [
    {
     "data": {
      "text/plain": [
       "289.40655969603625"
      ]
     },
     "execution_count": 5,
     "metadata": {},
     "output_type": "execute_result"
    },
    {
     "data": {
      "image/png": "[encoded data removed]",
      "text/plain": [
       "<Figure size 432x288 with 1 Axes>"
      ]
     },
     "metadata": {
      "needs_background": "light"
     },
     "output_type": "display_data"
    }
   ],
   "source": [
    "results = []\n",
    "\n",
    "increasing_segments = np.arange(1, 50)\n",
    "\n",
    "for n_segments in increasing_segments:\n",
    "    results.append(integral_trapezoid(v_parachutist, segments=n_segments))\n",
    "    \n",
    "plt.plot(increasing_segments, results)\n",
    "results[-1]"
   ]
  },
  {
   "cell_type": "markdown",
   "metadata": {},
   "source": [
    "#### Exercise\n",
    "Approximate the definite integral using the multiple-application trapezoidal rule, dividing\n",
    "the integration interval into four sections. Compare this approximation with the one obtained in the previous example.\n",
    "\n",
    "$$\\int_0^{0.8}(0.2 + 25x - 200x^2 + 675x^3 - 900x^4 + 400x^5)dx$$"
   ]
  },
  {
   "cell_type": "code",
   "execution_count": 6,
   "metadata": {},
   "outputs": [
    {
     "data": {
      "text/plain": [
       "<matplotlib.collections.PolyCollection at 0x7fa236780160>"
      ]
     },
     "execution_count": 6,
     "metadata": {},
     "output_type": "execute_result"
    },
    {
     "data": {
      "image/png": "[encoded data removed]",
      "text/plain": [
       "<Figure size 432x288 with 1 Axes>"
      ]
     },
     "metadata": {
      "needs_background": "light"
     },
     "output_type": "display_data"
    }
   ],
   "source": [
    "segments = np.linspace(a,b, num=5) # 5 points for 4 segments\n",
    "plt.plot(xs, f(xs), c='orange')\n",
    "plt.fill_between(segments, f(segments))"
   ]
  },
  {
   "cell_type": "code",
   "execution_count": 7,
   "metadata": {},
   "outputs": [
    {
     "data": {
      "text/plain": [
       "(1.484800000000007, 1.6405333333333374)"
      ]
     },
     "execution_count": 7,
     "metadata": {},
     "output_type": "execute_result"
    }
   ],
   "source": [
    "a = segments[0]\n",
    "total_area = 0\n",
    "for b in segments[1:]:\n",
    "    area_this_trapezoid = (b-a)*(f(a) + f(b)) /2\n",
    "    total_area += area_this_trapezoid\n",
    "    \n",
    "    a = b\n",
    "    \n",
    "total_area, analytical(0.8) - analytical(0)\n"
   ]
  },
  {
   "cell_type": "code",
   "execution_count": 8,
   "metadata": {},
   "outputs": [
    {
     "data": {
      "text/plain": [
       "<function __main__.f(x)>"
      ]
     },
     "execution_count": 8,
     "metadata": {},
     "output_type": "execute_result"
    }
   ],
   "source": [
    "f"
   ]
  },
  {
   "cell_type": "code",
   "execution_count": 9,
   "metadata": {},
   "outputs": [
    {
     "data": {
      "image/png": "[encoded data removed]",
      "text/plain": [
       "<Figure size 432x288 with 1 Axes>"
      ]
     },
     "metadata": {
      "needs_background": "light"
     },
     "output_type": "display_data"
    }
   ],
   "source": [
    "results = []\n",
    "\n",
    "increasing_segments = np.arange(1, 10)\n",
    "\n",
    "for n_segments in increasing_segments:\n",
    "    results.append(integral_trapezoid(f, a=0, b=0.8, segments=n_segments))\n",
    "    \n",
    "plt.plot(increasing_segments, results);"
   ]
  },
  {
   "cell_type": "markdown",
   "metadata": {},
   "source": [
    "## Simpson's Rules\n",
    "\n",
    "A higher accuracy can be obtained by fitting functions with order higher than 1."
   ]
  },
  {
   "cell_type": "markdown",
   "metadata": {},
   "source": [
    "### The 1/3 Simpon's rule\n",
    "\n",
    "$$\\int_a^b f(x)dx \\approx \\int_a^b f_2(x)dx \\approx \\frac{b-a}{6}[f(x_0) + 4f(x_1) +f(x_2)]$$\n",
    "\n",
    "It can also be applied multiple times to get a higer accuracy approximation"
   ]
  },
  {
   "cell_type": "markdown",
   "metadata": {},
   "source": [
    "#### Exercise\n",
    "\n",
    "Use the 1/3 Simpson’s rule to compute the following integral numerically:\n",
    "\n",
    "$$\\int_0^{0.8}(0.2 + 25x - 200x^2 + 675x^3 - 900x^4 + 400x^5)dx$$"
   ]
  },
  {
   "cell_type": "code",
   "execution_count": 10,
   "metadata": {},
   "outputs": [
    {
     "data": {
      "text/plain": [
       "1.3674666666666742"
      ]
     },
     "execution_count": 10,
     "metadata": {},
     "output_type": "execute_result"
    }
   ],
   "source": [
    "a = 0\n",
    "b = 0.8\n",
    "\n",
    "x0 = a\n",
    "x1 = (a+b)/2\n",
    "x2 = b\n",
    "\n",
    "\n",
    "approx = ((b-a)/6) *(f(x0) + 4*f(x1) +f(x2))\n",
    "\n",
    "approx"
   ]
  },
  {
   "cell_type": "markdown",
   "metadata": {},
   "source": [
    "## Numerical Integration in Python"
   ]
  },
  {
   "cell_type": "code",
   "execution_count": 13,
   "metadata": {},
   "outputs": [
    {
     "name": "stdout",
     "output_type": "stream",
     "text": [
      "Help on function quad in module scipy.integrate.quadpack:\n",
      "\n",
      "quad(func, a, b, args=(), full_output=0, epsabs=1.49e-08, epsrel=1.49e-08, limit=50, points=None, weight=None, wvar=None, wopts=None, maxp1=50, limlst=50)\n",
      "    Compute a definite integral.\n",
      "    \n",
      "    Integrate func from `a` to `b` (possibly infinite interval) using a\n",
      "    technique from the Fortran library QUADPACK.\n",
      "    \n",
      "    Parameters\n",
      "    ----------\n",
      "    func : {function, scipy.LowLevelCallable}\n",
      "        A Python function or method to integrate.  If `func` takes many\n",
      "        arguments, it is integrated along the axis corresponding to the\n",
      "        first argument.\n",
      "    \n",
      "        If the user desires improved integration performance, then `f` may\n",
      "        be a `scipy.LowLevelCallable` with one of the signatures::\n",
      "    \n",
      "            double func(double x)\n",
      "            double func(double x, void *user_data)\n",
      "            double func(int n, double *xx)\n",
      "            double func(int n, double *xx, void *user_data)\n",
      "    \n",
      "        The ``user_data`` is the data contained in the `scipy.LowLevelCallable`.\n",
      "        In the call forms with ``xx``,  ``n`` is the length of the ``xx``\n",
      "        array which contains ``xx[0] == x`` and the rest of the items are\n",
      "        numbers contained in the ``args`` argument of quad.\n",
      "    \n",
      "        In addition, certain ctypes call signatures are supported for\n",
      "        backward compatibility, but those should not be used in new code.\n",
      "    a : float\n",
      "        Lower limit of integration (use -numpy.inf for -infinity).\n",
      "    b : float\n",
      "        Upper limit of integration (use numpy.inf for +infinity).\n",
      "    args : tuple, optional\n",
      "        Extra arguments to pass to `func`.\n",
      "    full_output : int, optional\n",
      "        Non-zero to return a dictionary of integration information.\n",
      "        If non-zero, warning messages are also suppressed and the\n",
      "        message is appended to the output tuple.\n",
      "    \n",
      "    Returns\n",
      "    -------\n",
      "    y : float\n",
      "        The integral of func from `a` to `b`.\n",
      "    abserr : float\n",
      "        An estimate of the absolute error in the result.\n",
      "    infodict : dict\n",
      "        A dictionary containing additional information.\n",
      "        Run scipy.integrate.quad_explain() for more information.\n",
      "    message\n",
      "        A convergence message.\n",
      "    explain\n",
      "        Appended only with 'cos' or 'sin' weighting and infinite\n",
      "        integration limits, it contains an explanation of the codes in\n",
      "        infodict['ierlst']\n",
      "    \n",
      "    Other Parameters\n",
      "    ----------------\n",
      "    epsabs : float or int, optional\n",
      "        Absolute error tolerance.\n",
      "    epsrel : float or int, optional\n",
      "        Relative error tolerance.\n",
      "    limit : float or int, optional\n",
      "        An upper bound on the number of subintervals used in the adaptive\n",
      "        algorithm.\n",
      "    points : (sequence of floats,ints), optional\n",
      "        A sequence of break points in the bounded integration interval\n",
      "        where local difficulties of the integrand may occur (e.g.,\n",
      "        singularities, discontinuities). The sequence does not have\n",
      "        to be sorted.\n",
      "    weight : float or int, optional\n",
      "        String indicating weighting function. Full explanation for this\n",
      "        and the remaining arguments can be found below.\n",
      "    wvar : optional\n",
      "        Variables for use with weighting functions.\n",
      "    wopts : optional\n",
      "        Optional input for reusing Chebyshev moments.\n",
      "    maxp1 : float or int, optional\n",
      "        An upper bound on the number of Chebyshev moments.\n",
      "    limlst : int, optional\n",
      "        Upper bound on the number of cycles (>=3) for use with a sinusoidal\n",
      "        weighting and an infinite end-point.\n",
      "    \n",
      "    See Also\n",
      "    --------\n",
      "    dblquad : double integral\n",
      "    tplquad : triple integral\n",
      "    nquad : n-dimensional integrals (uses `quad` recursively)\n",
      "    fixed_quad : fixed-order Gaussian quadrature\n",
      "    quadrature : adaptive Gaussian quadrature\n",
      "    odeint : ODE integrator\n",
      "    ode : ODE integrator\n",
      "    simps : integrator for sampled data\n",
      "    romb : integrator for sampled data\n",
      "    scipy.special : for coefficients and roots of orthogonal polynomials\n",
      "    \n",
      "    Notes\n",
      "    -----\n",
      "    \n",
      "    **Extra information for quad() inputs and outputs**\n",
      "    \n",
      "    If full_output is non-zero, then the third output argument\n",
      "    (infodict) is a dictionary with entries as tabulated below.  For\n",
      "    infinite limits, the range is transformed to (0,1) and the\n",
      "    optional outputs are given with respect to this transformed range.\n",
      "    Let M be the input argument limit and let K be infodict['last'].\n",
      "    The entries are:\n",
      "    \n",
      "    'neval'\n",
      "        The number of function evaluations.\n",
      "    'last'\n",
      "        The number, K, of subintervals produced in the subdivision process.\n",
      "    'alist'\n",
      "        A rank-1 array of length M, the first K elements of which are the\n",
      "        left end points of the subintervals in the partition of the\n",
      "        integration range.\n",
      "    'blist'\n",
      "        A rank-1 array of length M, the first K elements of which are the\n",
      "        right end points of the subintervals.\n",
      "    'rlist'\n",
      "        A rank-1 array of length M, the first K elements of which are the\n",
      "        integral approximations on the subintervals.\n",
      "    'elist'\n",
      "        A rank-1 array of length M, the first K elements of which are the\n",
      "        moduli of the absolute error estimates on the subintervals.\n",
      "    'iord'\n",
      "        A rank-1 integer array of length M, the first L elements of\n",
      "        which are pointers to the error estimates over the subintervals\n",
      "        with ``L=K`` if ``K<=M/2+2`` or ``L=M+1-K`` otherwise. Let I be the\n",
      "        sequence ``infodict['iord']`` and let E be the sequence\n",
      "        ``infodict['elist']``.  Then ``E[I[1]], ..., E[I[L]]`` forms a\n",
      "        decreasing sequence.\n",
      "    \n",
      "    If the input argument points is provided (i.e. it is not None),\n",
      "    the following additional outputs are placed in the output\n",
      "    dictionary.  Assume the points sequence is of length P.\n",
      "    \n",
      "    'pts'\n",
      "        A rank-1 array of length P+2 containing the integration limits\n",
      "        and the break points of the intervals in ascending order.\n",
      "        This is an array giving the subintervals over which integration\n",
      "        will occur.\n",
      "    'level'\n",
      "        A rank-1 integer array of length M (=limit), containing the\n",
      "        subdivision levels of the subintervals, i.e., if (aa,bb) is a\n",
      "        subinterval of ``(pts[1], pts[2])`` where ``pts[0]`` and ``pts[2]``\n",
      "        are adjacent elements of ``infodict['pts']``, then (aa,bb) has level l\n",
      "        if ``|bb-aa| = |pts[2]-pts[1]| * 2**(-l)``.\n",
      "    'ndin'\n",
      "        A rank-1 integer array of length P+2.  After the first integration\n",
      "        over the intervals (pts[1], pts[2]), the error estimates over some\n",
      "        of the intervals may have been increased artificially in order to\n",
      "        put their subdivision forward.  This array has ones in slots\n",
      "        corresponding to the subintervals for which this happens.\n",
      "    \n",
      "    **Weighting the integrand**\n",
      "    \n",
      "    The input variables, *weight* and *wvar*, are used to weight the\n",
      "    integrand by a select list of functions.  Different integration\n",
      "    methods are used to compute the integral with these weighting\n",
      "    functions.  The possible values of weight and the corresponding\n",
      "    weighting functions are.\n",
      "    \n",
      "    ==========  ===================================   =====================\n",
      "    ``weight``  Weight function used                  ``wvar``\n",
      "    ==========  ===================================   =====================\n",
      "    'cos'       cos(w*x)                              wvar = w\n",
      "    'sin'       sin(w*x)                              wvar = w\n",
      "    'alg'       g(x) = ((x-a)**alpha)*((b-x)**beta)   wvar = (alpha, beta)\n",
      "    'alg-loga'  g(x)*log(x-a)                         wvar = (alpha, beta)\n",
      "    'alg-logb'  g(x)*log(b-x)                         wvar = (alpha, beta)\n",
      "    'alg-log'   g(x)*log(x-a)*log(b-x)                wvar = (alpha, beta)\n",
      "    'cauchy'    1/(x-c)                               wvar = c\n",
      "    ==========  ===================================   =====================\n",
      "    \n",
      "    wvar holds the parameter w, (alpha, beta), or c depending on the weight\n",
      "    selected.  In these expressions, a and b are the integration limits.\n",
      "    \n",
      "    For the 'cos' and 'sin' weighting, additional inputs and outputs are\n",
      "    available.\n",
      "    \n",
      "    For finite integration limits, the integration is performed using a\n",
      "    Clenshaw-Curtis method which uses Chebyshev moments.  For repeated\n",
      "    calculations, these moments are saved in the output dictionary:\n",
      "    \n",
      "    'momcom'\n",
      "        The maximum level of Chebyshev moments that have been computed,\n",
      "        i.e., if ``M_c`` is ``infodict['momcom']`` then the moments have been\n",
      "        computed for intervals of length ``|b-a| * 2**(-l)``,\n",
      "        ``l=0,1,...,M_c``.\n",
      "    'nnlog'\n",
      "        A rank-1 integer array of length M(=limit), containing the\n",
      "        subdivision levels of the subintervals, i.e., an element of this\n",
      "        array is equal to l if the corresponding subinterval is\n",
      "        ``|b-a|* 2**(-l)``.\n",
      "    'chebmo'\n",
      "        A rank-2 array of shape (25, maxp1) containing the computed\n",
      "        Chebyshev moments.  These can be passed on to an integration\n",
      "        over the same interval by passing this array as the second\n",
      "        element of the sequence wopts and passing infodict['momcom'] as\n",
      "        the first element.\n",
      "    \n",
      "    If one of the integration limits is infinite, then a Fourier integral is\n",
      "    computed (assuming w neq 0).  If full_output is 1 and a numerical error\n",
      "    is encountered, besides the error message attached to the output tuple,\n",
      "    a dictionary is also appended to the output tuple which translates the\n",
      "    error codes in the array ``info['ierlst']`` to English messages.  The\n",
      "    output information dictionary contains the following entries instead of\n",
      "    'last', 'alist', 'blist', 'rlist', and 'elist':\n",
      "    \n",
      "    'lst'\n",
      "        The number of subintervals needed for the integration (call it ``K_f``).\n",
      "    'rslst'\n",
      "        A rank-1 array of length M_f=limlst, whose first ``K_f`` elements\n",
      "        contain the integral contribution over the interval\n",
      "        ``(a+(k-1)c, a+kc)`` where ``c = (2*floor(|w|) + 1) * pi / |w|``\n",
      "        and ``k=1,2,...,K_f``.\n",
      "    'erlst'\n",
      "        A rank-1 array of length ``M_f`` containing the error estimate\n",
      "        corresponding to the interval in the same position in\n",
      "        ``infodict['rslist']``.\n",
      "    'ierlst'\n",
      "        A rank-1 integer array of length ``M_f`` containing an error flag\n",
      "        corresponding to the interval in the same position in\n",
      "        ``infodict['rslist']``.  See the explanation dictionary (last entry\n",
      "        in the output tuple) for the meaning of the codes.\n",
      "    \n",
      "    Examples\n",
      "    --------\n",
      "    Calculate :math:`\\int^4_0 x^2 dx` and compare with an analytic result\n",
      "    \n",
      "    >>> from scipy import integrate\n",
      "    >>> x2 = lambda x: x**2\n",
      "    >>> integrate.quad(x2, 0, 4)\n",
      "    (21.333333333333332, 2.3684757858670003e-13)\n",
      "    >>> print(4**3 / 3.)  # analytical result\n",
      "    21.3333333333\n",
      "    \n",
      "    Calculate :math:`\\int^\\infty_0 e^{-x} dx`\n",
      "    \n",
      "    >>> invexp = lambda x: np.exp(-x)\n",
      "    >>> integrate.quad(invexp, 0, np.inf)\n",
      "    (1.0, 5.842605999138044e-11)\n",
      "    \n",
      "    >>> f = lambda x,a : a*x\n",
      "    >>> y, err = integrate.quad(f, 0, 1, args=(1,))\n",
      "    >>> y\n",
      "    0.5\n",
      "    >>> y, err = integrate.quad(f, 0, 1, args=(3,))\n",
      "    >>> y\n",
      "    1.5\n",
      "    \n",
      "    Calculate :math:`\\int^1_0 x^2 + y^2 dx` with ctypes, holding\n",
      "    y parameter as 1::\n",
      "    \n",
      "        testlib.c =>\n",
      "            double func(int n, double args[n]){\n",
      "                return args[0]*args[0] + args[1]*args[1];}\n",
      "        compile to library testlib.*\n",
      "    \n",
      "    ::\n",
      "    \n",
      "       from scipy import integrate\n",
      "       import ctypes\n",
      "       lib = ctypes.CDLL('/home/.../testlib.*') #use absolute path\n",
      "       lib.func.restype = ctypes.c_double\n",
      "       lib.func.argtypes = (ctypes.c_int,ctypes.c_double)\n",
      "       integrate.quad(lib.func,0,1,(1))\n",
      "       #(1.3333333333333333, 1.4802973661668752e-14)\n",
      "       print((1.0**3/3.0 + 1.0) - (0.0**3/3.0 + 0.0)) #Analytic result\n",
      "       # 1.3333333333333333\n",
      "    \n",
      "    Be aware that pulse shapes and other sharp features as compared to the\n",
      "    size of the integration interval may not be integrated correctly using\n",
      "    this method. A simplified example of this limitation is integrating a\n",
      "    y-axis reflected step function with many zero values within the integrals\n",
      "    bounds.\n",
      "    \n",
      "    >>> y = lambda x: 1 if x<=0 else 0\n",
      "    >>> integrate.quad(y, -1, 1)\n",
      "    (1.0, 1.1102230246251565e-14)\n",
      "    >>> integrate.quad(y, -1, 100)\n",
      "    (1.0000000002199108, 1.0189464580163188e-08)\n",
      "    >>> integrate.quad(y, -1, 10000)\n",
      "    (0.0, 0.0)\n",
      "\n"
     ]
    }
   ],
   "source": [
    "from scipy import integrate\n",
    "\n",
    "help(integrate.quad)"
   ]
  },
  {
   "cell_type": "code",
   "execution_count": 15,
   "metadata": {},
   "outputs": [
    {
     "data": {
      "text/plain": [
       "(1.6405333333333307, 1.8213578793317207e-14)"
      ]
     },
     "execution_count": 15,
     "metadata": {},
     "output_type": "execute_result"
    }
   ],
   "source": [
    "integrate.quad(f, 0, 0.8)"
   ]
  },
  {
   "cell_type": "code",
   "execution_count": 17,
   "metadata": {},
   "outputs": [
    {
     "data": {
      "text/plain": [
       "(289.43514651129396, 3.213375637925941e-12)"
      ]
     },
     "execution_count": 17,
     "metadata": {},
     "output_type": "execute_result"
    }
   ],
   "source": [
    "integrate.quad(v_parachutist, 0, 10)"
   ]
  },
  {
   "cell_type": "markdown",
   "metadata": {},
   "source": [
    "# Numerical differentiation\n",
    "\n",
    "Based on the limit definition of the derivative:\n",
    "\n",
    "$$f'(x_0) \\approx \\frac{f(x_0 + \\delta) - f(x_0)}{\\delta} $$\n",
    "\n",
    "\n",
    "$$f''(x_0) \\approx \\frac{f(x_0 + 2\\delta) - 2f(x_0 + \\delta) + f(x_0)}{\\delta^2} $$"
   ]
  },
  {
   "cell_type": "markdown",
   "metadata": {},
   "source": [
    "### Example\n",
    "\n",
    "Compute the first and second\n",
    "derivatives of the following function, at $x_0 = 0.5$, both analytically and approximately. For the approximation, use step sizes $h = 0.25$ and\n",
    "$h = 0.025$.\n",
    "\n",
    "$$f(x) = -0.1x^4 - 0.15 x^3 - 0.5x^2 - 0.25x + 1.2$$"
   ]
  },
  {
   "cell_type": "code",
   "execution_count": 20,
   "metadata": {},
   "outputs": [
    {
     "data": {
      "text/plain": [
       "(0.9249999999999999, -0.9125, -1.75)"
      ]
     },
     "execution_count": 20,
     "metadata": {},
     "output_type": "execute_result"
    }
   ],
   "source": [
    "def f(x):\n",
    "    return -0.1*x**4 - 0.15*x**3 - 0.5*x**2 - 0.25*x + 1.2\n",
    "\n",
    "# Analytical\n",
    "def fprime(x):\n",
    "    return -0.4*x**3 - 0.45*x**2 - x - 0.25\n",
    "\n",
    "def fprimeprime(x):\n",
    "    return -1.2*x**2 - 0.90*x - 1\n",
    "\n",
    "x_0 = .5\n",
    "f(x_0), fprime(x_0), fprimeprime(x_0)"
   ]
  },
  {
   "cell_type": "markdown",
   "metadata": {},
   "source": [
    "$$f'(x_0) \\approx \\frac{f(x_0 + \\delta) - f(x_0)}{\\delta} $$\n",
    "\n",
    "\n",
    "$$f''(x_0) \\approx \\frac{f(x_0 + 2\\delta) - 2f(x_0 + \\delta) + f(x_0)}{\\delta^2} $$"
   ]
  },
  {
   "cell_type": "code",
   "execution_count": 29,
   "metadata": {},
   "outputs": [],
   "source": [
    "# Numerical\n",
    "def first(f, x_0=.5, h=.25):\n",
    "    return (f(x_0 + h) - f(x_0)) / h\n",
    "\n",
    "def second(f, x_0=.5, h=.25):\n",
    "    return (f(x_0 + 2*h) - 2 * f(x_0 + h) + f(x_0)) / h**2"
   ]
  },
  {
   "cell_type": "code",
   "execution_count": 28,
   "metadata": {},
   "outputs": [
    {
     "data": {
      "image/png": "[encoded data removed]",
      "text/plain": [
       "<Figure size 432x288 with 1 Axes>"
      ]
     },
     "metadata": {
      "needs_background": "light"
     },
     "output_type": "display_data"
    }
   ],
   "source": [
    "import matplotlib.pyplot as plt\n",
    "%matplotlib inline\n",
    "\n",
    "# Calculate the tangent of f at x_0\n",
    "a = fprime(x_0)\n",
    "b = f(x_0) - fprime(x_0)* x_0\n",
    "tangent_ys = a * xs + b\n",
    "\n",
    "# Plot both f and the tangent\n",
    "xs = np.linspace(-1, 2)\n",
    "plt.plot(xs, f(xs))\n",
    "plt.plot(xs, tangent_ys)\n",
    "plt.scatter(x_0, f(x_0));"
   ]
  },
  {
   "cell_type": "code",
   "execution_count": 41,
   "metadata": {},
   "outputs": [
    {
     "data": {
      "text/plain": [
       "[-2.2375000000000003,\n",
       " -1.45,\n",
       " -1.1546875,\n",
       " -1.003599999999999,\n",
       " -0.9571375000000004,\n",
       " -0.9345953125000017,\n",
       " -0.9212850999999911,\n",
       " -0.9125875034998732]"
      ]
     },
     "execution_count": 41,
     "metadata": {},
     "output_type": "execute_result"
    },
    {
     "data": {
      "image/png": "[encoded data removed]",
      "text/plain": [
       "<Figure size 720x432 with 1 Axes>"
      ]
     },
     "metadata": {
      "needs_background": "light"
     },
     "output_type": "display_data"
    }
   ],
   "source": [
    "hs = [1, .5, .25, .1, .05, .025, .01, 0.0001]\n",
    "plt.plot(xs, f(xs))\n",
    "derivatives = []\n",
    "\n",
    "for h in hs:\n",
    "    derivative = first(f, h=h, x_0=x_0)\n",
    "    b = f(x_0) - derivative * x_0\n",
    "    plt.plot(xs, derivative * xs + b)\n",
    "    derivatives.append(derivative)\n",
    "\n",
    "plt.gcf().set_size_inches(10,6)\n",
    "derivatives"
   ]
  },
  {
   "cell_type": "markdown",
   "metadata": {},
   "source": [
    "## Numerical Differentiation in Python\n",
    "\n"
   ]
  },
  {
   "cell_type": "code",
   "execution_count": 45,
   "metadata": {},
   "outputs": [
    {
     "data": {
      "text/plain": [
       "array([ 0.04047663,  0.03592823,  0.0316735 ,  0.0276787 ,  0.02391012,\n",
       "        0.02033404,  0.01691673,  0.01362448,  0.01042355,  0.00728023,\n",
       "        0.0041608 ,  0.00103154, -0.00214129, -0.00539139, -0.0087525 ,\n",
       "       -0.01225832, -0.0159426 , -0.01983904, -0.02398137, -0.0284033 ,\n",
       "       -0.03313858, -0.0382209 , -0.04368401, -0.04956161, -0.05588743,\n",
       "       -0.06269519, -0.07001862, -0.07789143, -0.08634735, -0.0954201 ,\n",
       "       -0.1051434 , -0.11555098, -0.12667655, -0.13855384, -0.15121656,\n",
       "       -0.16469845, -0.17903322, -0.1942546 , -0.2103963 , -0.22749205,\n",
       "       -0.24557557, -0.26468058, -0.28484081, -0.30608998, -0.3284618 ,\n",
       "       -0.35199   , -0.3767083 , -0.40265043, -0.4298501 ])"
      ]
     },
     "execution_count": 45,
     "metadata": {},
     "output_type": "execute_result"
    }
   ],
   "source": [
    "np.diff(f(xs))"
   ]
  },
  {
   "cell_type": "markdown",
   "metadata": {},
   "source": [
    "`np.diff` returns an array of size n-1. We may want to use `np.gradient` instead."
   ]
  },
  {
   "cell_type": "code",
   "execution_count": 47,
   "metadata": {},
   "outputs": [
    {
     "data": {
      "text/plain": [
       "\u001b[0;31mSignature:\u001b[0m \u001b[0mnp\u001b[0m\u001b[0;34m.\u001b[0m\u001b[0mgradient\u001b[0m\u001b[0;34m(\u001b[0m\u001b[0mf\u001b[0m\u001b[0;34m,\u001b[0m \u001b[0;34m*\u001b[0m\u001b[0mvarargs\u001b[0m\u001b[0;34m,\u001b[0m \u001b[0;34m**\u001b[0m\u001b[0mkwargs\u001b[0m\u001b[0;34m)\u001b[0m\u001b[0;34m\u001b[0m\u001b[0;34m\u001b[0m\u001b[0m\n",
       "\u001b[0;31mDocstring:\u001b[0m\n",
       "Return the gradient of an N-dimensional array.\n",
       "\n",
       "The gradient is computed using second order accurate central differences\n",
       "in the interior points and either first or second order accurate one-sides\n",
       "(forward or backwards) differences at the boundaries.\n",
       "The returned gradient hence has the same shape as the input array.\n",
       "\n",
       "Parameters\n",
       "----------\n",
       "f : array_like\n",
       "    An N-dimensional array containing samples of a scalar function.\n",
       "varargs : list of scalar or array, optional\n",
       "    Spacing between f values. Default unitary spacing for all dimensions.\n",
       "    Spacing can be specified using:\n",
       "\n",
       "    1. single scalar to specify a sample distance for all dimensions.\n",
       "    2. N scalars to specify a constant sample distance for each dimension.\n",
       "       i.e. `dx`, `dy`, `dz`, ...\n",
       "    3. N arrays to specify the coordinates of the values along each\n",
       "       dimension of F. The length of the array must match the size of\n",
       "       the corresponding dimension\n",
       "    4. Any combination of N scalars/arrays with the meaning of 2. and 3.\n",
       "\n",
       "    If `axis` is given, the number of varargs must equal the number of axes.\n",
       "    Default: 1.\n",
       "\n",
       "edge_order : {1, 2}, optional\n",
       "    Gradient is calculated using N-th order accurate differences\n",
       "    at the boundaries. Default: 1.\n",
       "\n",
       "    .. versionadded:: 1.9.1\n",
       "\n",
       "axis : None or int or tuple of ints, optional\n",
       "    Gradient is calculated only along the given axis or axes\n",
       "    The default (axis = None) is to calculate the gradient for all the axes\n",
       "    of the input array. axis may be negative, in which case it counts from\n",
       "    the last to the first axis.\n",
       "\n",
       "    .. versionadded:: 1.11.0\n",
       "\n",
       "Returns\n",
       "-------\n",
       "gradient : ndarray or list of ndarray\n",
       "    A set of ndarrays (or a single ndarray if there is only one dimension)\n",
       "    corresponding to the derivatives of f with respect to each dimension.\n",
       "    Each derivative has the same shape as f.\n",
       "\n",
       "Examples\n",
       "--------\n",
       ">>> f = np.array([1, 2, 4, 7, 11, 16], dtype=float)\n",
       ">>> np.gradient(f)\n",
       "array([ 1. ,  1.5,  2.5,  3.5,  4.5,  5. ])\n",
       ">>> np.gradient(f, 2)\n",
       "array([ 0.5 ,  0.75,  1.25,  1.75,  2.25,  2.5 ])\n",
       "\n",
       "Spacing can be also specified with an array that represents the coordinates\n",
       "of the values F along the dimensions.\n",
       "For instance a uniform spacing:\n",
       "\n",
       ">>> x = np.arange(f.size)\n",
       ">>> np.gradient(f, x)\n",
       "array([ 1. ,  1.5,  2.5,  3.5,  4.5,  5. ])\n",
       "\n",
       "Or a non uniform one:\n",
       "\n",
       ">>> x = np.array([0., 1., 1.5, 3.5, 4., 6.], dtype=float)\n",
       ">>> np.gradient(f, x)\n",
       "array([ 1. ,  3. ,  3.5,  6.7,  6.9,  2.5])\n",
       "\n",
       "For two dimensional arrays, the return will be two arrays ordered by\n",
       "axis. In this example the first array stands for the gradient in\n",
       "rows and the second one in columns direction:\n",
       "\n",
       ">>> np.gradient(np.array([[1, 2, 6], [3, 4, 5]], dtype=float))\n",
       "[array([[ 2.,  2., -1.],\n",
       "        [ 2.,  2., -1.]]), array([[ 1. ,  2.5,  4. ],\n",
       "        [ 1. ,  1. ,  1. ]])]\n",
       "\n",
       "In this example the spacing is also specified:\n",
       "uniform for axis=0 and non uniform for axis=1\n",
       "\n",
       ">>> dx = 2.\n",
       ">>> y = [1., 1.5, 3.5]\n",
       ">>> np.gradient(np.array([[1, 2, 6], [3, 4, 5]], dtype=float), dx, y)\n",
       "[array([[ 1. ,  1. , -0.5],\n",
       "        [ 1. ,  1. , -0.5]]), array([[ 2. ,  2. ,  2. ],\n",
       "        [ 2. ,  1.7,  0.5]])]\n",
       "\n",
       "It is possible to specify how boundaries are treated using `edge_order`\n",
       "\n",
       ">>> x = np.array([0, 1, 2, 3, 4])\n",
       ">>> f = x**2\n",
       ">>> np.gradient(f, edge_order=1)\n",
       "array([ 1.,  2.,  4.,  6.,  7.])\n",
       ">>> np.gradient(f, edge_order=2)\n",
       "array([-0.,  2.,  4.,  6.,  8.])\n",
       "\n",
       "The `axis` keyword can be used to specify a subset of axes of which the\n",
       "gradient is calculated\n",
       "\n",
       ">>> np.gradient(np.array([[1, 2, 6], [3, 4, 5]], dtype=float), axis=0)\n",
       "array([[ 2.,  2., -1.],\n",
       "       [ 2.,  2., -1.]])\n",
       "\n",
       "Notes\n",
       "-----\n",
       "Assuming that :math:`f\\in C^{3}` (i.e., :math:`f` has at least 3 continuous\n",
       "derivatives) and let :math:`h_{*}` be a non-homogeneous stepsize, we\n",
       "minimize the \"consistency error\" :math:`\\eta_{i}` between the true gradient\n",
       "and its estimate from a linear combination of the neighboring grid-points:\n",
       "\n",
       ".. math::\n",
       "\n",
       "    \\eta_{i} = f_{i}^{\\left(1\\right)} -\n",
       "                \\left[ \\alpha f\\left(x_{i}\\right) +\n",
       "                        \\beta f\\left(x_{i} + h_{d}\\right) +\n",
       "                        \\gamma f\\left(x_{i}-h_{s}\\right)\n",
       "                \\right]\n",
       "\n",
       "By substituting :math:`f(x_{i} + h_{d})` and :math:`f(x_{i} - h_{s})`\n",
       "with their Taylor series expansion, this translates into solving\n",
       "the following the linear system:\n",
       "\n",
       ".. math::\n",
       "\n",
       "    \\left\\{\n",
       "        \\begin{array}{r}\n",
       "            \\alpha+\\beta+\\gamma=0 \\\\\n",
       "            \\beta h_{d}-\\gamma h_{s}=1 \\\\\n",
       "            \\beta h_{d}^{2}+\\gamma h_{s}^{2}=0\n",
       "        \\end{array}\n",
       "    \\right.\n",
       "\n",
       "The resulting approximation of :math:`f_{i}^{(1)}` is the following:\n",
       "\n",
       ".. math::\n",
       "\n",
       "    \\hat f_{i}^{(1)} =\n",
       "        \\frac{\n",
       "            h_{s}^{2}f\\left(x_{i} + h_{d}\\right)\n",
       "            + \\left(h_{d}^{2} - h_{s}^{2}\\right)f\\left(x_{i}\\right)\n",
       "            - h_{d}^{2}f\\left(x_{i}-h_{s}\\right)}\n",
       "            { h_{s}h_{d}\\left(h_{d} + h_{s}\\right)}\n",
       "        + \\mathcal{O}\\left(\\frac{h_{d}h_{s}^{2}\n",
       "                            + h_{s}h_{d}^{2}}{h_{d}\n",
       "                            + h_{s}}\\right)\n",
       "\n",
       "It is worth noting that if :math:`h_{s}=h_{d}`\n",
       "(i.e., data are evenly spaced)\n",
       "we find the standard second order approximation:\n",
       "\n",
       ".. math::\n",
       "\n",
       "    \\hat f_{i}^{(1)}=\n",
       "        \\frac{f\\left(x_{i+1}\\right) - f\\left(x_{i-1}\\right)}{2h}\n",
       "        + \\mathcal{O}\\left(h^{2}\\right)\n",
       "\n",
       "With a similar procedure the forward/backward approximations used for\n",
       "boundaries can be derived.\n",
       "\n",
       "References\n",
       "----------\n",
       ".. [1]  Quarteroni A., Sacco R., Saleri F. (2007) Numerical Mathematics\n",
       "        (Texts in Applied Mathematics). New York: Springer.\n",
       ".. [2]  Durran D. R. (1999) Numerical Methods for Wave Equations\n",
       "        in Geophysical Fluid Dynamics. New York: Springer.\n",
       ".. [3]  Fornberg B. (1988) Generation of Finite Difference Formulas on\n",
       "        Arbitrarily Spaced Grids,\n",
       "        Mathematics of Computation 51, no. 184 : 699-706.\n",
       "        `PDF <http://www.ams.org/journals/mcom/1988-51-184/\n",
       "        S0025-5718-1988-0935077-0/S0025-5718-1988-0935077-0.pdf>`_.\n",
       "\u001b[0;31mFile:\u001b[0m      ~/anaconda3/envs/numerical_methods/lib/python3.7/site-packages/numpy/lib/function_base.py\n",
       "\u001b[0;31mType:\u001b[0m      function\n"
      ]
     },
     "metadata": {},
     "output_type": "display_data"
    }
   ],
   "source": [
    "np.gradient?"
   ]
  },
  {
   "cell_type": "code",
   "execution_count": 48,
   "metadata": {},
   "outputs": [
    {
     "data": {
      "text/plain": [
       "array([ 0.04047663,  0.03820243,  0.03380086,  0.0296761 ,  0.02579441,\n",
       "        0.02212208,  0.01862539,  0.01527061,  0.01202401,  0.00885189,\n",
       "        0.00572052,  0.00259617, -0.00055488, -0.00376634, -0.00707194,\n",
       "       -0.01050541, -0.01410046, -0.01789082, -0.0219102 , -0.02619234,\n",
       "       -0.03077094, -0.03567974, -0.04095245, -0.04662281, -0.05272452,\n",
       "       -0.05929131, -0.0663569 , -0.07395502, -0.08211939, -0.09088373,\n",
       "       -0.10028175, -0.11034719, -0.12111376, -0.13261519, -0.1448852 ,\n",
       "       -0.15795751, -0.17186584, -0.18664391, -0.20232545, -0.21894418,\n",
       "       -0.23653381, -0.25512808, -0.2747607 , -0.29546539, -0.31727589,\n",
       "       -0.3402259 , -0.36434915, -0.38967937, -0.41625027, -0.4298501 ])"
      ]
     },
     "execution_count": 48,
     "metadata": {},
     "output_type": "execute_result"
    }
   ],
   "source": [
    "np.gradient(f(xs))"
   ]
  },
  {
   "cell_type": "markdown",
   "metadata": {},
   "source": [
    "# Problems"
   ]
  },
  {
   "cell_type": "markdown",
   "metadata": {},
   "source": [
    "#### Exercise\n",
    "\n",
    "The depths of a river H are measured at equally spaced distances across a channel as tabulated below. The river’s crosssectional area can be determined by integration as in\n",
    "\n",
    "$$ \\int_0^xH(x)dx$$\n",
    "\n",
    "```\n",
    "x, m |  0  2    4  6  8    10   12    14    16\n",
    "H, m |  0  1.9  2  2  2.4  2.6  2.25  1.12  0\n",
    "```\n",
    "\n",
    "Determine the cross-sectional area, both by the trapezoidal rule and by the 1/3 Simpson's rule.\n",
    "\n",
    "Optional: fit cubic splines to the points, and then calculate the area under that curve with multiple application."
   ]
  },
  {
   "cell_type": "code",
   "execution_count": null,
   "metadata": {},
   "outputs": [],
   "source": []
  },
  {
   "cell_type": "markdown",
   "metadata": {},
   "source": [
    "#### Exercise\n",
    "The normal distribution is governed by the equation\n",
    "\n",
    "$$N(x) = \\int_{-\\infty}^x\\frac{1}{\\sqrt{2\\pi}}e^{-x^2/2}dx$$\n",
    "\n",
    "where $x=(y-\\bar{y})/s_y$\n",
    "\n",
    "Write a function to calculate the probabilty of an event being less than y, for a distribution that by default will be centered at 0 and with a standard deviation of 1.\n",
    "\n",
    "For the purposes of this exercise, simply take -10 as left value."
   ]
  },
  {
   "cell_type": "code",
   "execution_count": null,
   "metadata": {},
   "outputs": [],
   "source": []
  }
 ],
 "metadata": {
  "kernelspec": {
   "display_name": "Python 3",
   "language": "python",
   "name": "python3"
  },
  "language_info": {
   "codemirror_mode": {
    "name": "ipython",
    "version": 3
   },
   "file_extension": ".py",
   "mimetype": "text/x-python",
   "name": "python",
   "nbconvert_exporter": "python",
   "pygments_lexer": "ipython3",
   "version": "3.7.2"
  }
 },
 "nbformat": 4,
 "nbformat_minor": 2
}
