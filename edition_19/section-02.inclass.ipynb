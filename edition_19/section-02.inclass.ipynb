{
 "cells": [
  {
   "cell_type": "markdown",
   "metadata": {},
   "source": [
    "# Finding the roots of an equation\n",
    "\n",
    "## Motivation\n",
    "\n",
    "We will find equations everywhere, and most of the time solving them will imply finding their roots:\n",
    "\n",
    "$$f(x) = 0 $$\n",
    "\n",
    "We will need approximate, numerical, methods when their roots are not analytically accessible. Consider, for example:\n",
    "\n",
    "$$f(x) = e^{-x} -x$$"
   ]
  },
  {
   "cell_type": "markdown",
   "metadata": {},
   "source": [
    "# The Bisection Method\n",
    "\n",
    "Based on Bolzano's theorem. It is an example of a **bracketing** method.\n",
    "\n",
    "\n",
    "1. Choose $x_l$ and $x_u$ such that $f(x_l)f(x_u) < 0$\n",
    "2. Estimate the root $x* = \\frac{x_l+x_u}{2}$\n",
    "3. Determine where the root lies:\n",
    "    1. If $f(x^∗) = 0$, then the root is $x^*$. Exit the computation.\n",
    "    2. If $f(x_l)f(x_*) < 0$, then the root lies in the first subinterval. \n",
    "    3. If $f(x_*)f(x_u) < 0$, then the root lies in the second subinterval. \n",
    "    \n",
    "Repeat until we find the root, until we reach a maximum number of iterations, or until we satisfy a convergence criterion, such as $ε_a < ε_s$."
   ]
  },
  {
   "cell_type": "markdown",
   "metadata": {},
   "source": [
    "#### Example\n",
    "\n",
    "The falling parachutist as a function of drag coefficient, $c$:\n",
    "\n",
    "\n",
    "$$f(c) = \\frac{g\\cdot m}{c} \\{1 - e^{-t(c/m)}\\}-v$$\n",
    "\n"
   ]
  },
  {
   "cell_type": "code",
   "execution_count": 1,
   "metadata": {},
   "outputs": [],
   "source": [
    "import numpy as np\n",
    "import matplotlib.pyplot as plt\n",
    "import warnings\n",
    "%matplotlib inline\n",
    "\n",
    "warnings.filterwarnings('ignore')\n",
    "def function(c):\n",
    "    m = 68.1 \n",
    "    v = 40\n",
    "    t = 10\n",
    "    g = 9.81\n",
    "    \n",
    "    return ((g * m) / c) * (1 - np.exp(-t * (c / m))) - v"
   ]
  },
  {
   "cell_type": "markdown",
   "metadata": {},
   "source": [
    "The function looks like this:"
   ]
  },
  {
   "cell_type": "code",
   "execution_count": 2,
   "metadata": {},
   "outputs": [
    {
     "data": {
      "image/png": "[encoded data removed]",
      "text/plain": [
       "<Figure size 432x288 with 1 Axes>"
      ]
     },
     "metadata": {
      "needs_background": "light"
     },
     "output_type": "display_data"
    }
   ],
   "source": [
    "cs = np.linspace(0, 20)\n",
    "fs = function(cs)\n",
    "plt.plot(cs, fs);"
   ]
  },
  {
   "cell_type": "markdown",
   "metadata": {},
   "source": [
    "We can apply the algorithm manually, step by step:"
   ]
  },
  {
   "cell_type": "code",
   "execution_count": 3,
   "metadata": {},
   "outputs": [
    {
     "data": {
      "text/plain": [
       "(6.113943075921462, -2.230260706051183)"
      ]
     },
     "execution_count": 3,
     "metadata": {},
     "output_type": "execute_result"
    }
   ],
   "source": [
    "function(12), function(16)"
   ]
  },
  {
   "cell_type": "code",
   "execution_count": 4,
   "metadata": {},
   "outputs": [
    {
     "data": {
      "text/plain": [
       "(1.6111163549207461, -2.230260706051183)"
      ]
     },
     "execution_count": 4,
     "metadata": {},
     "output_type": "execute_result"
    }
   ],
   "source": [
    "function(14), function(16)"
   ]
  },
  {
   "cell_type": "code",
   "execution_count": 5,
   "metadata": {},
   "outputs": [
    {
     "data": {
      "text/plain": [
       "(1.6111163549207461, -0.38445806069939437)"
      ]
     },
     "execution_count": 5,
     "metadata": {},
     "output_type": "execute_result"
    }
   ],
   "source": [
    "function(14), function(15)"
   ]
  },
  {
   "cell_type": "code",
   "execution_count": 6,
   "metadata": {},
   "outputs": [
    {
     "data": {
      "text/plain": [
       "(0.5936984488141874, -0.38445806069939437)"
      ]
     },
     "execution_count": 6,
     "metadata": {},
     "output_type": "execute_result"
    }
   ],
   "source": [
    "function(14.5), function(15)"
   ]
  },
  {
   "cell_type": "code",
   "execution_count": 7,
   "metadata": {},
   "outputs": [
    {
     "data": {
      "text/plain": [
       "(0.09982999167534246, -0.143497243851904)"
      ]
     },
     "execution_count": 7,
     "metadata": {},
     "output_type": "execute_result"
    }
   ],
   "source": [
    "function(14.75), function(14.875)"
   ]
  },
  {
   "cell_type": "code",
   "execution_count": 8,
   "metadata": {},
   "outputs": [
    {
     "data": {
      "text/plain": [
       "(0.09982999167534246, -0.02213120606264596)"
      ]
     },
     "execution_count": 8,
     "metadata": {},
     "output_type": "execute_result"
    }
   ],
   "source": [
    "function(14.75), function(14.8125)"
   ]
  },
  {
   "cell_type": "code",
   "execution_count": 9,
   "metadata": {},
   "outputs": [
    {
     "data": {
      "text/plain": [
       "(0.03877477430228282, -0.02213120606264596)"
      ]
     },
     "execution_count": 9,
     "metadata": {},
     "output_type": "execute_result"
    }
   ],
   "source": [
    "function(14.78125), function(14.8125)"
   ]
  },
  {
   "cell_type": "markdown",
   "metadata": {},
   "source": [
    "At this point, we now it's somewhere around 14.8. Wouldn't it be better to automate this procedure?"
   ]
  },
  {
   "cell_type": "markdown",
   "metadata": {},
   "source": [
    "We can write a function that uses functions as input. For example, the same way we plotted earlier, we can write a function that takes any function and plots it:"
   ]
  },
  {
   "cell_type": "code",
   "execution_count": 10,
   "metadata": {},
   "outputs": [],
   "source": [
    "def plot(f, left=0, right=20):\n",
    "    cs = np.linspace(left, right)\n",
    "    fs = f(cs)\n",
    "    plt.plot(cs, fs)\n",
    "    # Plot a black line at y=0\n",
    "    plt.plot(cs, [0] * len(cs), c='grey')\n"
   ]
  },
  {
   "cell_type": "markdown",
   "metadata": {},
   "source": [
    "Now we use our `plot()` function to plot different functions, either the ones that we already have or an anonimous one. Our `plot()` function is a _higher order function_."
   ]
  },
  {
   "cell_type": "code",
   "execution_count": 11,
   "metadata": {},
   "outputs": [
    {
     "data": {
      "image/png": "[encoded data removed]",
      "text/plain": [
       "<Figure size 432x288 with 1 Axes>"
      ]
     },
     "metadata": {
      "needs_background": "light"
     },
     "output_type": "display_data"
    }
   ],
   "source": [
    "def square(x):\n",
    "    return x * x\n",
    "\n",
    "plot(function)\n",
    "plot(square)\n",
    "plot(lambda x: -10 * x + 50)"
   ]
  },
  {
   "cell_type": "markdown",
   "metadata": {},
   "source": [
    "#### Exercise\n",
    "\n",
    "Write a function that performs the bisection method on any given function f. It will take a function as input, like the `plot()` function does."
   ]
  },
  {
   "cell_type": "code",
   "execution_count": 12,
   "metadata": {},
   "outputs": [
    {
     "data": {
      "text/plain": [
       "14.80078125"
      ]
     },
     "execution_count": 12,
     "metadata": {},
     "output_type": "execute_result"
    }
   ],
   "source": [
    "def bisect(f):\n",
    "    'Find a root of f within the interval [xl, xu]'\n",
    "    \n",
    "    iteration = 0\n",
    "    max_iterations = 100\n",
    "    xl = 12\n",
    "    xu = 16\n",
    "    es = 0.0005\n",
    "    ea = 1\n",
    "\n",
    "    if f(xl) * f(xu) > 0:\n",
    "        raise ValueError(\"No change of sign in the interval\")\n",
    "        \n",
    "    \n",
    "    while abs(ea) > es and iteration < max_iterations:\n",
    "        root = (xl + xu) / 2\n",
    "\n",
    "        if f(root) == 0:\n",
    "            ea = 0\n",
    "            break\n",
    "        elif f(xl) * f(root) < 0:\n",
    "            ea = (xu - root) / xu\n",
    "            xu = root\n",
    "        elif f(xu) * f(root) < 0:\n",
    "            ea = (xl - root) / xl\n",
    "            xl = root\n",
    "    \n",
    "        iteration += 1\n",
    "    \n",
    "    return root\n",
    "\n",
    "\n",
    "bisect(function)"
   ]
  },
  {
   "cell_type": "markdown",
   "metadata": {},
   "source": [
    "Check out what happens if we try to apply our solver to another function which does not have a root in the interval:"
   ]
  },
  {
   "cell_type": "code",
   "execution_count": 13,
   "metadata": {},
   "outputs": [
    {
     "ename": "ValueError",
     "evalue": "No change of sign in the interval",
     "output_type": "error",
     "traceback": [
      "\u001b[0;31m---------------------------------------------------------------------------\u001b[0m",
      "\u001b[0;31mValueError\u001b[0m                                Traceback (most recent call last)",
      "\u001b[0;32m<ipython-input-13-1faab7da0a42>\u001b[0m in \u001b[0;36m<module>\u001b[0;34m\u001b[0m\n\u001b[1;32m      2\u001b[0m     \u001b[0;32mreturn\u001b[0m \u001b[0;36m2\u001b[0m \u001b[0;34m*\u001b[0m \u001b[0mx\u001b[0m \u001b[0;34m*\u001b[0m \u001b[0mx\u001b[0m \u001b[0;34m-\u001b[0m \u001b[0;36m20\u001b[0m\u001b[0;34m\u001b[0m\u001b[0;34m\u001b[0m\u001b[0m\n\u001b[1;32m      3\u001b[0m \u001b[0;34m\u001b[0m\u001b[0m\n\u001b[0;32m----> 4\u001b[0;31m \u001b[0mbisect\u001b[0m\u001b[0;34m(\u001b[0m\u001b[0mparabolic\u001b[0m\u001b[0;34m)\u001b[0m\u001b[0;34m\u001b[0m\u001b[0;34m\u001b[0m\u001b[0m\n\u001b[0m",
      "\u001b[0;32m<ipython-input-12-158073b60304>\u001b[0m in \u001b[0;36mbisect\u001b[0;34m(f)\u001b[0m\n\u001b[1;32m     10\u001b[0m \u001b[0;34m\u001b[0m\u001b[0m\n\u001b[1;32m     11\u001b[0m     \u001b[0;32mif\u001b[0m \u001b[0mf\u001b[0m\u001b[0;34m(\u001b[0m\u001b[0mxl\u001b[0m\u001b[0;34m)\u001b[0m \u001b[0;34m*\u001b[0m \u001b[0mf\u001b[0m\u001b[0;34m(\u001b[0m\u001b[0mxu\u001b[0m\u001b[0;34m)\u001b[0m \u001b[0;34m>\u001b[0m \u001b[0;36m0\u001b[0m\u001b[0;34m:\u001b[0m\u001b[0;34m\u001b[0m\u001b[0;34m\u001b[0m\u001b[0m\n\u001b[0;32m---> 12\u001b[0;31m         \u001b[0;32mraise\u001b[0m \u001b[0mValueError\u001b[0m\u001b[0;34m(\u001b[0m\u001b[0;34m\"No change of sign in the interval\"\u001b[0m\u001b[0;34m)\u001b[0m\u001b[0;34m\u001b[0m\u001b[0;34m\u001b[0m\u001b[0m\n\u001b[0m\u001b[1;32m     13\u001b[0m \u001b[0;34m\u001b[0m\u001b[0m\n\u001b[1;32m     14\u001b[0m \u001b[0;34m\u001b[0m\u001b[0m\n",
      "\u001b[0;31mValueError\u001b[0m: No change of sign in the interval"
     ]
    }
   ],
   "source": [
    "def parabolic(x):\n",
    "    return 2 * x * x - 20\n",
    "\n",
    "bisect(parabolic)"
   ]
  },
  {
   "cell_type": "markdown",
   "metadata": {},
   "source": [
    "It's much better to extract those default values to optional arguments, so that we allow the user to modify them if needed:"
   ]
  },
  {
   "cell_type": "code",
   "execution_count": 14,
   "metadata": {},
   "outputs": [
    {
     "data": {
      "text/plain": [
       "14.80078125"
      ]
     },
     "execution_count": 14,
     "metadata": {},
     "output_type": "execute_result"
    }
   ],
   "source": [
    "def bisectv2(f, xl=12, xu=16, es=0.0005, max_iterations=100):\n",
    "    'Find a root of f within the interval [xl, xu]'\n",
    "    \n",
    "    if f(xl) * f(xu) > 0:\n",
    "        raise ValueError(\"No change of sign in the interval\")\n",
    "        \n",
    "    iteration = 0\n",
    "    ea = 1\n",
    "    \n",
    "    while abs(ea) > es and iteration < max_iterations:\n",
    "        root = (xl + xu) / 2\n",
    "\n",
    "        if f(root) == 0:\n",
    "            ea = 0\n",
    "            break\n",
    "        elif f(xl) * f(root) < 0:\n",
    "            ea = (xu - root) / xu\n",
    "            xu = root\n",
    "        elif f(xu) * f(root) < 0:\n",
    "            ea = (xl - root) / xl\n",
    "            xl = root\n",
    "        \n",
    "\n",
    "        iteration += 1\n",
    "    \n",
    "    return root\n",
    "\n",
    "\n",
    "bisectv2(function)"
   ]
  },
  {
   "cell_type": "markdown",
   "metadata": {},
   "source": [
    "We can use non-default values by name:"
   ]
  },
  {
   "cell_type": "code",
   "execution_count": 15,
   "metadata": {},
   "outputs": [
    {
     "data": {
      "text/plain": [
       "3.1619873046875"
      ]
     },
     "execution_count": 15,
     "metadata": {},
     "output_type": "execute_result"
    }
   ],
   "source": [
    "bisectv2(parabolic, xl=-2, xu=5)"
   ]
  },
  {
   "cell_type": "markdown",
   "metadata": {},
   "source": [
    "Or by position:"
   ]
  },
  {
   "cell_type": "code",
   "execution_count": 16,
   "metadata": {},
   "outputs": [
    {
     "data": {
      "text/plain": [
       "3.1619873046875"
      ]
     },
     "execution_count": 16,
     "metadata": {},
     "output_type": "execute_result"
    }
   ],
   "source": [
    "bisectv2(parabolic, -2, 5)"
   ]
  },
  {
   "cell_type": "markdown",
   "metadata": {},
   "source": [
    "# The Newton-Raphson method\n",
    "\n",
    "Based on \n",
    "\n",
    "$$f'(x_i) = \\frac{f(x_i) - 0}{x_i - x_{i+1}}$$\n",
    "\n",
    "Therefore:\n",
    "\n",
    "$$x_{i+1} = x_i - \\frac{f(x_i)}{f'(x_i)}$$\n",
    "\n",
    "It is an example of an **open** method.\n",
    "\n",
    "Graphically:\n",
    "\n",
    "![Newton-Raphson method](https://upload.wikimedia.org/wikipedia/commons/e/e0/NewtonIteration_Ani.gif)"
   ]
  },
  {
   "cell_type": "markdown",
   "metadata": {},
   "source": [
    "#### Example\n",
    "\n",
    "Use the Newton-Raphson method to estimate the root of $f(x) = e^{-x} - x$."
   ]
  },
  {
   "cell_type": "code",
   "execution_count": 17,
   "metadata": {},
   "outputs": [],
   "source": [
    "def f(x):\n",
    "    return np.e ** -x - x\n",
    "    \n",
    "def f_prime(x):\n",
    "    return - np.e ** -x - 1\n",
    "\n",
    "x_0 = 0"
   ]
  },
  {
   "cell_type": "code",
   "execution_count": 18,
   "metadata": {},
   "outputs": [
    {
     "data": {
      "text/plain": [
       "0.5"
      ]
     },
     "execution_count": 18,
     "metadata": {},
     "output_type": "execute_result"
    }
   ],
   "source": [
    "x_1 = x_0 - (f(x_0) / f_prime(x_0))\n",
    "x_0 = x_1\n",
    "x_1"
   ]
  },
  {
   "cell_type": "code",
   "execution_count": 19,
   "metadata": {},
   "outputs": [
    {
     "data": {
      "text/plain": [
       "0.5663110031972182"
      ]
     },
     "execution_count": 19,
     "metadata": {},
     "output_type": "execute_result"
    }
   ],
   "source": [
    "x_1 = x_0 - (f(x_0) / f_prime(x_0))\n",
    "x_0 = x_1\n",
    "x_1"
   ]
  },
  {
   "cell_type": "code",
   "execution_count": 20,
   "metadata": {},
   "outputs": [
    {
     "data": {
      "text/plain": [
       "0.5671431650348623"
      ]
     },
     "execution_count": 20,
     "metadata": {},
     "output_type": "execute_result"
    }
   ],
   "source": [
    "x_1 = x_0 - (f(x_0) / f_prime(x_0))\n",
    "x_0 = x_1\n",
    "x_1"
   ]
  },
  {
   "cell_type": "code",
   "execution_count": 21,
   "metadata": {},
   "outputs": [
    {
     "data": {
      "text/plain": [
       "0.5671433615153338"
      ]
     },
     "execution_count": 21,
     "metadata": {},
     "output_type": "execute_result"
    }
   ],
   "source": [
    "np.exp(-x_1)"
   ]
  },
  {
   "cell_type": "markdown",
   "metadata": {},
   "source": [
    "#### Exercise \n",
    "\n",
    "Write a function that performs the Newton-Raphson method on any given function, f.\n",
    "\n"
   ]
  },
  {
   "cell_type": "code",
   "execution_count": 22,
   "metadata": {},
   "outputs": [
    {
     "data": {
      "image/png": "[encoded data removed]",
      "text/plain": [
       "<Figure size 432x288 with 1 Axes>"
      ]
     },
     "metadata": {
      "needs_background": "light"
     },
     "output_type": "display_data"
    }
   ],
   "source": [
    "def e_minusx(x):\n",
    "    return np.exp(-x) - x\n",
    "\n",
    "def e_minusx_prime(x): \n",
    "    return - np.exp(-x) - 1\n",
    "\n",
    "plot(e_minusx, -3, 10)"
   ]
  },
  {
   "cell_type": "code",
   "execution_count": 23,
   "metadata": {},
   "outputs": [
    {
     "data": {
      "text/plain": [
       "0.567143285989123"
      ]
     },
     "execution_count": 23,
     "metadata": {},
     "output_type": "execute_result"
    }
   ],
   "source": [
    "def newton_raphson(f, fprime, x0=1, es=0.0005, max_iterations=100):\n",
    "    \n",
    "    ea=1\n",
    "    iteration=0\n",
    "    \n",
    "    while abs(ea) > es and iteration < max_iterations:\n",
    "        x1 = x0 - f(x0) / fprime(x0)\n",
    "        ea = (x1 - x0) / x1\n",
    "        x0 = x1\n",
    "        iteration += 1\n",
    "    \n",
    "    return x0\n",
    "    \n",
    "newton_raphson(e_minusx, e_minusx_prime)"
   ]
  },
  {
   "cell_type": "markdown",
   "metadata": {},
   "source": [
    "Check out how we can apply it to anything:"
   ]
  },
  {
   "cell_type": "code",
   "execution_count": 24,
   "metadata": {},
   "outputs": [
    {
     "data": {
      "text/plain": [
       "3.162277665175675"
      ]
     },
     "execution_count": 24,
     "metadata": {},
     "output_type": "execute_result"
    }
   ],
   "source": [
    "def xtimes4(x): return 4 * x\n",
    "\n",
    "newton_raphson(parabolic, xtimes4)"
   ]
  },
  {
   "cell_type": "code",
   "execution_count": 25,
   "metadata": {},
   "outputs": [
    {
     "data": {
      "text/plain": [
       "3.162277665175675"
      ]
     },
     "execution_count": 25,
     "metadata": {},
     "output_type": "execute_result"
    }
   ],
   "source": [
    "newton_raphson(parabolic, lambda x: 4 * x)"
   ]
  },
  {
   "cell_type": "markdown",
   "metadata": {},
   "source": [
    "## Convergence rate\n",
    "\n",
    "In order to compare convergence rate with the bisection method, we are going to write two versions that return the history of approximation in addition to the final estimate."
   ]
  },
  {
   "cell_type": "code",
   "execution_count": 26,
   "metadata": {},
   "outputs": [
    {
     "data": {
      "text/plain": [
       "(0.567143285989123,\n",
       " [0.5378828427399902, 0.5669869914054133, 0.567143285989123])"
      ]
     },
     "execution_count": 26,
     "metadata": {},
     "output_type": "execute_result"
    }
   ],
   "source": [
    "def bisect_history(f, xl=12, xu=16, es=0.0005, max_iterations=100):\n",
    "    iteration = 0\n",
    "    ea = 1\n",
    "    history = []\n",
    "    \n",
    "    while abs(ea) > es and iteration < max_iterations:\n",
    "        root = (xl + xu) / 2\n",
    "        history.append(root)\n",
    "\n",
    "        if f(root) == 0:\n",
    "            ea = 0\n",
    "            break\n",
    "        elif f(xl) * f(root) < 0:\n",
    "            ea = (xu - root) / xu\n",
    "            xu = root\n",
    "        elif f(xu) * f(root) < 0:\n",
    "            ea = (xl - root) / xl\n",
    "            xl = root\n",
    "        \n",
    "\n",
    "        iteration += 1\n",
    "    \n",
    "    return root, history\n",
    "\n",
    "\n",
    "def newton_raphson_history(f, fprime, x0=1, es=0.0005, max_iterations=100):\n",
    "    \n",
    "    ea=1\n",
    "    iteration=0\n",
    "    history = []\n",
    "\n",
    "    while abs(ea) > es and iteration < max_iterations:\n",
    "        x1 = x0 - f(x0) / fprime(x0)\n",
    "        history.append(x1)\n",
    "        ea = (x1 - x0) / x1\n",
    "        x0 = x1\n",
    "        iteration += 1\n",
    "    \n",
    "    return x0, history\n",
    "    \n",
    "newton_raphson_history(e_minusx, e_minusx_prime)"
   ]
  },
  {
   "cell_type": "code",
   "execution_count": 27,
   "metadata": {},
   "outputs": [
    {
     "data": {
      "text/plain": [
       "(0.56719970703125,\n",
       " [1.25,\n",
       "  0.875,\n",
       "  0.6875,\n",
       "  0.59375,\n",
       "  0.546875,\n",
       "  0.5703125,\n",
       "  0.55859375,\n",
       "  0.564453125,\n",
       "  0.5673828125,\n",
       "  0.56591796875,\n",
       "  0.566650390625,\n",
       "  0.5670166015625,\n",
       "  0.56719970703125])"
      ]
     },
     "execution_count": 27,
     "metadata": {},
     "output_type": "execute_result"
    }
   ],
   "source": [
    "bisect_history(e_minusx, xl=0.5, xu=2)"
   ]
  },
  {
   "cell_type": "markdown",
   "metadata": {},
   "source": [
    "## Pitfalls\n",
    "\n",
    "* Multiple roots\n",
    "* $f-(x_i)$ very close to 0\n",
    "* $f$ has an inflection point very close to the root.\n",
    "* Shape of $f$ might make it very sensitive to initial values."
   ]
  },
  {
   "cell_type": "markdown",
   "metadata": {},
   "source": [
    "#### Example\n",
    "\n",
    "Use the Newton-Raphson function we wrote earlier to find a root of $f(x) = sin(x)$"
   ]
  },
  {
   "cell_type": "code",
   "execution_count": 28,
   "metadata": {},
   "outputs": [
    {
     "data": {
      "image/png": "[encoded data removed]",
      "text/plain": [
       "<Figure size 432x288 with 1 Axes>"
      ]
     },
     "metadata": {
      "needs_background": "light"
     },
     "output_type": "display_data"
    }
   ],
   "source": [
    "plot(np.sin)"
   ]
  },
  {
   "cell_type": "markdown",
   "metadata": {},
   "source": [
    "If we apply N-R to this function, depending on the initial value, it might take a while to converge because it jumps around."
   ]
  },
  {
   "cell_type": "code",
   "execution_count": 29,
   "metadata": {},
   "outputs": [
    {
     "data": {
      "text/plain": [
       "[4.793986133227309,\n",
       " 17.022104570959424,\n",
       " 13.211753675595238,\n",
       " 12.45880896507305,\n",
       " 12.566787354860113,\n",
       " 12.566370614335048]"
      ]
     },
     "execution_count": 29,
     "metadata": {},
     "output_type": "execute_result"
    }
   ],
   "source": [
    "root, history = newton_raphson_history(np.sin, np.cos, 7.5)\n",
    "history"
   ]
  },
  {
   "cell_type": "code",
   "execution_count": 30,
   "metadata": {},
   "outputs": [
    {
     "data": {
      "image/png": "[encoded data removed]",
      "text/plain": [
       "<Figure size 432x288 with 1 Axes>"
      ]
     },
     "metadata": {
      "needs_background": "light"
     },
     "output_type": "display_data"
    }
   ],
   "source": [
    "plot(np.sin)\n",
    "plt.scatter(history, np.sin(history), c='Red');"
   ]
  },
  {
   "cell_type": "markdown",
   "metadata": {},
   "source": [
    "# Roots of polynomials\n",
    "\n",
    "$$f(x) = a_0 + a_1 x + a_2 x^2 + \\ldots + a_n x^n$$ .\n",
    "\n",
    "1. An $n$th order equation will have $n$ roots, not necessarily different.\n",
    "2. If n is odd, there is at least one real root.\n",
    "3. If there are any complex roots, they come in conjugate pairs: $\\lambda + \\mu i$, $\\lambda - \\mu i$\n",
    "\n",
    "Newton-Raphson can be used to find roots of polynomials but it might be susceptible to convergence problems. For that reason, methods specific to the roots of polynomials have been developed, like Müller's and Bairstow's."
   ]
  },
  {
   "cell_type": "markdown",
   "metadata": {},
   "source": [
    "## Deflation \n",
    "\n",
    "Deflation is the process of eliminating already found roots of polynomials in order not to find them again. We just do this by dividing by $(x-r)$.\n"
   ]
  },
  {
   "cell_type": "markdown",
   "metadata": {},
   "source": [
    "## Root polishing\n",
    "\n",
    "Consists of taking the solutions found during deflation as initial estimates, and then going back to the original polynomial and determining each again.\n",
    "\n",
    "We might have problems if there are two or more roots that are so close that they converge on the same undeflated root."
   ]
  },
  {
   "cell_type": "markdown",
   "metadata": {},
   "source": [
    "## `polyroot`\n",
    "\n",
    "See [numpy polyroot](https://docs.scipy.org/doc/numpy-1.15.4/reference/generated/numpy.polynomial.polynomial.polyroots.html) for more details.\n"
   ]
  },
  {
   "cell_type": "code",
   "execution_count": 31,
   "metadata": {},
   "outputs": [
    {
     "name": "stdout",
     "output_type": "stream",
     "text": [
      "Help on function polyroots in module numpy.polynomial.polynomial:\n",
      "\n",
      "polyroots(c)\n",
      "    Compute the roots of a polynomial.\n",
      "    \n",
      "    Return the roots (a.k.a. \"zeros\") of the polynomial\n",
      "    \n",
      "    .. math:: p(x) = \\sum_i c[i] * x^i.\n",
      "    \n",
      "    Parameters\n",
      "    ----------\n",
      "    c : 1-D array_like\n",
      "        1-D array of polynomial coefficients.\n",
      "    \n",
      "    Returns\n",
      "    -------\n",
      "    out : ndarray\n",
      "        Array of the roots of the polynomial. If all the roots are real,\n",
      "        then `out` is also real, otherwise it is complex.\n",
      "    \n",
      "    See Also\n",
      "    --------\n",
      "    chebroots\n",
      "    \n",
      "    Notes\n",
      "    -----\n",
      "    The root estimates are obtained as the eigenvalues of the companion\n",
      "    matrix, Roots far from the origin of the complex plane may have large\n",
      "    errors due to the numerical instability of the power series for such\n",
      "    values. Roots with multiplicity greater than 1 will also show larger\n",
      "    errors as the value of the series near such points is relatively\n",
      "    insensitive to errors in the roots. Isolated roots near the origin can\n",
      "    be improved by a few iterations of Newton's method.\n",
      "    \n",
      "    Examples\n",
      "    --------\n",
      "    >>> import numpy.polynomial.polynomial as poly\n",
      "    >>> poly.polyroots(poly.polyfromroots((-1,0,1)))\n",
      "    array([-1.,  0.,  1.])\n",
      "    >>> poly.polyroots(poly.polyfromroots((-1,0,1))).dtype\n",
      "    dtype('float64')\n",
      "    >>> j = complex(0,1)\n",
      "    >>> poly.polyroots(poly.polyfromroots((-j,0,j)))\n",
      "    array([  0.00000000e+00+0.j,   0.00000000e+00+1.j,   2.77555756e-17-1.j])\n",
      "\n"
     ]
    }
   ],
   "source": [
    "from numpy.polynomial import polynomial as poly\n",
    "\n",
    "help(poly.polyroots)"
   ]
  },
  {
   "cell_type": "code",
   "execution_count": 32,
   "metadata": {},
   "outputs": [
    {
     "data": {
      "text/plain": [
       "array([-0.5,  0.5])"
      ]
     },
     "execution_count": 32,
     "metadata": {},
     "output_type": "execute_result"
    }
   ],
   "source": [
    "poly.polyroots([1, 0, -4])"
   ]
  },
  {
   "cell_type": "code",
   "execution_count": 33,
   "metadata": {},
   "outputs": [
    {
     "data": {
      "text/plain": [
       "array([-2.,  2.])"
      ]
     },
     "execution_count": 33,
     "metadata": {},
     "output_type": "execute_result"
    }
   ],
   "source": [
    "poly.polyroots([-4, 0, 1])"
   ]
  },
  {
   "cell_type": "markdown",
   "metadata": {},
   "source": [
    "# Problems"
   ]
  },
  {
   "cell_type": "markdown",
   "metadata": {},
   "source": [
    "#### Exercise\n",
    "\n",
    "Use Newton-Raphson to find the positive real root of\n",
    "\n",
    "$$f(x) = x^3 + x^2 -4x -4$$\n",
    "\n",
    "Plot the functions, and compare the roots to those returned by polyroot."
   ]
  },
  {
   "cell_type": "code",
   "execution_count": null,
   "metadata": {},
   "outputs": [],
   "source": []
  },
  {
   "cell_type": "markdown",
   "metadata": {},
   "source": [
    "#### Exercise\n",
    "\n",
    "Remember that the velocity v of a falling parachutist is given by\n",
    "\n",
    "$$v = \\frac{gm}{c} (1 - e^{-(c/m)t})$$\n",
    "\n",
    "where $g = 9.8 m/s^2$. For a parachutist with a drag coefficient $c = 15 kg/s$, compute the mass $m$ so that velocity is $v = 35 m/s$ at $t = 9s$. Use any method to determine m to a level of $\\epsilon_s = 0.1%$."
   ]
  },
  {
   "cell_type": "code",
   "execution_count": null,
   "metadata": {},
   "outputs": [],
   "source": []
  },
  {
   "cell_type": "markdown",
   "metadata": {},
   "source": [
    "#### Exercise\n",
    "\n",
    "Use bisection to determine the drag coefficient needed so that an 80-kg parachutist has a velocity of 36 m/s after 4 s of free fall. Start with initial guesses of $x_l = 0.1$ and $x_u = 0.2$ and iterate until the approximate relative error falls below 2%."
   ]
  },
  {
   "cell_type": "code",
   "execution_count": null,
   "metadata": {},
   "outputs": [],
   "source": []
  },
  {
   "cell_type": "markdown",
   "metadata": {},
   "source": [
    "#### Exercise\n",
    "\n",
    "Determine the lowest real root of f(x) = –12 − 21x + 18x 2 − 2.4x 3:\n",
    "\n",
    "* Graphically \n",
    "* Using Newton-Raphson to a value of $\\epsilon_s$ corresponding to three significant figures."
   ]
  },
  {
   "cell_type": "code",
   "execution_count": null,
   "metadata": {},
   "outputs": [],
   "source": []
  },
  {
   "cell_type": "markdown",
   "metadata": {},
   "source": [
    "# Further Reading\n",
    "[Muller's method]\n",
    "\n",
    "[Bairstow's method]\n",
    "\n",
    "[Muller's method]: https://en.wikipedia.org/wiki/Muller%27s_method\n",
    "[Bairstow's method]: https://en.wikipedia.org/wiki/Bairstow%27s_method"
   ]
  }
 ],
 "metadata": {
  "kernelspec": {
   "display_name": "Python 3",
   "language": "python",
   "name": "python3"
  },
  "language_info": {
   "codemirror_mode": {
    "name": "ipython",
    "version": 3
   },
   "file_extension": ".py",
   "mimetype": "text/x-python",
   "name": "python",
   "nbconvert_exporter": "python",
   "pygments_lexer": "ipython3",
   "version": "3.7.2"
  },
  "toc-autonumbering": true
 },
 "nbformat": 4,
 "nbformat_minor": 2
}
