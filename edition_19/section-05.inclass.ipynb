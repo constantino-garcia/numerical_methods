{
 "cells": [
  {
   "cell_type": "markdown",
   "metadata": {},
   "source": [
    "# Curve Fitting\n",
    "\n",
    "Fit a curve as closely as possible to a set of given points.\n"
   ]
  },
  {
   "cell_type": "markdown",
   "metadata": {},
   "source": [
    "## Motivation\n",
    "\n",
    "When we have many noisy measurements, we might want to fit a curve of a particular shape to approximate the \"real\" or \"ideal\" response curve independent of the noise of each particular measurement.\n",
    "\n",
    "When the individual measures are known to be very precise, we might still need to do curve fitting. The intention here can be to simplify the representation of a complex function, if we know it. If we don't, generating a mathematical expression that passes through all the points will allow us to _interpolate_, ie, to evaluate the function at points for which we have no data."
   ]
  },
  {
   "cell_type": "markdown",
   "metadata": {
    "toc-hr-collapsed": false
   },
   "source": [
    "# Regression"
   ]
  },
  {
   "cell_type": "markdown",
   "metadata": {},
   "source": [
    "## Linear Regression\n",
    "\n",
    "We want to fit a line of the general form\n",
    "\n",
    "$$y = ax + b$$\n",
    "\n",
    "to a set of points $(x_1,y_1), (x_2,y_2), (x_3,y_3),\\ldots, (x_n,y_n)$\n",
    "\n",
    "![Linear Regression](https://uc-r.github.io/public/images/analytics/regression/sq.errors-1.png)"
   ]
  },
  {
   "cell_type": "markdown",
   "metadata": {},
   "source": [
    "If we express those points as \n",
    "\n",
    "$$y_i = \\beta_0 + \\beta_1 x_i + e_i$$ \n",
    "\n",
    "We have an objective for an optimization problem: minimize the error terms $e_i$. More precisely, we'll minimize the square errors.\n",
    "\n",
    "$$\\min_{\\beta_0, \\beta_1}\\sum_{i=1}^n e_i^2 = \\sum_{i=1}^n (y_i - \\beta_0 -\\beta_1x_i)^2$$\n",
    "\n",
    "The curve that best fits our n points will have slope and intercept:\n",
    "\n",
    "$$ \\widehat{\\beta_1} = \\frac{\\sum x_iy_i - n \\bar{x}\\bar{y}}{\\sum x_i^2 - n \\bar{x}^2}$$\n",
    "\n",
    "$$\\widehat{\\beta_0} = \\bar{y} - \\widehat{\\beta_1} \\bar{x}$$"
   ]
  },
  {
   "cell_type": "markdown",
   "metadata": {},
   "source": [
    "### Linear Regression with Python\n",
    "\n",
    "Very easy to do with the [scikit-learn](https://scikit-learn.org/) package.\n",
    "\n",
    "scikit-learn works flawlessly with numpy and also allows us to fit Machine Learning models that are a lot more flexible, like Random Forests or Artificial Neural Networks."
   ]
  },
  {
   "cell_type": "markdown",
   "metadata": {},
   "source": [
    "#### Example \n",
    "\n",
    "Create random points that approximately fit the line\n",
    "\n",
    "$$y = 2x + 10$$\n",
    "\n",
    "Plot them, fit a line using `LinearRegression` from the `sklearn.linear_model` package, and plot both the points and the line together."
   ]
  },
  {
   "cell_type": "code",
   "execution_count": 17,
   "metadata": {},
   "outputs": [
    {
     "data": {
      "image/png": "[encoded data removed]",
      "text/plain": [
       "<Figure size 432x288 with 1 Axes>"
      ]
     },
     "metadata": {
      "needs_background": "light"
     },
     "output_type": "display_data"
    }
   ],
   "source": [
    "import numpy as np\n",
    "import matplotlib.pyplot as plt\n",
    "from sklearn.linear_model import LinearRegression\n",
    "%matplotlib inline\n",
    "\n",
    "\n",
    "xs = 40 * np.random.randn(100) + 60\n",
    "jitter = 40 * np.random.randn(100)\n",
    "ys = 2 * xs + 10 + jitter\n",
    "\n",
    "plt.scatter(xs, ys);"
   ]
  },
  {
   "cell_type": "code",
   "execution_count": 18,
   "metadata": {},
   "outputs": [
    {
     "data": {
      "text/plain": [
       "['__abstractmethods__',\n",
       " '__class__',\n",
       " '__delattr__',\n",
       " '__dict__',\n",
       " '__dir__',\n",
       " '__doc__',\n",
       " '__eq__',\n",
       " '__format__',\n",
       " '__ge__',\n",
       " '__getattribute__',\n",
       " '__getstate__',\n",
       " '__gt__',\n",
       " '__hash__',\n",
       " '__init__',\n",
       " '__init_subclass__',\n",
       " '__le__',\n",
       " '__lt__',\n",
       " '__module__',\n",
       " '__ne__',\n",
       " '__new__',\n",
       " '__reduce__',\n",
       " '__reduce_ex__',\n",
       " '__repr__',\n",
       " '__setattr__',\n",
       " '__setstate__',\n",
       " '__sizeof__',\n",
       " '__str__',\n",
       " '__subclasshook__',\n",
       " '__weakref__',\n",
       " '_abc_impl',\n",
       " '_decision_function',\n",
       " '_estimator_type',\n",
       " '_get_param_names',\n",
       " '_preprocess_data',\n",
       " '_set_intercept',\n",
       " 'copy_X',\n",
       " 'fit',\n",
       " 'fit_intercept',\n",
       " 'get_params',\n",
       " 'n_jobs',\n",
       " 'normalize',\n",
       " 'predict',\n",
       " 'score',\n",
       " 'set_params']"
      ]
     },
     "execution_count": 18,
     "metadata": {},
     "output_type": "execute_result"
    }
   ],
   "source": [
    "lr = LinearRegression()\n",
    "\n",
    "dir(lr)"
   ]
  },
  {
   "cell_type": "code",
   "execution_count": 19,
   "metadata": {},
   "outputs": [
    {
     "data": {
      "text/plain": [
       "LinearRegression(copy_X=True, fit_intercept=True, n_jobs=None,\n",
       "         normalize=False)"
      ]
     },
     "execution_count": 19,
     "metadata": {},
     "output_type": "execute_result"
    }
   ],
   "source": [
    "lr.fit(xs.reshape(-1, 1), ys)"
   ]
  },
  {
   "cell_type": "code",
   "execution_count": 20,
   "metadata": {},
   "outputs": [
    {
     "data": {
      "text/plain": [
       "(array([1.9022046]), 17.78876625286175)"
      ]
     },
     "execution_count": 20,
     "metadata": {},
     "output_type": "execute_result"
    }
   ],
   "source": [
    "lr.coef_, lr.intercept_"
   ]
  },
  {
   "cell_type": "code",
   "execution_count": 21,
   "metadata": {},
   "outputs": [
    {
     "data": {
      "text/plain": [
       "[<matplotlib.lines.Line2D at 0x7f2cbd71e6d8>]"
      ]
     },
     "execution_count": 21,
     "metadata": {},
     "output_type": "execute_result"
    },
    {
     "data": {
      "image/png": "[encoded data removed]",
      "text/plain": [
       "<Figure size 432x288 with 1 Axes>"
      ]
     },
     "metadata": {
      "needs_background": "light"
     },
     "output_type": "display_data"
    }
   ],
   "source": [
    "plt.scatter(xs, ys);\n",
    "estimated_ys = lr.coef_ * xs + lr.intercept_\n",
    "plt.plot(xs, estimated_ys, c='orange')"
   ]
  },
  {
   "cell_type": "markdown",
   "metadata": {},
   "source": [
    "### Multivariable linear regression with Python\n",
    "\n",
    "Same thing, with more dimensions"
   ]
  },
  {
   "cell_type": "code",
   "execution_count": 22,
   "metadata": {},
   "outputs": [],
   "source": [
    "xs = np.random.randn(50, 2) * 40"
   ]
  },
  {
   "cell_type": "code",
   "execution_count": 23,
   "metadata": {},
   "outputs": [],
   "source": [
    "ys = 5 * xs[:,0] - 7 * xs[:, 1] + 400\n",
    "noise = np.random.randn(len(ys)) * 100\n",
    "ys = xs.dot(np.array([5, -7])) + 400 + noise"
   ]
  },
  {
   "cell_type": "code",
   "execution_count": 24,
   "metadata": {},
   "outputs": [
    {
     "data": {
      "text/plain": [
       "LinearRegression(copy_X=True, fit_intercept=True, n_jobs=None,\n",
       "         normalize=False)"
      ]
     },
     "execution_count": 24,
     "metadata": {},
     "output_type": "execute_result"
    }
   ],
   "source": [
    "lr.fit(xs, ys)"
   ]
  },
  {
   "cell_type": "code",
   "execution_count": 25,
   "metadata": {},
   "outputs": [
    {
     "data": {
      "text/plain": [
       "(array([ 4.59749888, -7.14322881]), 403.196773270737)"
      ]
     },
     "execution_count": 25,
     "metadata": {},
     "output_type": "execute_result"
    }
   ],
   "source": [
    "lr.coef_, lr.intercept_"
   ]
  },
  {
   "cell_type": "markdown",
   "metadata": {},
   "source": [
    "## Polynomial Regression\n",
    "\n",
    "It can be posed as a simple extension of linear regression, with new synthetic variables.\n",
    "\n",
    "Then we can express it in vectorial form.\n"
   ]
  },
  {
   "cell_type": "code",
   "execution_count": 26,
   "metadata": {},
   "outputs": [
    {
     "data": {
      "text/plain": [
       "<matplotlib.collections.PathCollection at 0x7f2cbd656f98>"
      ]
     },
     "execution_count": 26,
     "metadata": {},
     "output_type": "execute_result"
    },
    {
     "data": {
      "image/png": "[encoded data removed]",
      "text/plain": [
       "<Figure size 432x288 with 1 Axes>"
      ]
     },
     "metadata": {
      "needs_background": "light"
     },
     "output_type": "display_data"
    }
   ],
   "source": [
    "npoints = 50\n",
    "\n",
    "xs = np.random.randn(npoints) * 5\n",
    "noise = np.random.randn(npoints) * 100\n",
    "ys = xs ** 3 + 6 * xs ** 2 - 4 * xs + 100 + noise\n",
    "\n",
    "plt.scatter(xs, ys)"
   ]
  },
  {
   "cell_type": "code",
   "execution_count": 27,
   "metadata": {},
   "outputs": [
    {
     "data": {
      "text/plain": [
       "LinearRegression(copy_X=True, fit_intercept=True, n_jobs=None,\n",
       "         normalize=False)"
      ]
     },
     "execution_count": 27,
     "metadata": {},
     "output_type": "execute_result"
    }
   ],
   "source": [
    "synthetic_variables = np.zeros((npoints, 3))\n",
    "synthetic_variables[:,0] = xs\n",
    "synthetic_variables[:,1] = xs ** 2\n",
    "synthetic_variables[:,2] = xs ** 3\n",
    "\n",
    "lr.fit(synthetic_variables, ys)"
   ]
  },
  {
   "cell_type": "code",
   "execution_count": 28,
   "metadata": {},
   "outputs": [
    {
     "data": {
      "text/plain": [
       "(array([-4.14205068,  5.82554135,  1.00475175]), 87.28379027266573)"
      ]
     },
     "execution_count": 28,
     "metadata": {},
     "output_type": "execute_result"
    }
   ],
   "source": [
    "lr.coef_, lr.intercept_"
   ]
  },
  {
   "cell_type": "code",
   "execution_count": 34,
   "metadata": {},
   "outputs": [
    {
     "data": {
      "image/png": "[encoded data removed]",
      "text/plain": [
       "<Figure size 432x288 with 1 Axes>"
      ]
     },
     "metadata": {
      "needs_background": "light"
     },
     "output_type": "display_data"
    }
   ],
   "source": [
    "estimated_ys = synthetic_variables.dot(lr.coef_) + lr.intercept_\n",
    "\n",
    "xs_axis = np.linspace(-20,20)\n",
    "synthetic_xs = np.zeros((len(xs_axis), 3))\n",
    "synthetic_xs[:,0] = xs_axis\n",
    "synthetic_xs[:,1] = xs_axis ** 2\n",
    "synthetic_xs[:,2] = xs_axis ** 3\n",
    "ordered_ys = synthetic_xs.dot(lr.coef_) + lr.intercept_\n",
    "\n",
    "\n",
    "plt.scatter(xs, ys)\n",
    "plt.scatter(xs, estimated_ys)\n",
    "plt.plot(xs_axis, synthetic_xs[:,2]);"
   ]
  },
  {
   "cell_type": "code",
   "execution_count": 76,
   "metadata": {},
   "outputs": [
    {
     "data": {
      "text/plain": [
       "array([[ -2.70025359,   7.29136943, -19.68854645],\n",
       "       [  1.7535831 ,   3.07505368,   5.39236215],\n",
       "       [  0.61853775,   0.38258895,   0.23664571]])"
      ]
     },
     "execution_count": 76,
     "metadata": {},
     "output_type": "execute_result"
    }
   ],
   "source": [
    "synthetic_variables[:3]"
   ]
  },
  {
   "cell_type": "code",
   "execution_count": 35,
   "metadata": {},
   "outputs": [
    {
     "data": {
      "text/plain": [
       "array([[  -7.05251437,   49.73795898, -350.77767059],\n",
       "       [  -7.65603118,   58.61481348, -448.75683986],\n",
       "       [  -4.15865749,   17.29443209,  -71.9216195 ]])"
      ]
     },
     "execution_count": 35,
     "metadata": {},
     "output_type": "execute_result"
    }
   ],
   "source": [
    "from sklearn.preprocessing import PolynomialFeatures\n",
    "\n",
    "pf = PolynomialFeatures(degree=3, include_bias=False)\n",
    "\n",
    "synth_by_pf = pf.fit_transform(xs.reshape(-1,1))\n",
    "synth_by_pf[:3]"
   ]
  },
  {
   "cell_type": "code",
   "execution_count": 36,
   "metadata": {},
   "outputs": [
    {
     "data": {
      "text/plain": [
       "(50, 34)"
      ]
     },
     "execution_count": 36,
     "metadata": {},
     "output_type": "execute_result"
    }
   ],
   "source": [
    "multivariate_xs = np.random.randn(50, 4) * 40\n",
    "multivariate_synthetics = pf.fit_transform(multivariate_xs)\n",
    "multivariate_synthetics.shape"
   ]
  },
  {
   "cell_type": "markdown",
   "metadata": {},
   "source": [
    "## Other Regression algorithms in `scikit-learn`\n",
    "\n",
    "[scikit-learn] is an extremely powerful library for Python Machine Learning. It has a well defined API that lets you easily swap learning algorithms.\n",
    "\n",
    "[scikit-learn]: https://scikit-learn.org/stable/tutorial/basic/tutorial.html"
   ]
  },
  {
   "cell_type": "code",
   "execution_count": 37,
   "metadata": {},
   "outputs": [
    {
     "data": {
      "text/plain": [
       "<matplotlib.collections.PathCollection at 0x7f2cbc6fbeb8>"
      ]
     },
     "execution_count": 37,
     "metadata": {},
     "output_type": "execute_result"
    },
    {
     "data": {
      "image/png": "[encoded data removed]",
      "text/plain": [
       "<Figure size 432x288 with 1 Axes>"
      ]
     },
     "metadata": {
      "needs_background": "light"
     },
     "output_type": "display_data"
    }
   ],
   "source": [
    "estimated_ys = lr.predict(synthetic_variables)\n",
    "\n",
    "plt.scatter(xs, ys)\n",
    "plt.scatter(xs, estimated_ys)"
   ]
  },
  {
   "cell_type": "code",
   "execution_count": 39,
   "metadata": {},
   "outputs": [
    {
     "name": "stderr",
     "output_type": "stream",
     "text": [
      "/home/dani/anaconda3/envs/numerical_methods/lib/python3.7/site-packages/sklearn/ensemble/forest.py:246: FutureWarning: The default value of n_estimators will change from 10 in version 0.20 to 100 in 0.22.\n",
      "  \"10 in version 0.20 to 100 in 0.22.\", FutureWarning)\n"
     ]
    },
    {
     "data": {
      "text/plain": [
       "<matplotlib.collections.PathCollection at 0x7f2cbcb8b128>"
      ]
     },
     "execution_count": 39,
     "metadata": {},
     "output_type": "execute_result"
    },
    {
     "data": {
      "image/png": "[encoded data removed]",
      "text/plain": [
       "<Figure size 432x288 with 1 Axes>"
      ]
     },
     "metadata": {
      "needs_background": "light"
     },
     "output_type": "display_data"
    }
   ],
   "source": [
    "from sklearn.ensemble import RandomForestRegressor\n",
    "\n",
    "rf = RandomForestRegressor()\n",
    "\n",
    "rf.fit(synthetic_variables, ys)\n",
    "estimated_ys = rf.predict(synthetic_variables)\n",
    "\n",
    "plt.scatter(xs, ys)\n",
    "plt.scatter(xs, estimated_ys, c='orange')"
   ]
  },
  {
   "cell_type": "markdown",
   "metadata": {},
   "source": [
    "# Interpolation\n",
    "\n",
    "Consists of obtaining the only function of a particular family that passes through every point in a set, in order to estimate the value at intermediate points that we are not able to observe.\n",
    "\n",
    "In order to interpolate a polynomial of degree $n$, we need at least $n + 1$ points. With that number of points, there is only one polynomial that fits."
   ]
  },
  {
   "cell_type": "markdown",
   "metadata": {},
   "source": [
    "#### Example\n",
    "\n",
    "Estimate $ln (2)$ using linear interpolation.\n",
    "\n",
    "* First, perform the computation by interpolating between ln(1) = 0 and ln(6) = 1.791759.\n",
    "* Then, repeat the procedure, but use a smaller interval from ln(1) to ln(4) = 1.386294.\n",
    "\n",
    "Note that the true value of $ln(2)$ is 0.6931472."
   ]
  },
  {
   "cell_type": "code",
   "execution_count": 50,
   "metadata": {},
   "outputs": [
    {
     "data": {
      "text/plain": [
       "<matplotlib.collections.PathCollection at 0x7f2cbc53fef0>"
      ]
     },
     "execution_count": 50,
     "metadata": {},
     "output_type": "execute_result"
    },
    {
     "data": {
      "image/png": "[encoded data removed]",
      "text/plain": [
       "<Figure size 432x288 with 1 Axes>"
      ]
     },
     "metadata": {
      "needs_background": "light"
     },
     "output_type": "display_data"
    }
   ],
   "source": [
    "x_0, x_1 = 1, 6\n",
    "a = (np.log(x_0) - np.log(x_1)) / (x_0 - x_1)\n",
    "b = np.log(x_0) - a * x_0\n",
    "\n",
    "xs = np.linspace(0.1, 7)\n",
    "ys = a * xs + b\n",
    "estimate = a * 2 + b\n",
    "\n",
    "plt.plot(xs, ys)\n",
    "plt.plot(xs, np.log(xs))\n",
    "plt.scatter(2, estimate)\n",
    "plt.scatter(2, np.log(2))"
   ]
  },
  {
   "cell_type": "code",
   "execution_count": 51,
   "metadata": {},
   "outputs": [
    {
     "data": {
      "text/plain": [
       "<matplotlib.collections.PathCollection at 0x7f2cbc98ccf8>"
      ]
     },
     "execution_count": 51,
     "metadata": {},
     "output_type": "execute_result"
    },
    {
     "data": {
      "image/png": "[encoded data removed]",
      "text/plain": [
       "<Figure size 432x288 with 1 Axes>"
      ]
     },
     "metadata": {
      "needs_background": "light"
     },
     "output_type": "display_data"
    }
   ],
   "source": [
    "x_0, x_1 = 1, 4\n",
    "a = (np.log(x_0) - np.log(x_1)) / (x_0 - x_1)\n",
    "b = np.log(x_0) - a * x_0\n",
    "\n",
    "xs = np.linspace(0.1, 7)\n",
    "ys = a * xs + b\n",
    "estimate = a * 2 + b\n",
    "\n",
    "plt.plot(xs, ys)\n",
    "plt.plot(xs, np.log(xs))\n",
    "plt.scatter(2, estimate)\n",
    "plt.scatter(2, np.log(2))"
   ]
  },
  {
   "cell_type": "markdown",
   "metadata": {},
   "source": [
    "## Polynomial Interpolation\n",
    "\n",
    "We can fit a polynomial of degree n if we have n + 1 data points. Then we can use it to interpolate between those points."
   ]
  },
  {
   "cell_type": "markdown",
   "metadata": {},
   "source": [
    "#### Example\n",
    "\n",
    "Now estimate $ln (2)$ using quadratic interpolation. Use the points:\n",
    "\n",
    "* $ln(1) = 0$\n",
    "* $ln(4) = 1.386294$\n",
    "* $ln(6) = 1.791759$\n",
    "\n",
    "Note that the true value of $ln(2)$ is 0.6931472."
   ]
  },
  {
   "cell_type": "code",
   "execution_count": 58,
   "metadata": {},
   "outputs": [
    {
     "data": {
      "text/plain": [
       "<matplotlib.collections.PathCollection at 0x7f2cbc497f28>"
      ]
     },
     "execution_count": 58,
     "metadata": {},
     "output_type": "execute_result"
    },
    {
     "data": {
      "image/png": "[encoded data removed]",
      "text/plain": [
       "<Figure size 432x288 with 1 Axes>"
      ]
     },
     "metadata": {
      "needs_background": "light"
     },
     "output_type": "display_data"
    }
   ],
   "source": [
    "input_xs = np.array([1, 4, 6])\n",
    "input_ys = np.log(input_xs)\n",
    "\n",
    "plt.plot(xs, np.log(xs))\n",
    "plt.scatter(input_xs, input_ys,c='grey')"
   ]
  },
  {
   "cell_type": "code",
   "execution_count": 53,
   "metadata": {},
   "outputs": [],
   "source": [
    "def gauss_jordan(A, B):\n",
    "    AB = np.concatenate((A, B.reshape(-1,1)), axis=1)\n",
    "    n = A.shape[0]\n",
    "    \n",
    "    for row in range(n):\n",
    "        others = list(range(n))\n",
    "        others.remove(row)\n",
    "        \n",
    "        for other_row in others:\n",
    "            # Eliminate column row from other rows\n",
    "            AB[other_row] = AB[other_row] - AB[row] * AB[other_row,row] / AB[row,row]\n",
    "\n",
    "    # normalize \n",
    "    for row in range(n):\n",
    "        \n",
    "        AB[row] = AB[row] / AB[row,row]\n",
    "    \n",
    "    return AB\n"
   ]
  },
  {
   "cell_type": "code",
   "execution_count": 60,
   "metadata": {},
   "outputs": [
    {
     "data": {
      "text/plain": [
       "array([[ 1.        ,  1.        ,  1.        ,  0.        ],\n",
       "       [16.        ,  4.        ,  1.        ,  1.38629436],\n",
       "       [36.        ,  6.        ,  1.        ,  1.79175947]])"
      ]
     },
     "execution_count": 60,
     "metadata": {},
     "output_type": "execute_result"
    }
   ],
   "source": [
    "AB = np.array([[input_xs[0] ** 2,input_xs[0], 1, np.log(input_xs[0])],\n",
    "              [input_xs[1] ** 2,input_xs[1], 1, np.log(input_xs[1])],\n",
    "              [input_xs[2] ** 2,input_xs[2], 1, np.log(input_xs[2])]])\n",
    "AB"
   ]
  },
  {
   "cell_type": "code",
   "execution_count": 62,
   "metadata": {},
   "outputs": [
    {
     "data": {
      "text/plain": [
       "array([-0.05187311,  0.72146369, -0.66959057])"
      ]
     },
     "execution_count": 62,
     "metadata": {},
     "output_type": "execute_result"
    }
   ],
   "source": [
    "result = gauss_jordan(AB[:,:3], AB[:,3])\n",
    "coefficients = result[:,3]\n",
    "coefficients"
   ]
  },
  {
   "cell_type": "code",
   "execution_count": 73,
   "metadata": {},
   "outputs": [
    {
     "data": {
      "image/png": "[encoded data removed]",
      "text/plain": [
       "<Figure size 864x432 with 1 Axes>"
      ]
     },
     "metadata": {
      "needs_background": "light"
     },
     "output_type": "display_data"
    }
   ],
   "source": [
    "approximation =  coefficients[0] * xs ** 2 + coefficients[1] * xs + coefficients[2]\n",
    "quadratic_estimate =coefficients[0] * 2 ** 2 + coefficients[1] * 2 + coefficients[2]\n",
    "\n",
    "plt.plot(xs, np.log(xs))\n",
    "plt.scatter(input_xs, input_ys,c='grey')\n",
    "plt.plot(xs, approximation)\n",
    "plt.scatter(2, np.log(2))\n",
    "plt.scatter(2, estimate)\n",
    "plt.scatter(2, quadratic_estimate)\n",
    "plt.gcf().set_size_inches(12, 6)"
   ]
  },
  {
   "cell_type": "markdown",
   "metadata": {},
   "source": [
    "## Spline Interpolation\n",
    "\n",
    "Imagine we have 10 points. Rather than fit a single polynomial of degree 9, we can get a better result if we fit a different polynomial to each segment between two points. \n",
    "\n",
    "If we want to fit $n$ second order polynomials like this:\n",
    "\n",
    "$$f_i(x) = a_i x^2 + b_i x + c_i$$\n",
    "\n",
    "We will need to solve a linear system which has $3n$ equations. We can specify constraints which will each be represented by an equation in the system. In general, they will be restrictions on the values of the polynomials and their derivatives at the knots. Specifically:\n",
    "\n",
    "* The function values of adjacent polynomials must be equal at the interior knots.\n",
    "* The first and last functions must pass through the end points.\n",
    "* The first derivatives at the interior knots must be equal.\n",
    "* Assume that the second derivative is zero at the first point\n"
   ]
  },
  {
   "cell_type": "markdown",
   "metadata": {},
   "source": [
    "#### Example\n",
    "\n",
    "Fit the data in the following table using linear splines. Evaluate the function in x = 5.\n",
    "\n",
    "|x|f(x)|\n",
    "|---|---|\n",
    "|3.0 |2.5|\n",
    "|4.5 |1.0|\n",
    "|7.0 |2.5|\n",
    "|9.0 |0.5|"
   ]
  },
  {
   "cell_type": "code",
   "execution_count": null,
   "metadata": {},
   "outputs": [],
   "source": []
  },
  {
   "cell_type": "markdown",
   "metadata": {},
   "source": [
    "#### Example\n",
    "\n",
    "Fit quadratic splines to the same data used in the previous example. Use the results to approximate the value of the underlying function at x = 5.\n",
    "\n",
    "|x|f(x)|\n",
    "|---|---|\n",
    "|3.0 |2.5|\n",
    "|4.5 |1.0|\n",
    "|7.0 |2.5|\n",
    "|9.0 |0.5|"
   ]
  },
  {
   "cell_type": "code",
   "execution_count": 96,
   "metadata": {},
   "outputs": [
    {
     "data": {
      "text/plain": [
       "array([[  9.  ,   3.  ,   1.  ,   0.  ,   0.  ,   0.  ,   0.  ,   0.  ,\n",
       "          0.  ],\n",
       "       [  2.5 ,   4.  ,  25.  ,   4.5 ,   1.  ,   0.  ,   0.  ,   0.  ,\n",
       "          0.  ],\n",
       "       [  0.  ,   0.  ,   1.  ,   0.  ,   0.  ,   0.  ,  20.25,   4.5 ,\n",
       "          1.  ],\n",
       "       [  0.  ,   0.  ,   0.  ,   1.  ,   0.  ,   0.  ,   0.  ,  49.  ,\n",
       "          7.  ],\n",
       "       [  1.  ,   0.  ,   0.  ,   0.  ,   2.5 ,   0.  ,   0.  ,   0.  ,\n",
       "          0.  ],\n",
       "       [  0.  ,   0.  ,  49.  ,   7.  ,   1.  ,   2.5 ,   0.  ,   0.  ,\n",
       "          0.  ],\n",
       "       [  0.  ,   0.  ,   0.  ,  81.  ,   9.  ,   1.  ,   0.5 ,   9.  ,\n",
       "          1.  ],\n",
       "       [  0.  ,  -9.  ,  -1.  ,   0.  ,   0.  ,   0.  ,   0.  ,   0.  ,\n",
       "          0.  ],\n",
       "       [  0.  ,   0.  ,  14.  ,   7.  ,   0.  , -14.  ,  -7.  ,   0.  ,\n",
       "          0.  ],\n",
       "       [  1.  ,   0.  ,   0.  ,   0.  ,   0.  ,   0.  ,   0.  ,   0.  ,\n",
       "          0.  ]])"
      ]
     },
     "execution_count": 96,
     "metadata": {},
     "output_type": "execute_result"
    }
   ],
   "source": [
    "AB = np.array([9, 3, 1, 0, 0, 0, 0, 0, 0, 2.5,\n",
    "               4,5**2, 4.5, 1, 0,0,0,0,0,0, 1,\n",
    "               0, 0, 0, 4.5**2, 4.5, 1, 0,0,0, 1,\n",
    "               0, 0, 0, 7**2, 7, 1,0,0,0, 2.5,\n",
    "               0, 0, 0, 0, 0, 0, 7**2, 7, 1, 2.5,\n",
    "               0, 0, 0, 0, 0, 0,9**2, 9, 1, 0.5,\n",
    "               2*4.5, 1, 0, -2*4.5, -1, 0, 0, 0, 0, 0,\n",
    "               0, 0, 0, 2*7, 7, 0, -2*7, -7, 0, 0,\n",
    "               1, 0, 0, 0, 0, 0, 0, 0 , 0]).reshape(-1,9)\n",
    "\n",
    "AB"
   ]
  },
  {
   "cell_type": "markdown",
   "metadata": {},
   "source": [
    "#### Example\n",
    "\n",
    "Fit cubic splines to the same data used in the previous example. Use the results to approximate the value of the underlying function at x = 5.\n",
    "\n",
    "|x|f(x)|\n",
    "|---|---|\n",
    "|3.0 |2.5|\n",
    "|4.5 |1.0|\n",
    "|7.0 |2.5|\n",
    "|9.0 |0.5|"
   ]
  },
  {
   "cell_type": "code",
   "execution_count": null,
   "metadata": {},
   "outputs": [],
   "source": []
  },
  {
   "cell_type": "markdown",
   "metadata": {},
   "source": [
    "# Problems"
   ]
  },
  {
   "cell_type": "markdown",
   "metadata": {},
   "source": [
    "#### Exercise\n",
    "\n",
    "Estimate the common logarithm of 10 using linear interpolation.\n",
    "* Interpolate between $log(8)= 0.9030900$ and $log(12) = 1.0791812$.\n",
    "* Interpolate between $log(9)= 0.9542425$ and $log(11) = 1.0413927$. \n",
    "\n",
    "For each of the interpolations, compute the percent relative error based on the true value."
   ]
  },
  {
   "cell_type": "code",
   "execution_count": null,
   "metadata": {},
   "outputs": [],
   "source": []
  },
  {
   "cell_type": "markdown",
   "metadata": {},
   "source": [
    "#### Exercise\n",
    "\n",
    "Use the portion of the given steam table for superheated $H_2O$ at $200 MPa$ to \n",
    "\n",
    "* Find the corresponding entropy s for a specific volume v of 0.108 m 3 /kg with linear interpolation\n",
    "* Find the same corresponding entropy using quadratic interpolation\n",
    "\n",
    "| $v (m^3/kg)$ | $s(kJ/kg\\cdot K)$ |\n",
    "|---|---|\n",
    "|0.10377|6.4147|\n",
    "|0.11144|6.5453|\n",
    "|0.1254|6.7664|"
   ]
  },
  {
   "cell_type": "code",
   "execution_count": null,
   "metadata": {},
   "outputs": [],
   "source": []
  },
  {
   "cell_type": "markdown",
   "metadata": {},
   "source": [
    "#### Exercise\n",
    "\n",
    "The following data defines the sea-level concentration of\n",
    "dissolved oxygen for fresh water as a function of temperature:\n",
    "\n",
    "|$T,ºC$|$o, mg/l$|\n",
    "|------|-----------|\n",
    "|0|14.621|\n",
    "|8|11.843|\n",
    "|16|9.870|\n",
    "|24|8.418|\n",
    "|32|7.305|\n",
    "|40|6.413|\n",
    "\n",
    "Estimate $o(27)$ using \n",
    "* Linear interpolation\n",
    "* Cubic splines. \n",
    "\n",
    "Note that the exact result is $7.986 mg/L$."
   ]
  },
  {
   "cell_type": "code",
   "execution_count": null,
   "metadata": {},
   "outputs": [],
   "source": []
  },
  {
   "cell_type": "markdown",
   "metadata": {},
   "source": [
    "# Further Reading\n",
    "\n",
    "[An introduction to scikit-learn]\n",
    "\n",
    "[An introduction to scikit-learn]: https://jakevdp.github.io/PythonDataScienceHandbook/05.02-introducing-scikit-learn.html"
   ]
  }
 ],
 "metadata": {
  "kernelspec": {
   "display_name": "Python 3",
   "language": "python",
   "name": "python3"
  },
  "language_info": {
   "codemirror_mode": {
    "name": "ipython",
    "version": 3
   },
   "file_extension": ".py",
   "mimetype": "text/x-python",
   "name": "python",
   "nbconvert_exporter": "python",
   "pygments_lexer": "ipython3",
   "version": "3.7.2"
  }
 },
 "nbformat": 4,
 "nbformat_minor": 2
}
