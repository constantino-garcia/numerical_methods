{
 "cells": [
  {
   "cell_type": "markdown",
   "metadata": {},
   "source": [
    "# Differential Equations"
   ]
  },
  {
   "cell_type": "markdown",
   "metadata": {},
   "source": [
    "## Motivation\n",
    "\n",
    "Very often, the laws that describe the empirically observed behavior of physical systems such as those designed by engineers are expressed in terms of change to the state of those systems. If we want to be able to predict the state of a system at a point in time or space, we will need to be able to go from those equations describing change to equations describing state. That is what solving a differential equation consists of. \n",
    "\n",
    "When we can't arrive to an analytical solution, we can use one of the many methods to solve differential equations numerically."
   ]
  },
  {
   "cell_type": "markdown",
   "metadata": {},
   "source": [
    "## Background\n",
    "\n",
    "A differential equation describes the change of a variable with respect to another.\n",
    "\n",
    "The solution to that differential equation is a function that connects the original variables and respects the original differential equation. It can be reached by integrating the original equation. However, as with all the other techniques in this course, it is not always analytically possible to integrate a differential equation.\n",
    "\n",
    "Note that there are always infinitely many equations that satisfy an initial differential equation, whose only difference is a constant. This is called the _constant of integration_. The only way to choose between them is to have, in addition to the differential equation, an auxiliary condition, often an _initial condition_.\n",
    "\n",
    "Think of the falling parachutist. We can derive an expression for the change of velocity with respect to time that depends on the current velocity. If we integrate that, we will have an expression of velocity that depends only on time. But we don't know the velocity at time t _unless we know the initial velocity."
   ]
  },
  {
   "cell_type": "markdown",
   "metadata": {},
   "source": [
    "## The falling parachutist\n",
    "\n",
    "$$\\frac{d v}{dt} = \\frac{mg -cv}{m} $$\n",
    "\n"
   ]
  },
  {
   "cell_type": "markdown",
   "metadata": {},
   "source": [
    "### Analytical solution\n",
    "\n",
    "$$v(t) = \\frac{gm}{c} (1 - e^{-(c/m)t})$$"
   ]
  },
  {
   "cell_type": "code",
   "execution_count": 2,
   "metadata": {},
   "outputs": [
    {
     "data": {
      "text/plain": [
       "25.2324802805378"
      ]
     },
     "execution_count": 2,
     "metadata": {},
     "output_type": "execute_result"
    }
   ],
   "source": [
    "import numpy as np\n",
    "import matplotlib.pyplot as plt\n",
    "%matplotlib inline\n",
    "\n",
    "m = 66\n",
    "v_0 = 0\n",
    "g = 9.8\n",
    "c = 20\n",
    "t_f = 5\n",
    "\n",
    "def analytical(t):\n",
    "    return g * (m / c) * (1 - np.exp(-c*t/m))\n",
    "\n",
    "\n",
    "analytical(t_f)"
   ]
  },
  {
   "cell_type": "markdown",
   "metadata": {},
   "source": [
    "### Euler's method\n",
    "\n",
    "Finite differences:\n",
    "\n",
    "$$\\frac{dv}{dt} \\approx \\frac{\\Delta v}{\\Delta t} = \\frac{v(t_{i+1}) - v(t_i)}{t_{i+1}- t_i} $$\n",
    "\n",
    "Which can be rearranged like this:\n",
    "\n",
    "$$ v(t_{i+1} ) = v(t_i ) + \\left[g − \\frac{c}{m} v(t_i)\\right] (t_{i+1} − t_i )$$"
   ]
  },
  {
   "cell_type": "code",
   "execution_count": null,
   "metadata": {},
   "outputs": [],
   "source": []
  },
  {
   "cell_type": "markdown",
   "metadata": {},
   "source": [
    "If we do it several times in succession and plot it:"
   ]
  },
  {
   "cell_type": "code",
   "execution_count": 3,
   "metadata": {},
   "outputs": [
    {
     "data": {
      "text/plain": [
       "[0,\n",
       " 9.8,\n",
       " 16.630303030303033,\n",
       " 21.39081726354454,\n",
       " 24.7087514261068,\n",
       " 27.021250993953224]"
      ]
     },
     "execution_count": 3,
     "metadata": {},
     "output_type": "execute_result"
    }
   ],
   "source": [
    "steps = 5\n",
    "vs = []\n",
    "vs.append(v_0)\n",
    "v = v_0\n",
    "\n",
    "for step in range(steps):\n",
    "    t = 5 / steps\n",
    "    v += (g - v * c / m) * t\n",
    "    vs.append(v)\n",
    "vs"
   ]
  },
  {
   "cell_type": "code",
   "execution_count": 4,
   "metadata": {},
   "outputs": [
    {
     "data": {
      "image/png": "[encoded data removed]",
      "text/plain": [
       "<Figure size 432x288 with 1 Axes>"
      ]
     },
     "metadata": {
      "needs_background": "light"
     },
     "output_type": "display_data"
    }
   ],
   "source": [
    "ts = np.linspace(0,5)\n",
    "plt.plot(ts, analytical(ts))\n",
    "plt.plot(range(steps+1), vs)\n",
    "plt.scatter(range(steps+1), vs);"
   ]
  },
  {
   "cell_type": "markdown",
   "metadata": {},
   "source": [
    "If we increase the number of steps, we get improved precision at the cost of computing power."
   ]
  },
  {
   "cell_type": "code",
   "execution_count": 5,
   "metadata": {},
   "outputs": [
    {
     "data": {
      "text/plain": [
       "[0,\n",
       " 2.45,\n",
       " 4.71439393939394,\n",
       " 6.8072428833792475,\n",
       " 8.741542664941425,\n",
       " 10.529304584264045,\n",
       " 12.181629994547071,\n",
       " 13.708779237384414,\n",
       " 15.120235355764382,\n",
       " 16.42476298032769,\n",
       " 17.630462754545288,\n",
       " 18.744821636776706,\n",
       " 19.77475939156635,\n",
       " 20.726671558871928,\n",
       " 21.606469168048296,\n",
       " 22.419615443196154,\n",
       " 23.171159727802507,\n",
       " 23.86576883933262,\n",
       " 24.50775604847409,\n",
       " 25.10110786298363,\n",
       " 25.649508782454564]"
      ]
     },
     "execution_count": 5,
     "metadata": {},
     "output_type": "execute_result"
    }
   ],
   "source": [
    "steps = 20\n",
    "vs = []\n",
    "vs.append(v_0)\n",
    "v = v_0\n",
    "\n",
    "for step in range(steps):\n",
    "    t = 5 / steps\n",
    "    v += (g - v * c / m) * t\n",
    "    vs.append(v)\n",
    "vs"
   ]
  },
  {
   "cell_type": "code",
   "execution_count": 6,
   "metadata": {},
   "outputs": [
    {
     "data": {
      "image/png": "[encoded data removed]",
      "text/plain": [
       "<Figure size 432x288 with 1 Axes>"
      ]
     },
     "metadata": {
      "needs_background": "light"
     },
     "output_type": "display_data"
    }
   ],
   "source": [
    "ts = np.linspace(0,5)\n",
    "plt.plot(ts, analytical(ts))\n",
    "plt.plot(np.linspace(0,5,steps + 1), vs)\n",
    "plt.scatter(np.linspace(0,5,steps +1), vs);"
   ]
  },
  {
   "cell_type": "markdown",
   "metadata": {},
   "source": [
    "#### Example\n",
    "\n",
    "Exponential population growth. We don't know the actual population at time t unless we know the population at time 0.\n",
    "\n",
    "$$\\frac{dN}{dt} = r N$$\n",
    "\n",
    "$$\\int_{N_0}^N \\frac{N}{N_0} = \\int_0^t r dt$$\n",
    "\n",
    "$$ln \\left( \\frac{N}{N_0}\\right) = r t$$\n",
    "\n",
    "Population at time t:\n",
    "\n",
    "$$N(t) = N_0 \\cdot e^{rt}$$"
   ]
  },
  {
   "cell_type": "markdown",
   "metadata": {},
   "source": [
    "# Runge-Kutta Methods"
   ]
  },
  {
   "cell_type": "markdown",
   "metadata": {},
   "source": [
    "What is it that we are trying to do? Essentially, reconstructing a trajectory from changes in position.\n",
    "\n",
    "We have an equation that gives us slopes ($\\phi$), that is, instantaneous changes:\n",
    "\n",
    "$$\\phi = \\frac{dy}{dx} = f(x,y)$$\n",
    "\n",
    "So if we know where we are, and we know where we are heading, how do we know where we'll be?\n",
    "\n"
   ]
  },
  {
   "cell_type": "markdown",
   "metadata": {},
   "source": [
    "## Euler's Method\n",
    "\n",
    "Follow the trajectory step by step:\n",
    "\n",
    "$$y_{y+1} = y_i + \\phi h = y_i + f(x_i,y_i)h$$\n",
    "\n",
    "where h = step size."
   ]
  },
  {
   "cell_type": "markdown",
   "metadata": {},
   "source": [
    "### Example\n",
    "\n",
    "Use Euler's method to integrate numerically:\n",
    "\n",
    "$$\\frac{dy}{dx} = -2x^3 + 12x^2 - 20x +8.5$$\n",
    "\n",
    "from x=0 to x=4 with a step size of $h=0.5$. Initial condition is y(0) = 1.\n",
    "\n",
    "Solve analytically, compare."
   ]
  },
  {
   "cell_type": "code",
   "execution_count": 7,
   "metadata": {},
   "outputs": [
    {
     "data": {
      "text/plain": [
       "array([0. , 0.5, 1. , 1.5, 2. , 2.5, 3. , 3.5, 4. ])"
      ]
     },
     "execution_count": 7,
     "metadata": {},
     "output_type": "execute_result"
    }
   ],
   "source": [
    "h = 0.5\n",
    "xs = np.arange(0, 4.5, h)\n",
    "xs"
   ]
  },
  {
   "cell_type": "code",
   "execution_count": 8,
   "metadata": {},
   "outputs": [
    {
     "data": {
      "text/plain": [
       "1.0"
      ]
     },
     "execution_count": 8,
     "metadata": {},
     "output_type": "execute_result"
    }
   ],
   "source": [
    "def integral(x):\n",
    "    return (-2/4) * x ** 4 + (12 / 3) * x**3 - (20 / 2)* x ** 2 + 8.5 * x + 1\n",
    "\n",
    "integral(0)"
   ]
  },
  {
   "cell_type": "code",
   "execution_count": 9,
   "metadata": {},
   "outputs": [
    {
     "name": "stdout",
     "output_type": "stream",
     "text": [
      "phi at 0.00!\n",
      "phi at 0.50!\n",
      "phi at 1.00!\n",
      "phi at 1.50!\n",
      "phi at 2.00!\n",
      "phi at 2.50!\n",
      "phi at 3.00!\n",
      "phi at 3.50!\n"
     ]
    },
    {
     "data": {
      "image/png": "[encoded data removed]",
      "text/plain": [
       "<Figure size 432x288 with 1 Axes>"
      ]
     },
     "metadata": {
      "needs_background": "light"
     },
     "output_type": "display_data"
    }
   ],
   "source": [
    "def phi(x):\n",
    "    print('phi at %.2f!' % x)\n",
    "    return -2 *x ** 3 + 12 * x ** 2 -20 *x + 8.5\n",
    "\n",
    "\n",
    "y = 1\n",
    "ys = [y]\n",
    "for step in range(len(xs)-1):\n",
    "    slope = phi(xs[step])\n",
    "    y += slope * h     \n",
    "    ys.append(y)\n",
    "\n",
    "plt.plot(xs, ys)\n",
    "plt.plot(xs, integral(xs));"
   ]
  },
  {
   "cell_type": "markdown",
   "metadata": {},
   "source": [
    "We have a big deviation. We can ameliorate that with a smaller step size:"
   ]
  },
  {
   "cell_type": "code",
   "execution_count": 10,
   "metadata": {},
   "outputs": [
    {
     "name": "stdout",
     "output_type": "stream",
     "text": [
      "phi at 0.00!\n",
      "phi at 0.25!\n",
      "phi at 0.50!\n",
      "phi at 0.75!\n",
      "phi at 1.00!\n",
      "phi at 1.25!\n",
      "phi at 1.50!\n",
      "phi at 1.75!\n",
      "phi at 2.00!\n",
      "phi at 2.25!\n",
      "phi at 2.50!\n",
      "phi at 2.75!\n",
      "phi at 3.00!\n",
      "phi at 3.25!\n",
      "phi at 3.50!\n",
      "phi at 3.75!\n",
      "phi at 4.00!\n"
     ]
    },
    {
     "data": {
      "text/plain": [
       "[<matplotlib.lines.Line2D at 0x7f8405c0ee80>]"
      ]
     },
     "execution_count": 10,
     "metadata": {},
     "output_type": "execute_result"
    },
    {
     "data": {
      "image/png": "[encoded data removed]",
      "text/plain": [
       "<Figure size 432x288 with 1 Axes>"
      ]
     },
     "metadata": {
      "needs_background": "light"
     },
     "output_type": "display_data"
    }
   ],
   "source": [
    "h = 0.25\n",
    "xs = np.arange(0, 4.5, h)\n",
    "\n",
    "y = 1\n",
    "ys = [y]\n",
    "for step in range(len(xs)-1):\n",
    "    y += phi(xs[step]) * h \n",
    "    ys.append(y)\n",
    "\n",
    "plt.plot(xs, ys)\n",
    "plt.plot(xs, integral(xs))"
   ]
  },
  {
   "cell_type": "markdown",
   "metadata": {},
   "source": [
    "## Improvements to Euler's Method\n",
    "\n",
    "One obvious problem is that we are updating our measure of the slope too infrequently."
   ]
  },
  {
   "cell_type": "markdown",
   "metadata": {},
   "source": [
    "### Heun's Method"
   ]
  },
  {
   "cell_type": "markdown",
   "metadata": {},
   "source": [
    "We could, for example, take the slope at the beginning and the end of the segment rather than only at the beginning."
   ]
  },
  {
   "cell_type": "code",
   "execution_count": 11,
   "metadata": {},
   "outputs": [
    {
     "name": "stdout",
     "output_type": "stream",
     "text": [
      "phi at 0.00!\n",
      "phi at 0.50!\n",
      "phi at 0.50!\n",
      "phi at 1.00!\n",
      "phi at 1.00!\n",
      "phi at 1.50!\n",
      "phi at 1.50!\n",
      "phi at 2.00!\n",
      "phi at 2.00!\n",
      "phi at 2.50!\n",
      "phi at 2.50!\n",
      "phi at 3.00!\n",
      "phi at 3.00!\n",
      "phi at 3.50!\n",
      "phi at 3.50!\n",
      "phi at 4.00!\n"
     ]
    },
    {
     "data": {
      "image/png": "[encoded data removed]",
      "text/plain": [
       "<Figure size 432x288 with 1 Axes>"
      ]
     },
     "metadata": {
      "needs_background": "light"
     },
     "output_type": "display_data"
    }
   ],
   "source": [
    "h = 0.5\n",
    "xs = np.arange(0, 4.5, h)\n",
    "y = 1\n",
    "ys = [y]\n",
    "for step in range(len(xs)-1):\n",
    "    slope = (phi(xs[step]) + phi(xs[step + 1])) /2\n",
    "    y += slope * h \n",
    "    ys.append(y)\n",
    "\n",
    "plt.plot(xs, ys)\n",
    "plt.plot(xs, integral(xs));"
   ]
  },
  {
   "cell_type": "code",
   "execution_count": 12,
   "metadata": {},
   "outputs": [
    {
     "data": {
      "text/plain": [
       "(3.0, 3.0)"
      ]
     },
     "execution_count": 12,
     "metadata": {},
     "output_type": "execute_result"
    }
   ],
   "source": [
    "ys[-1], integral(4)"
   ]
  },
  {
   "cell_type": "code",
   "execution_count": 13,
   "metadata": {},
   "outputs": [
    {
     "name": "stdout",
     "output_type": "stream",
     "text": [
      "phi at 0.00!\n",
      "phi at 0.25!\n",
      "phi at 0.25!\n",
      "phi at 0.50!\n",
      "phi at 0.50!\n",
      "phi at 0.75!\n",
      "phi at 0.75!\n",
      "phi at 1.00!\n",
      "phi at 1.00!\n",
      "phi at 1.25!\n",
      "phi at 1.25!\n",
      "phi at 1.50!\n",
      "phi at 1.50!\n",
      "phi at 1.75!\n",
      "phi at 1.75!\n",
      "phi at 2.00!\n",
      "phi at 2.00!\n",
      "phi at 2.25!\n",
      "phi at 2.25!\n",
      "phi at 2.50!\n",
      "phi at 2.50!\n",
      "phi at 2.75!\n",
      "phi at 2.75!\n",
      "phi at 3.00!\n",
      "phi at 3.00!\n",
      "phi at 3.25!\n",
      "phi at 3.25!\n",
      "phi at 3.50!\n",
      "phi at 3.50!\n",
      "phi at 3.75!\n",
      "phi at 3.75!\n",
      "phi at 4.00!\n",
      "phi at 4.00!\n",
      "phi at 4.25!\n"
     ]
    },
    {
     "data": {
      "image/png": "[encoded data removed]",
      "text/plain": [
       "<Figure size 432x288 with 1 Axes>"
      ]
     },
     "metadata": {
      "needs_background": "light"
     },
     "output_type": "display_data"
    }
   ],
   "source": [
    "h = 0.25\n",
    "xs = np.arange(0, 4.5, h)\n",
    "y = 1\n",
    "ys = [y]\n",
    "for step in range(len(xs)-1):\n",
    "    slope = (phi(xs[step]) + phi(xs[step + 1])) /2\n",
    "    y += slope * h \n",
    "    ys.append(y)\n",
    "\n",
    "plt.plot(xs, ys)\n",
    "plt.plot(xs, integral(xs));"
   ]
  },
  {
   "cell_type": "markdown",
   "metadata": {},
   "source": [
    "#### Exercise\n",
    "\n",
    "Use Heun's method to integrate numerically\n",
    "\n",
    "$$y' = 4e^{0.8x} - 0.5y$$\n",
    "\n",
    "from $x=0$ to $x=4$ with a step size of 1. Initial condition is $x=0$, $y=2$."
   ]
  },
  {
   "cell_type": "code",
   "execution_count": 14,
   "metadata": {},
   "outputs": [
    {
     "data": {
      "image/png": "[encoded data removed]",
      "text/plain": [
       "<Figure size 432x288 with 1 Axes>"
      ]
     },
     "metadata": {
      "needs_background": "light"
     },
     "output_type": "display_data"
    }
   ],
   "source": [
    "def diff(x, y):\n",
    "    return 4 * np.exp(0.8*x) - 0.5 * y\n",
    "\n",
    "x = 0\n",
    "x_f = 4\n",
    "y = 2\n",
    "h = 1\n",
    "\n",
    "xs = [x]\n",
    "ys = [y]\n",
    "\n",
    "while x <= x_f:\n",
    "    slope = (diff(x, y) + diff(x+h, y)) / 2\n",
    "    y += slope * h\n",
    "    x += h\n",
    "    \n",
    "    xs.append(x)\n",
    "    ys.append(y)\n",
    "\n",
    "    \n",
    "plt.plot(xs, ys);"
   ]
  },
  {
   "cell_type": "markdown",
   "metadata": {},
   "source": [
    "### The midpoint method\n",
    "\n",
    "We make an _intermediate prediction_ of the slope at the middle of the interval. Can we make an intermediate prediction of the value of the solution function?\n",
    "\n",
    "Why, yes we can. That's what's called the Midpoint Method.\n",
    "\n",
    "\n",
    "$$y_{i+1/2} = f(x_i, y_i)\\frac{h}{2}$$\n",
    "\n",
    "$$y_{y+1} =y_i + f(x_{i+1/2},y_{i+1/2})h$$\n",
    "\n",
    "This method only represents an improvement if the value of the slope depends on y itself."
   ]
  },
  {
   "cell_type": "markdown",
   "metadata": {},
   "source": [
    "#### Exercise\n",
    "\n",
    "Use the Midpoint method to integrate numerically\n",
    "\n",
    "$$y' = 4e^{0.8x} - 0.5y$$\n",
    "\n",
    "from $x=0$ to $x=4$ with a step size of 1. Initial condition is $x=0$, $y=2$."
   ]
  },
  {
   "cell_type": "code",
   "execution_count": 16,
   "metadata": {},
   "outputs": [
    {
     "data": {
      "image/png": "[encoded data removed]",
      "text/plain": [
       "<Figure size 432x288 with 1 Axes>"
      ]
     },
     "metadata": {
      "needs_background": "light"
     },
     "output_type": "display_data"
    }
   ],
   "source": [
    "def diff(x, y):\n",
    "    return 4 * np.exp(0.8*x) - 0.5 * y\n",
    "\n",
    "x = 0\n",
    "x_f = 4\n",
    "y = 2\n",
    "h = 1\n",
    "\n",
    "xs = [x]\n",
    "ys = [y]\n",
    "\n",
    "while x <= x_f:\n",
    "\n",
    "    early_slope = diff(x, y) \n",
    "    y_12 = y + early_slope * (h/2)\n",
    "    \n",
    "    intermediate_slope = diff(x + h/2, y_12)\n",
    "    \n",
    "    x += h\n",
    "    y += intermediate_slope * h\n",
    "    \n",
    "    xs.append(x)\n",
    "    ys.append(y)\n",
    "\n",
    "    \n",
    "plt.plot(xs, ys);"
   ]
  },
  {
   "cell_type": "markdown",
   "metadata": {},
   "source": [
    "## Runge-Kutta methods\n",
    "\n",
    "Euler's, Heun's, and the midpoint method are all particular cases of _Runge-Kutta methods_. In Runge-Kutta methods, we update our estimate of y with $\\phi(x_i, y_i, h)$, an _increment function_:\n",
    "\n",
    "$$y_{y+1} = y_i + \\phi(x_i, y_i, h) h$$\n"
   ]
  },
  {
   "cell_type": "markdown",
   "metadata": {},
   "source": [
    "# Problems"
   ]
  },
  {
   "cell_type": "markdown",
   "metadata": {},
   "source": [
    "#### Exercise\n",
    "\n",
    "If water is drained from a vertical cylindrical tank by opening a valve at the base, the water will flow fast when the tank is full and slow down as it continues to drain. As it turns out, the rate at\n",
    "which the water level drops is:\n",
    "\n",
    "$$ \\frac{dy}{dt} = -k \\sqrt y$$\n",
    "\n",
    "where k is a constant depending on the shape of the hole and the cross-sectional area of the tank and drain hole. The depth of the water y is measured in meters and the time t in minutes. If k = 0.06, determine how long it takes the tank to drain if the fluid level is initially 3 m. Solve by applying Euler’s method. Use a step of 0.5 minutes."
   ]
  },
  {
   "cell_type": "code",
   "execution_count": null,
   "metadata": {},
   "outputs": [],
   "source": []
  },
  {
   "cell_type": "markdown",
   "metadata": {},
   "source": [
    "#### Exercise\n",
    "\n",
    "Assuming that drag is proportional to the square of velocity,\n",
    "we can model the velocity of a falling object like a parachutist with\n",
    "the following differential equation:\n",
    "\n",
    "$$\\frac{d v}{dt} = g - \\frac{c_d}{m}v^2 $$\n",
    "\n",
    "where v is velocity (m/s), t = time (s), g is the acceleration due to\n",
    "gravity (9.81 m/s 2 ), $c_d$ = a second-order drag coefficient (kg/m),\n",
    "and m = mass (kg). Solve for the velocity and distance fallen by a\n",
    "90-kg object with a drag coefficient of 0.225 kg/m. If the initial\n",
    "height is 1 km, determine when it hits the ground. Obtain your so-\n",
    "lution with (a) Euler’s method and (b) Heun's method"
   ]
  },
  {
   "cell_type": "code",
   "execution_count": null,
   "metadata": {},
   "outputs": [],
   "source": []
  },
  {
   "cell_type": "markdown",
   "metadata": {},
   "source": [
    "#### Exercise\n",
    "\n",
    "The population growth model listed above is called the _exponential_ or _Malthusian_ model. In the real world, populations do not grow exponentially forever because there are resources (nutrients, space) that constrain the maximum possible population.\n",
    "\n",
    "The _logistic_ model incorporates these constraints in the form of a constant $p_{max}$, the maximum population possible. This parameter is also often known as K, the carrying capacity. The logistic model can be expressed as:\n",
    "\n",
    "$$ \\frac{dp}{dt} = r_{gm}(1 - \\frac{1 - p}{p_{max}})p$$\n",
    "\n",
    "where p = population, r_{gm} = the maximum growth rate under unlimited conditions, and $p_{max}$ = the carrying capacity. Simulate the world’s population from 1950 to 2000 using one of the numerical\n",
    "methods described in this section. Employ the following initial conditions and parameter values for your simulation: $p_0$ (in 1950) = 2555 million people, $r_{gm}$ = 0.026/yr, and $p_max$ = 12,000 million\n",
    "people. Plot your simulation and the following actual data, and compare:\n",
    "\n",
    "```\n",
    "t |  1950  1960  1970  1980  1990  2000\n",
    "p |  2555  3040  3708  4454  5276  6079\n",
    "```"
   ]
  },
  {
   "cell_type": "code",
   "execution_count": null,
   "metadata": {},
   "outputs": [],
   "source": []
  }
 ],
 "metadata": {
  "kernelspec": {
   "display_name": "Python 3",
   "language": "python",
   "name": "python3"
  },
  "language_info": {
   "codemirror_mode": {
    "name": "ipython",
    "version": 3
   },
   "file_extension": ".py",
   "mimetype": "text/x-python",
   "name": "python",
   "nbconvert_exporter": "python",
   "pygments_lexer": "ipython3",
   "version": "3.7.2"
  }
 },
 "nbformat": 4,
 "nbformat_minor": 2
}
