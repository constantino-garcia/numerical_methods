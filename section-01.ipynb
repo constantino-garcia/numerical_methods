{
 "cells": [
  {
   "cell_type": "markdown",
   "metadata": {
    "toc-hr-collapsed": false
   },
   "source": [
    "# Approximation and round-off error\n",
    "\n",
    "## Motivation\n",
    "Remember the falling parachutist: we had an exact, analytical solution and an approximate one. Usually we will only have the approximation, so we need a way to estimate how far off from the exact solution we are.\n",
    "\n",
    "There will be almost always an error, and we will need to decide how much of it is acceptable and how to minimize it."
   ]
  },
  {
   "cell_type": "markdown",
   "metadata": {},
   "source": [
    "## Round-off error"
   ]
  },
  {
   "cell_type": "code",
   "execution_count": 1,
   "metadata": {},
   "outputs": [
    {
     "data": {
      "text/plain": [
       "0.30000000000000004"
      ]
     },
     "execution_count": 1,
     "metadata": {},
     "output_type": "execute_result"
    }
   ],
   "source": [
    "0.1 + 0.2 "
   ]
  },
  {
   "cell_type": "markdown",
   "metadata": {},
   "source": [
    "## Truncation"
   ]
  },
  {
   "cell_type": "markdown",
   "metadata": {},
   "source": [
    "## Significant figures\n",
    "\n",
    "$0.00001845 = 0.1845 × 10^{-4}$\n",
    "\n",
    "$0.0001845 = 0.1845 × 10^{−3}$\n",
    "\n",
    "$0.001845 = 0.1845 × 10^{−2}$"
   ]
  },
  {
   "cell_type": "markdown",
   "metadata": {},
   "source": [
    "## Accuracy and precision\n",
    "\n",
    "![Bias and variance](https://cdn-images-1.medium.com/max/1600/1*wTbewHG05BXOIwFjtilU8A.png)\n",
    "\n",
    "Inaccuracy or Bias\n",
    "\n",
    "Imprecision, Uncertainty or Variance."
   ]
  },
  {
   "cell_type": "markdown",
   "metadata": {},
   "source": [
    "# Error definitions\n",
    "\n",
    "$$True\\ value = Approximation + Error$$"
   ]
  },
  {
   "cell_type": "markdown",
   "metadata": {},
   "source": [
    "## True error\n",
    "\n",
    "$$E_t = True\\ value - Approximation$$\n"
   ]
  },
  {
   "cell_type": "markdown",
   "metadata": {},
   "source": [
    "## Relative error\n",
    "\n",
    "It's not the same being off by 1cm when measuring height of a person or Earth-Moon distance.\n",
    "\n",
    "$$\\varepsilon_t = \\frac{true\\ error}{true\\ value}$$"
   ]
  },
  {
   "cell_type": "markdown",
   "metadata": {},
   "source": [
    "## Approximate relative error\n",
    "\n",
    "Most times we will be using an approximation precisely because we don't know the true value.\n",
    "\n",
    "$$\\varepsilon_a = \\frac{current\\ approx - previous\\ approx}{current\\ approx}$$ \n",
    "\n",
    "Generally we will define a tolerance threshold:\n",
    "\n",
    "$$\\left|\\varepsilon_a\\right| < \\varepsilon_s$$"
   ]
  },
  {
   "cell_type": "markdown",
   "metadata": {},
   "source": [
    "# Iterative methods"
   ]
  },
  {
   "cell_type": "markdown",
   "metadata": {},
   "source": [
    "#### Example\n",
    "\n",
    "We could try to approximate $e^x$ using a polynomial from the Maclaurin expansion:\n",
    "\n",
    "$$e^x = 1 + x + \\frac{x^2}{2} + \\frac{x^3}{3!} + \\frac{x^4}{4!} + \\ldots + \\frac{x^n}{n}$$\n",
    "\n",
    "Let us approximate $e^{x_0}$; $x_0=0.5$, with a tolerance $\\varepsilon_s = 0.0005$, iteratively."
   ]
  },
  {
   "cell_type": "code",
   "execution_count": 7,
   "metadata": {},
   "outputs": [
    {
     "name": "stdout",
     "output_type": "stream",
     "text": [
      "working\n",
      "working\n",
      "working\n",
      "working\n",
      "working\n",
      "working\n"
     ]
    },
    {
     "data": {
      "text/plain": [
       "(1.6486979166666667, 1.6487212707001282)"
      ]
     },
     "execution_count": 7,
     "metadata": {},
     "output_type": "execute_result"
    }
   ],
   "source": [
    "import math\n",
    "\n",
    "x_0 = 0.5\n",
    "e_s = 5e-4\n",
    "e_a = 1\n",
    "estimate = 0\n",
    "n = 0\n",
    "\n",
    "while abs(e_a) > e_s:\n",
    "    print('working')\n",
    "    previous_estimate = estimate\n",
    "    estimate = estimate + (x_0 ** (n)) / math.factorial(n)\n",
    "    e_a = (estimate - previous_estimate) / estimate\n",
    "    n = n + 1\n",
    "    \n",
    "estimate, math.exp(0.5)"
   ]
  },
  {
   "cell_type": "markdown",
   "metadata": {},
   "source": [
    "# Floating point representation\n",
    "\n",
    "$$ m \\cdot b^e$$\n",
    "\n",
    "* $m$: mantissa\n",
    "* $b$: base\n",
    "* $e$: exponent\n",
    "\n",
    "![Floating point example](http://www.dspguide.com/graphics/F_4_2.gif)"
   ]
  },
  {
   "cell_type": "markdown",
   "metadata": {},
   "source": [
    "## Precision\n",
    "\n",
    "Single and double precision: Only about 7 decimal digits are representable in single-precision IEEE format, and about 16 in double-precision IEEE format[[1]]. \n",
    "\n",
    "[Python precision] depends on the underlying system but generally it uses 64 bit floating point numbers.\n",
    "\n",
    "When we need more, we can use a package specifically designed for numerical computation like [numpy].\n",
    "\n",
    "\n",
    "\n",
    "[1]: http://www.lahey.com/float.htm\n",
    "[Python precision]: https://docs.python.org/3/tutorial/floatingpoint.html\n",
    "[numpy]: https://docs.scipy.org/doc/numpy/user/basics.html"
   ]
  },
  {
   "cell_type": "markdown",
   "metadata": {},
   "source": [
    "## Conflictive operations\n",
    "\n",
    "* Common arithmetic operations\n",
    "* Large computations\n",
    "* Adding a large and a small number\n",
    "* Subtractive cancellation\n",
    "* Smearing: Smearing occurs whenever the individual terms in a summation are larger than the summation itself. One case where this occurs is in series of mixed signs.\n",
    "    * Inner Products"
   ]
  },
  {
   "cell_type": "markdown",
   "metadata": {},
   "source": [
    "#### Example\n",
    "\n",
    "Suppose we have a (decimal) computer with a 4 digit mantissa and a 1 digit exponent.\n",
    "Also, chopping is used. How would we\n",
    "compute $0.1557 × 10^1 + 0.4381 × 10^{−1}$?"
   ]
  },
  {
   "cell_type": "markdown",
   "metadata": {},
   "source": [
    "#### Example\n",
    "\n",
    "Large Numbers of Interdependent Computations"
   ]
  },
  {
   "cell_type": "code",
   "execution_count": 4,
   "metadata": {},
   "outputs": [
    {
     "data": {
      "text/plain": [
       "0.0"
      ]
     },
     "execution_count": 4,
     "metadata": {},
     "output_type": "execute_result"
    }
   ],
   "source": [
    "import numpy as np\n",
    "\n",
    "times = 10000000\n",
    "\n",
    "ones = np.array([1.0]  * times)\n",
    "fractions = np.array([1 / times] * times )\n",
    "\n",
    "ones.sum() - times"
   ]
  },
  {
   "cell_type": "code",
   "execution_count": 10,
   "metadata": {},
   "outputs": [
    {
     "data": {
      "text/plain": [
       "1.7319479184152442e-14"
      ]
     },
     "execution_count": 10,
     "metadata": {},
     "output_type": "execute_result"
    }
   ],
   "source": [
    "fractions.sum() - 1.0"
   ]
  },
  {
   "cell_type": "markdown",
   "metadata": {},
   "source": [
    "#### Example\n",
    "\n",
    "Adding a large and a small number, subtractive cancellation."
   ]
  },
  {
   "cell_type": "code",
   "execution_count": 25,
   "metadata": {},
   "outputs": [
    {
     "data": {
      "text/plain": [
       "4e+23"
      ]
     },
     "execution_count": 25,
     "metadata": {},
     "output_type": "execute_result"
    }
   ],
   "source": [
    "(4e23 + 1e-1)"
   ]
  },
  {
   "cell_type": "code",
   "execution_count": 26,
   "metadata": {},
   "outputs": [
    {
     "data": {
      "text/plain": [
       "19998441472.0"
      ]
     },
     "execution_count": 26,
     "metadata": {},
     "output_type": "execute_result"
    }
   ],
   "source": [
    "(4e23 + 2e10) - 4e23"
   ]
  },
  {
   "cell_type": "markdown",
   "metadata": {},
   "source": [
    "# Problems"
   ]
  },
  {
   "cell_type": "markdown",
   "metadata": {},
   "source": [
    "#### Exercise\n",
    "\n",
    "The “divide and average” method, an old-time method for approximating the square root of any positive number a, can be formulated as:\n",
    "\n",
    "$$x_{i+1} = \\frac{ x_i + a/x_i}{2}$$\n",
    "\n",
    "Implement it in a Python function with a default relative error threshold of 0.0005. Use 1 as an initial estimate. Test the function by finding the square root of 5."
   ]
  },
  {
   "cell_type": "code",
   "execution_count": 24,
   "metadata": {},
   "outputs": [
    {
     "data": {
      "image/png": "[encoded data removed]",
      "text/plain": [
       "<Figure size 432x288 with 1 Axes>"
      ]
     },
     "metadata": {
      "needs_background": "light"
     },
     "output_type": "display_data"
    }
   ],
   "source": [
    "import matplotlib.pyplot as plt\n",
    "%matplotlib inline\n",
    "\n",
    "def sqrt(a):\n",
    "    e_s = 5e-10\n",
    "    x_i = 1\n",
    "    e_a = 1\n",
    "    history = [x_i]\n",
    "\n",
    "    # Check error\n",
    "    while abs(e_a) > e_s:\n",
    "        \n",
    "        # Improve estimate\n",
    "        x_i1 = (x_i + a / x_i) / 2\n",
    "        \n",
    "        # Calculate approximate error\n",
    "        e_a = (x_i1 - x_i) / x_i1\n",
    "        \n",
    "        # Keep for plotting\n",
    "        history.append(x_i1)\n",
    "        \n",
    "        # Save current estimate to compare in next iteration\n",
    "        x_i = x_i1\n",
    "\n",
    "    \n",
    "    return x_i, history\n",
    "\n",
    "estimate, history = sqrt(5)\n",
    "plt.plot(history);"
   ]
  },
  {
   "cell_type": "markdown",
   "metadata": {},
   "source": [
    "# Further reading\n",
    "\n",
    "[The bias-variance tradeoff]\n",
    "\n",
    "[Floating Point Arithmetic in Python: Issues and Limitations]\n",
    "\n",
    "[The Perils of Floating Point]\n",
    "\n",
    "[An example of interpreting a float]\n",
    "\n",
    "\n",
    "[An example of interpreting a float]: https://math.stackexchange.com/questions/1484561/finding-the-mantissa-from-binary-with-floating-point-numbers\n",
    "[The Perils of Floating Point]: http://www.lahey.com/float.htm\n",
    "[The bias-variance tradeoff]: https://en.wikipedia.org/wiki/Bias%E2%80%93variance_tradeoff\n",
    "[Floating Point Arithmetic in Python: Issues and Limitations]: https://docs.python.org/3/tutorial/floatingpoint.html"
   ]
  }
 ],
 "metadata": {
  "kernelspec": {
   "display_name": "Python 3",
   "language": "python",
   "name": "python3"
  },
  "language_info": {
   "codemirror_mode": {
    "name": "ipython",
    "version": 3
   },
   "file_extension": ".py",
   "mimetype": "text/x-python",
   "name": "python",
   "nbconvert_exporter": "python",
   "pygments_lexer": "ipython3",
   "version": "3.7.2"
  },
  "toc-autonumbering": true
 },
 "nbformat": 4,
 "nbformat_minor": 2
}
