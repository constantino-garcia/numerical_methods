{
 "cells": [
  {
   "cell_type": "markdown",
   "metadata": {
    "toc-hr-collapsed": false
   },
   "source": [
    "# Approximation and round-off error\n",
    "\n",
    "TODO: motivation"
   ]
  },
  {
   "cell_type": "markdown",
   "metadata": {},
   "source": [
    "## Round-off error"
   ]
  },
  {
   "cell_type": "code",
   "execution_count": 2,
   "metadata": {},
   "outputs": [
    {
     "data": {
      "text/plain": [
       "0.30000000000000004"
      ]
     },
     "execution_count": 2,
     "metadata": {},
     "output_type": "execute_result"
    }
   ],
   "source": [
    "0.1 + 0.2"
   ]
  },
  {
   "cell_type": "markdown",
   "metadata": {},
   "source": [
    "## Truncation"
   ]
  },
  {
   "cell_type": "markdown",
   "metadata": {},
   "source": [
    "## Significant figures\n",
    "\n",
    "$0.00001845 = 0.1845 × 10^{-4}$\n",
    "\n",
    "$0.0001845 = 0.1845 × 10^{−3}$\n",
    "\n",
    "$0.001845 = 0.1845 × 10^{−2}$"
   ]
  },
  {
   "cell_type": "markdown",
   "metadata": {},
   "source": [
    "## Accuracy and precision\n",
    "\n",
    "Inaccuracy or Bias\n",
    "\n",
    "\n",
    "Imprecision or Uncertainty"
   ]
  },
  {
   "cell_type": "markdown",
   "metadata": {},
   "source": [
    "# Error definitions\n",
    "\n",
    "$$True\\ value = Approximation + Error$$"
   ]
  },
  {
   "cell_type": "markdown",
   "metadata": {},
   "source": [
    "## True error\n",
    "\n",
    "$$E_t = True\\ value - Approximation$$"
   ]
  },
  {
   "cell_type": "markdown",
   "metadata": {},
   "source": [
    "## Relative error\n",
    "\n",
    "$$\\varepsilon_t = \\frac{true\\ error}{true\\ value}$$"
   ]
  },
  {
   "cell_type": "markdown",
   "metadata": {},
   "source": [
    "## Approximate relative error\n",
    "\n",
    "$$\\varepsilon_a = \\frac{current\\ approx - previous\\ approx}{current\\ approx}$$ \n",
    "\n",
    "Generally we will define a tolerance threshold:\n",
    "\n",
    "$$\\left|\\varepsilon_a\\right| < \\varepsilon_s$$"
   ]
  },
  {
   "cell_type": "markdown",
   "metadata": {},
   "source": [
    "# Iterative methods"
   ]
  },
  {
   "cell_type": "markdown",
   "metadata": {},
   "source": [
    "#### Example\n",
    "\n",
    "We could try to approximate $e^x$ using a polynomial from the Maclaurin expansion:\n",
    "\n",
    "$$e^x = 1 + x + \\frac{x^2}{2} + \\frac{x^3}{3!} + \\frac{x^4}{4!} + \\ldots + \\frac{x^n}{n}$$\n",
    "\n",
    "Let us approximate $e^{x_0}$; $x_0=0.5$, with a tolerance $\\varepsilon_s = 0.0005$, iteratively."
   ]
  },
  {
   "cell_type": "code",
   "execution_count": 39,
   "metadata": {},
   "outputs": [],
   "source": [
    "import numpy as np\n",
    "\n",
    "approximations = []\n",
    "term = 0\n",
    "tolerance = 5e-4\n",
    "approx_error = 1\n",
    "x_0 = 0.5\n",
    "approx = 0\n",
    "\n",
    "while approx_error > tolerance:\n",
    "    new_approx = approx + (x_0 ** term) / np.math.factorial(term)\n",
    "    approximations.append(new_approx)\n",
    "    approx_error = abs(new_approx - approx)\n",
    "    \n",
    "    term += 1\n",
    "    approx = new_approx\n",
    "    \n",
    "    "
   ]
  },
  {
   "cell_type": "code",
   "execution_count": 38,
   "metadata": {},
   "outputs": [
    {
     "data": {
      "text/plain": [
       "[1.0, 1.5, 1.625, 1.6458333333333333, 1.6484375, 1.6486979166666667]"
      ]
     },
     "execution_count": 38,
     "metadata": {},
     "output_type": "execute_result"
    },
    {
     "data": {
      "image/png": "[encoded data removed]",
      "text/plain": [
       "<Figure size 432x288 with 1 Axes>"
      ]
     },
     "metadata": {
      "needs_background": "light"
     },
     "output_type": "display_data"
    }
   ],
   "source": [
    "import matplotlib.pyplot as plt\n",
    "%matplotlib inline\n",
    "\n",
    "plt.plot(approximations)\n",
    "approximations"
   ]
  },
  {
   "cell_type": "markdown",
   "metadata": {},
   "source": [
    "# Floating point representation\n",
    "\n",
    "$$ m \\cdot b^e$$\n",
    "\n",
    "* $m$: mantissa\n",
    "* $b$: base\n",
    "* $e$: exponent\n",
    "\n",
    "![Floating point example](http://www.dspguide.com/graphics/F_4_2.gif)"
   ]
  },
  {
   "cell_type": "markdown",
   "metadata": {},
   "source": [
    "## Precision\n",
    "\n",
    "Single and double precision: Only about 7 decimal digits are representable in single-precision IEEE format, and about 16 in double-precision IEEE format[[1]]. \n",
    "\n",
    "[Python precision] depends on the underlying system but generally it uses 64 bit floating point numbers.\n",
    "\n",
    "When we need more, we can use a package specifically designed for numerical computation like [numpy].\n",
    "\n",
    "\n",
    "\n",
    "[1]: http://www.lahey.com/float.htm\n",
    "[Python precision]: https://docs.python.org/3/tutorial/floatingpoint.html\n",
    "[numpy]: https://docs.scipy.org/doc/numpy/user/basics.html"
   ]
  },
  {
   "cell_type": "markdown",
   "metadata": {},
   "source": [
    "## Conflictive operations\n",
    "\n",
    "* Common arithmetic operations\n",
    "* Large computations\n",
    "* Adding a large and a small number\n",
    "* Subtractive cancellation\n",
    "* Smearing\n",
    "* Inner Products"
   ]
  },
  {
   "cell_type": "markdown",
   "metadata": {},
   "source": [
    "#### Example\n",
    "\n",
    "Suppose we have a (decimal) computer with a 4 digit mantissa and a 1 digit exponent.\n",
    "Also, chopping is used. How would we\n",
    "compute $0.1557 × 10^1 + 0.4381 × 10^{−1}$?"
   ]
  },
  {
   "cell_type": "markdown",
   "metadata": {},
   "source": [
    "#### Example\n",
    "\n",
    "Large Numbers of Interdependent Computations"
   ]
  },
  {
   "cell_type": "code",
   "execution_count": 29,
   "metadata": {},
   "outputs": [
    {
     "data": {
      "text/plain": [
       "(0.0, 1.7319479184152442e-14)"
      ]
     },
     "execution_count": 29,
     "metadata": {},
     "output_type": "execute_result"
    }
   ],
   "source": [
    "import numpy as np\n",
    "\n",
    "times = 10000000\n",
    "\n",
    "ones = np.array([1.0] * times)\n",
    "\n",
    "fractions = np.array([1 / times] * times)\n",
    "\n",
    "ones.sum() - times, fractions.sum() - 1"
   ]
  },
  {
   "cell_type": "markdown",
   "metadata": {},
   "source": [
    "#### Example\n",
    "\n",
    "Adding a large and a small number"
   ]
  },
  {
   "cell_type": "code",
   "execution_count": 33,
   "metadata": {},
   "outputs": [
    {
     "data": {
      "text/plain": [
       "0.0"
      ]
     },
     "execution_count": 33,
     "metadata": {},
     "output_type": "execute_result"
    }
   ],
   "source": [
    "(4e23 + 1e-1) - 4e23"
   ]
  },
  {
   "cell_type": "code",
   "execution_count": 35,
   "metadata": {},
   "outputs": [
    {
     "data": {
      "text/plain": [
       "19998441472.0"
      ]
     },
     "execution_count": 35,
     "metadata": {},
     "output_type": "execute_result"
    }
   ],
   "source": [
    "(4e23 + 2e10) - 4e23"
   ]
  },
  {
   "cell_type": "markdown",
   "metadata": {},
   "source": [
    "#### Example\n",
    "\n",
    "Subtractive cancellation TODO"
   ]
  },
  {
   "cell_type": "markdown",
   "metadata": {},
   "source": [
    "#### Example\n",
    "\n",
    "Smearing TODO"
   ]
  },
  {
   "cell_type": "markdown",
   "metadata": {},
   "source": [
    "# Problems\n",
    "\n",
    "TODO"
   ]
  },
  {
   "cell_type": "code",
   "execution_count": null,
   "metadata": {},
   "outputs": [],
   "source": []
  },
  {
   "cell_type": "markdown",
   "metadata": {},
   "source": [
    "# Further reading\n",
    "\n",
    "[The Perils of Floating Point]\n",
    "\n",
    "[An example of interpreting a float]\n",
    "\n",
    "[An example of interpreting a float]: https://math.stackexchange.com/questions/1484561/finding-the-mantissa-from-binary-with-floating-point-numbers\n",
    "[The Perils of Floating Point]: http://www.lahey.com/float.htm"
   ]
  }
 ],
 "metadata": {
  "kernelspec": {
   "display_name": "Python 3",
   "language": "python",
   "name": "python3"
  },
  "language_info": {
   "codemirror_mode": {
    "name": "ipython",
    "version": 3
   },
   "file_extension": ".py",
   "mimetype": "text/x-python",
   "name": "python",
   "nbconvert_exporter": "python",
   "pygments_lexer": "ipython3",
   "version": "3.7.2"
  },
  "toc-autonumbering": true
 },
 "nbformat": 4,
 "nbformat_minor": 2
}
