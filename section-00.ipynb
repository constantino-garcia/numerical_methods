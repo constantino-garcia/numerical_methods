{
 "cells": [
  {
   "cell_type": "markdown",
   "metadata": {
    "toc-hr-collapsed": true
   },
   "source": [
    "# Numerical methods for biomedical engineering\n",
    "\n",
    "Why study this?\n",
    "\n",
    "* Problem-solving power\n",
    "* Understanding off-the-shelf software.\n",
    "* Custom software\n",
    "* Deeper understanding of computer programming\n",
    "* Deeper understanding of mathematics.\n",
    "\n",
    "What you'll be able to do after this course is solve real engineering problems with the help of a computer."
   ]
  },
  {
   "cell_type": "markdown",
   "metadata": {
    "toc-hr-collapsed": false
   },
   "source": [
    "## What are numerical methods\n",
    "\n",
    "_Mathematical methods that are used to approximate the solution of complicated problems so that the solution consists of only addition, subtraction and multiplication operations._\n"
   ]
  },
  {
   "cell_type": "markdown",
   "metadata": {},
   "source": [
    "## Modelling in engineering\n",
    "\n",
    "A basic mathematical model consits of a formulation like this:\n",
    "\n",
    "$$ Dependent\\ variable = f\\left(independent\\ variables, parameters, forcing\\ functions\\right)$$\n",
    "\n",
    "* Dependent variable: state\n",
    "* Independent variables: dimensions along which we study the system\n",
    "* Forcing functions: external influences affecting the system."
   ]
  },
  {
   "cell_type": "markdown",
   "metadata": {},
   "source": [
    "### The falling parachutist\n",
    "\n",
    "A parachutist is falling through the atmosphere (before opening the parachute).\n",
    "\n",
    "Dependent variable: velocity\n",
    "\n",
    "Independent variables: \n",
    "\n",
    "Forcing functions: "
   ]
  },
  {
   "cell_type": "code",
   "execution_count": null,
   "metadata": {},
   "outputs": [],
   "source": []
  },
  {
   "cell_type": "markdown",
   "metadata": {},
   "source": [
    "$$F = ma$$\n",
    "\n",
    "$$F = F_D + F_U$$\n",
    "\n",
    "$$F_D = mg$$\n",
    "\n",
    "$$F_U = -cv$$"
   ]
  },
  {
   "cell_type": "code",
   "execution_count": null,
   "metadata": {},
   "outputs": [],
   "source": []
  },
  {
   "cell_type": "markdown",
   "metadata": {},
   "source": [
    "If we combine all of this:\n",
    "\n",
    "$$\\frac{d v}{dt} = \\frac{mg -cv}{m} $$\n",
    "\n",
    "What kind of equation is this?"
   ]
  },
  {
   "cell_type": "code",
   "execution_count": null,
   "metadata": {},
   "outputs": [],
   "source": []
  },
  {
   "cell_type": "markdown",
   "metadata": {},
   "source": [
    "### Analytical solution\n",
    "\n",
    "$$v(t) = \\frac{gm}{c} (1 - e^{-(c/m)t})$$"
   ]
  },
  {
   "cell_type": "code",
   "execution_count": null,
   "metadata": {},
   "outputs": [],
   "source": []
  },
  {
   "cell_type": "markdown",
   "metadata": {},
   "source": [
    "### Euler's method\n",
    "\n",
    "Finite differences:\n",
    "\n",
    "$$\\frac{dv}{dt} \\approx \\frac{\\Delta v}{\\Delta t} = \\frac{v(t_{i+1}) - v(t_i)}{t_{i+1}- t_i} $$\n",
    "\n",
    "Which can be rearranged like this:\n",
    "\n",
    "$$ v(t_{i+1} ) = v(t_i ) + \\left[g − \\frac{c}{m} v(t_i)\\right] (t_{i+1} − t_i )$$"
   ]
  },
  {
   "cell_type": "code",
   "execution_count": null,
   "metadata": {},
   "outputs": [],
   "source": []
  },
  {
   "cell_type": "markdown",
   "metadata": {
    "toc-hr-collapsed": false
   },
   "source": [
    "# Python programming"
   ]
  },
  {
   "cell_type": "markdown",
   "metadata": {
    "toc-hr-collapsed": true
   },
   "source": [
    "## Basic data types"
   ]
  },
  {
   "cell_type": "code",
   "execution_count": null,
   "metadata": {},
   "outputs": [],
   "source": []
  },
  {
   "cell_type": "markdown",
   "metadata": {},
   "source": [
    "### Ints and floats"
   ]
  },
  {
   "cell_type": "code",
   "execution_count": null,
   "metadata": {},
   "outputs": [],
   "source": []
  },
  {
   "cell_type": "markdown",
   "metadata": {},
   "source": [
    "### Strings"
   ]
  },
  {
   "cell_type": "code",
   "execution_count": null,
   "metadata": {},
   "outputs": [],
   "source": []
  },
  {
   "cell_type": "markdown",
   "metadata": {},
   "source": [
    "### Booleans"
   ]
  },
  {
   "cell_type": "code",
   "execution_count": null,
   "metadata": {},
   "outputs": [],
   "source": []
  },
  {
   "cell_type": "markdown",
   "metadata": {
    "toc-hr-collapsed": false
   },
   "source": [
    "## Data structures"
   ]
  },
  {
   "cell_type": "markdown",
   "metadata": {},
   "source": [
    "### Lists and tuples"
   ]
  },
  {
   "cell_type": "code",
   "execution_count": null,
   "metadata": {},
   "outputs": [],
   "source": []
  },
  {
   "cell_type": "markdown",
   "metadata": {},
   "source": [
    "### Unpacking"
   ]
  },
  {
   "cell_type": "code",
   "execution_count": null,
   "metadata": {},
   "outputs": [],
   "source": []
  },
  {
   "cell_type": "markdown",
   "metadata": {},
   "source": [
    "### Indexing and slicing\n",
    "\n",
    "![indexing and slicing](https://infohost.nmt.edu/tcc/help/pubs/python/fig/slicing.png)"
   ]
  },
  {
   "cell_type": "code",
   "execution_count": null,
   "metadata": {},
   "outputs": [],
   "source": []
  },
  {
   "cell_type": "markdown",
   "metadata": {},
   "source": [
    "### `enumerate`, `zip`, list comprehensions"
   ]
  },
  {
   "cell_type": "code",
   "execution_count": null,
   "metadata": {},
   "outputs": [],
   "source": []
  },
  {
   "cell_type": "markdown",
   "metadata": {},
   "source": [
    "### Dictionaries"
   ]
  },
  {
   "cell_type": "code",
   "execution_count": null,
   "metadata": {},
   "outputs": [],
   "source": []
  },
  {
   "cell_type": "markdown",
   "metadata": {},
   "source": [
    "## Branching"
   ]
  },
  {
   "cell_type": "code",
   "execution_count": null,
   "metadata": {},
   "outputs": [],
   "source": []
  },
  {
   "cell_type": "markdown",
   "metadata": {
    "toc-hr-collapsed": false
   },
   "source": [
    "## Loops"
   ]
  },
  {
   "cell_type": "code",
   "execution_count": null,
   "metadata": {},
   "outputs": [],
   "source": []
  },
  {
   "cell_type": "markdown",
   "metadata": {},
   "source": [
    "### `for` loops"
   ]
  },
  {
   "cell_type": "code",
   "execution_count": null,
   "metadata": {},
   "outputs": [],
   "source": []
  },
  {
   "cell_type": "markdown",
   "metadata": {},
   "source": [
    "### `while` loops"
   ]
  },
  {
   "cell_type": "code",
   "execution_count": null,
   "metadata": {},
   "outputs": [],
   "source": []
  },
  {
   "cell_type": "markdown",
   "metadata": {
    "toc-hr-collapsed": true
   },
   "source": [
    "## Functions"
   ]
  },
  {
   "cell_type": "code",
   "execution_count": null,
   "metadata": {},
   "outputs": [],
   "source": []
  },
  {
   "cell_type": "markdown",
   "metadata": {},
   "source": [
    "### Global and local scope"
   ]
  },
  {
   "cell_type": "code",
   "execution_count": null,
   "metadata": {},
   "outputs": [],
   "source": []
  },
  {
   "cell_type": "markdown",
   "metadata": {},
   "source": [
    "### Higher order functions"
   ]
  },
  {
   "cell_type": "code",
   "execution_count": null,
   "metadata": {},
   "outputs": [],
   "source": []
  },
  {
   "cell_type": "markdown",
   "metadata": {},
   "source": [
    "## Error handling"
   ]
  },
  {
   "cell_type": "code",
   "execution_count": null,
   "metadata": {},
   "outputs": [],
   "source": []
  },
  {
   "cell_type": "markdown",
   "metadata": {},
   "source": [
    "## Object oriented programming in Python"
   ]
  },
  {
   "cell_type": "code",
   "execution_count": null,
   "metadata": {},
   "outputs": [],
   "source": []
  },
  {
   "cell_type": "markdown",
   "metadata": {
    "slideshow": {
     "slide_type": "slide"
    },
    "toc-hr-collapsed": false
   },
   "source": [
    "# The Python scientific stack: SciPy\n",
    "\n",
    "Python Main Data Libraries"
   ]
  },
  {
   "cell_type": "markdown",
   "metadata": {
    "slideshow": {
     "slide_type": "fragment"
    }
   },
   "source": [
    "NumPy: Base N-dimensional array package\n",
    "\n",
    "SciPy library: Fundamental library for scientific computing\n",
    "\n",
    "Matplotlib: Comprehensive 2D Plotting\n",
    "\n",
    "IPython: Enhanced Interactive Console\n",
    "\n",
    "Sympy: Symbolic mathematics\n",
    "\n",
    "pandas: Data structures & analysis"
   ]
  },
  {
   "cell_type": "markdown",
   "metadata": {
    "slideshow": {
     "slide_type": "slide"
    }
   },
   "source": [
    "## `matplotlib`"
   ]
  },
  {
   "cell_type": "code",
   "execution_count": 1,
   "metadata": {
    "collapsed": true,
    "slideshow": {
     "slide_type": "fragment"
    }
   },
   "outputs": [],
   "source": [
    "import numpy as np\n",
    "import matplotlib.pyplot as plt\n",
    "\n",
    "%matplotlib inline"
   ]
  },
  {
   "cell_type": "code",
   "execution_count": 2,
   "metadata": {
    "slideshow": {
     "slide_type": "fragment"
    }
   },
   "outputs": [
    {
     "data": {
      "image/png": "[encoded data removed]",
      "text/plain": [
       "<matplotlib.figure.Figure at 0x7f6fb3301940>"
      ]
     },
     "metadata": {},
     "output_type": "display_data"
    }
   ],
   "source": [
    "X = np.linspace(-np.pi, np.pi, 256, endpoint=True)\n",
    "C,S = np.cos(X), np.sin(X)\n",
    "\n",
    "plt.plot(X,C)\n",
    "plt.plot(X,S)\n",
    "plt.show()"
   ]
  },
  {
   "cell_type": "markdown",
   "metadata": {
    "slideshow": {
     "slide_type": "slide"
    }
   },
   "source": [
    "  "
   ]
  },
  {
   "cell_type": "markdown",
   "metadata": {
    "slideshow": {
     "slide_type": "slide"
    },
    "toc-hr-collapsed": false
   },
   "source": [
    "## `numpy`"
   ]
  },
  {
   "cell_type": "code",
   "execution_count": 4,
   "metadata": {
    "slideshow": {
     "slide_type": "fragment"
    }
   },
   "outputs": [
    {
     "data": {
      "text/plain": [
       "dtype('float64')"
      ]
     },
     "execution_count": 4,
     "metadata": {},
     "output_type": "execute_result"
    }
   ],
   "source": [
    "a_list = [1, 2.0,3.1,4.2,-1,8.92]\n",
    "a = np.array(a_list)\n",
    "a.dtype"
   ]
  },
  {
   "cell_type": "code",
   "execution_count": 5,
   "metadata": {
    "slideshow": {
     "slide_type": "fragment"
    }
   },
   "outputs": [
    {
     "data": {
      "text/plain": [
       "(6,)"
      ]
     },
     "execution_count": 5,
     "metadata": {},
     "output_type": "execute_result"
    }
   ],
   "source": [
    "a.shape"
   ]
  },
  {
   "cell_type": "code",
   "execution_count": 6,
   "metadata": {
    "slideshow": {
     "slide_type": "fragment"
    }
   },
   "outputs": [
    {
     "data": {
      "text/plain": [
       "1"
      ]
     },
     "execution_count": 6,
     "metadata": {},
     "output_type": "execute_result"
    }
   ],
   "source": [
    "a.ndim"
   ]
  },
  {
   "cell_type": "code",
   "execution_count": 7,
   "metadata": {
    "slideshow": {
     "slide_type": "slide"
    }
   },
   "outputs": [
    {
     "data": {
      "text/plain": [
       "array([[ 1.+0.j,  2.+0.j],\n",
       "       [ 3.+0.j,  4.+0.j]])"
      ]
     },
     "execution_count": 7,
     "metadata": {},
     "output_type": "execute_result"
    }
   ],
   "source": [
    "np.array( [ [1,2], [3,4] ], dtype=complex )"
   ]
  },
  {
   "cell_type": "code",
   "execution_count": 8,
   "metadata": {
    "slideshow": {
     "slide_type": "slide"
    }
   },
   "outputs": [
    {
     "name": "stdout",
     "output_type": "stream",
     "text": [
      "[[ 1  2  3]\n",
      " [ 4  5  6]\n",
      " [ 7  8  9]\n",
      " [10 11 12]]\n",
      "(6,) (4, 3)\n",
      "6 12\n"
     ]
    }
   ],
   "source": [
    "a2 = np.array([[1,2,3],[4,5,6],[7,8,9],[10,11,12]])\n",
    "print(a2)\n",
    "\n",
    "print(a.shape, a2.shape)\n",
    "print(a.size,a2.size)"
   ]
  },
  {
   "cell_type": "code",
   "execution_count": 9,
   "metadata": {
    "slideshow": {
     "slide_type": "slide"
    }
   },
   "outputs": [
    {
     "name": "stdout",
     "output_type": "stream",
     "text": [
      "[ 0.  0.  0.  0.  0.  0.  0.  0.  0.  0.]\n",
      "[[ 1.  1.  1.]\n",
      " [ 1.  1.  1.]]\n",
      "[[1 1 1]\n",
      " [1 1 1]\n",
      " [1 1 1]\n",
      " [1 1 1]]\n",
      "[[ 1.  0.  0.  0.]\n",
      " [ 0.  1.  0.  0.]\n",
      " [ 0.  0.  1.  0.]\n",
      " [ 0.  0.  0.  1.]]\n",
      "[[[  4.94065646e-324   4.94065646e-324]\n",
      "  [  4.94065646e-324   4.94065646e-324]\n",
      "  [  4.94065646e-324   4.94065646e-324]]\n",
      "\n",
      " [[  4.94065646e-324   4.94065646e-324]\n",
      "  [  4.94065646e-324   4.94065646e-324]\n",
      "  [  4.94065646e-324   4.94065646e-324]]]\n"
     ]
    }
   ],
   "source": [
    "print(np.zeros(10))\n",
    "print(np.ones((2,3)))\n",
    "print(np.ones_like(a2))\n",
    "print(np.eye(4))\n",
    "print(np.empty((2,3,2)))"
   ]
  },
  {
   "cell_type": "code",
   "execution_count": 10,
   "metadata": {
    "slideshow": {
     "slide_type": "slide"
    }
   },
   "outputs": [
    {
     "name": "stdout",
     "output_type": "stream",
     "text": [
      "[0 1 2 3 4 5 6 7 8 9]\n",
      "[10 15 20 25]\n",
      "[ 0.   0.3  0.6  0.9  1.2  1.5  1.8]\n"
     ]
    }
   ],
   "source": [
    "print(np.arange(10))\n",
    "print(np.arange( 10, 30, 5 ))\n",
    "print(np.arange( 0, 2, 0.3 ))"
   ]
  },
  {
   "cell_type": "code",
   "execution_count": 11,
   "metadata": {
    "slideshow": {
     "slide_type": "fragment"
    }
   },
   "outputs": [
    {
     "data": {
      "text/plain": [
       "array([   0,    1,    2, ..., 9997, 9998, 9999])"
      ]
     },
     "execution_count": 11,
     "metadata": {},
     "output_type": "execute_result"
    }
   ],
   "source": [
    "np.arange(10000)"
   ]
  },
  {
   "cell_type": "code",
   "execution_count": 12,
   "metadata": {
    "slideshow": {
     "slide_type": "slide"
    }
   },
   "outputs": [
    {
     "data": {
      "text/plain": [
       "array([[   0,    1,    2, ...,   97,   98,   99],\n",
       "       [ 100,  101,  102, ...,  197,  198,  199],\n",
       "       [ 200,  201,  202, ...,  297,  298,  299],\n",
       "       ..., \n",
       "       [9700, 9701, 9702, ..., 9797, 9798, 9799],\n",
       "       [9800, 9801, 9802, ..., 9897, 9898, 9899],\n",
       "       [9900, 9901, 9902, ..., 9997, 9998, 9999]])"
      ]
     },
     "execution_count": 12,
     "metadata": {},
     "output_type": "execute_result"
    }
   ],
   "source": [
    "np.arange(10000).reshape(100,100)"
   ]
  },
  {
   "cell_type": "code",
   "execution_count": 13,
   "metadata": {
    "slideshow": {
     "slide_type": "fragment"
    }
   },
   "outputs": [
    {
     "data": {
      "text/plain": [
       "array([[ 0.82374171,  0.86936693,  0.15161401],\n",
       "       [ 0.81322742,  0.86744303,  0.96025582]])"
      ]
     },
     "execution_count": 13,
     "metadata": {},
     "output_type": "execute_result"
    }
   ],
   "source": [
    "np.random.random((2,3))"
   ]
  },
  {
   "cell_type": "markdown",
   "metadata": {
    "slideshow": {
     "slide_type": "slide"
    }
   },
   "source": [
    "### Indexing"
   ]
  },
  {
   "cell_type": "code",
   "execution_count": 14,
   "metadata": {
    "slideshow": {
     "slide_type": "fragment"
    }
   },
   "outputs": [
    {
     "name": "stdout",
     "output_type": "stream",
     "text": [
      "[ 1.    2.    3.1   4.2  -1.    8.92]\n",
      "[[ 1  2  3]\n",
      " [ 4  5  6]\n",
      " [ 7  8  9]\n",
      " [10 11 12]]\n"
     ]
    }
   ],
   "source": [
    "print(a)\n",
    "print(a2)"
   ]
  },
  {
   "cell_type": "code",
   "execution_count": 15,
   "metadata": {
    "slideshow": {
     "slide_type": "fragment"
    }
   },
   "outputs": [
    {
     "name": "stdout",
     "output_type": "stream",
     "text": [
      "1.0 [1 2 3]\n"
     ]
    }
   ],
   "source": [
    "print(a[0],a2[0])"
   ]
  },
  {
   "cell_type": "code",
   "execution_count": 16,
   "metadata": {
    "slideshow": {
     "slide_type": "slide"
    }
   },
   "outputs": [
    {
     "data": {
      "text/plain": [
       "4"
      ]
     },
     "execution_count": 16,
     "metadata": {},
     "output_type": "execute_result"
    }
   ],
   "source": [
    "a2[1][0] "
   ]
  },
  {
   "cell_type": "code",
   "execution_count": 17,
   "metadata": {
    "slideshow": {
     "slide_type": "fragment"
    }
   },
   "outputs": [
    {
     "data": {
      "text/plain": [
       "4"
      ]
     },
     "execution_count": 17,
     "metadata": {},
     "output_type": "execute_result"
    }
   ],
   "source": [
    "a2[1,0]"
   ]
  },
  {
   "cell_type": "markdown",
   "metadata": {
    "slideshow": {
     "slide_type": "slide"
    }
   },
   "source": [
    "### Slicing"
   ]
  },
  {
   "cell_type": "code",
   "execution_count": 18,
   "metadata": {
    "slideshow": {
     "slide_type": "fragment"
    }
   },
   "outputs": [
    {
     "data": {
      "text/plain": [
       "array([ 2. ,  3.1])"
      ]
     },
     "execution_count": 18,
     "metadata": {},
     "output_type": "execute_result"
    }
   ],
   "source": [
    "a[1:3]"
   ]
  },
  {
   "cell_type": "code",
   "execution_count": 19,
   "metadata": {
    "slideshow": {
     "slide_type": "fragment"
    }
   },
   "outputs": [
    {
     "data": {
      "text/plain": [
       "array([[ 1,  2,  3],\n",
       "       [ 4,  5,  6],\n",
       "       [ 7,  8,  9],\n",
       "       [10, 11, 12]])"
      ]
     },
     "execution_count": 19,
     "metadata": {},
     "output_type": "execute_result"
    }
   ],
   "source": [
    "a2[:]"
   ]
  },
  {
   "cell_type": "code",
   "execution_count": 20,
   "metadata": {
    "slideshow": {
     "slide_type": "slide"
    }
   },
   "outputs": [
    {
     "data": {
      "text/plain": [
       "array([[1, 2],\n",
       "       [4, 5]])"
      ]
     },
     "execution_count": 20,
     "metadata": {},
     "output_type": "execute_result"
    }
   ],
   "source": [
    "a2[:2,:2]"
   ]
  },
  {
   "cell_type": "code",
   "execution_count": 21,
   "metadata": {
    "slideshow": {
     "slide_type": "slide"
    }
   },
   "outputs": [
    {
     "data": {
      "text/plain": [
       "array([[False, False, False],\n",
       "       [ True,  True,  True],\n",
       "       [ True,  True,  True],\n",
       "       [ True,  True,  True]], dtype=bool)"
      ]
     },
     "execution_count": 21,
     "metadata": {},
     "output_type": "execute_result"
    }
   ],
   "source": [
    "a2 > 3"
   ]
  },
  {
   "cell_type": "code",
   "execution_count": 22,
   "metadata": {
    "slideshow": {
     "slide_type": "fragment"
    }
   },
   "outputs": [
    {
     "name": "stdout",
     "output_type": "stream",
     "text": [
      "[3]\n",
      "[ 4  5  6  7  8  9 10 11 12]\n",
      "[ 2  4  6  8 10 12]\n"
     ]
    }
   ],
   "source": [
    "print(a2[a2==3])\n",
    "print(a2[a2>3])\n",
    "print(a2[a2 %2 == 0])"
   ]
  },
  {
   "cell_type": "markdown",
   "metadata": {
    "slideshow": {
     "slide_type": "slide"
    }
   },
   "source": [
    "### Careful with copying!"
   ]
  },
  {
   "cell_type": "code",
   "execution_count": 23,
   "metadata": {
    "slideshow": {
     "slide_type": "fragment"
    }
   },
   "outputs": [
    {
     "data": {
      "text/plain": [
       "array([[ 1,  2,  3],\n",
       "       [ 4, -1,  6],\n",
       "       [ 7,  8,  9],\n",
       "       [10, 11, 12]])"
      ]
     },
     "execution_count": 23,
     "metadata": {},
     "output_type": "execute_result"
    }
   ],
   "source": [
    "b=a2[1]\n",
    "\n",
    "b[1]=-1\n",
    "a2"
   ]
  },
  {
   "cell_type": "code",
   "execution_count": 24,
   "metadata": {
    "collapsed": true,
    "slideshow": {
     "slide_type": "fragment"
    }
   },
   "outputs": [],
   "source": [
    "b[:]=3"
   ]
  },
  {
   "cell_type": "code",
   "execution_count": 25,
   "metadata": {
    "slideshow": {
     "slide_type": "fragment"
    }
   },
   "outputs": [
    {
     "data": {
      "text/plain": [
       "array([[ 1,  2,  3],\n",
       "       [ 3,  3,  3],\n",
       "       [ 7,  8,  9],\n",
       "       [10, 11, 12]])"
      ]
     },
     "execution_count": 25,
     "metadata": {},
     "output_type": "execute_result"
    }
   ],
   "source": [
    "a2 "
   ]
  },
  {
   "cell_type": "code",
   "execution_count": 26,
   "metadata": {
    "slideshow": {
     "slide_type": "slide"
    }
   },
   "outputs": [
    {
     "data": {
      "text/plain": [
       "array([3, 3, 3])"
      ]
     },
     "execution_count": 26,
     "metadata": {},
     "output_type": "execute_result"
    }
   ],
   "source": [
    "c=a2[1].copy()\n",
    "c"
   ]
  },
  {
   "cell_type": "code",
   "execution_count": 27,
   "metadata": {
    "collapsed": true,
    "slideshow": {
     "slide_type": "fragment"
    }
   },
   "outputs": [],
   "source": [
    "c[:]=[1,-3,0]"
   ]
  },
  {
   "cell_type": "code",
   "execution_count": 28,
   "metadata": {
    "slideshow": {
     "slide_type": "fragment"
    }
   },
   "outputs": [
    {
     "name": "stdout",
     "output_type": "stream",
     "text": [
      "[ 1 -3  0]\n",
      "[[ 1  2  3]\n",
      " [ 3  3  3]\n",
      " [ 7  8  9]\n",
      " [10 11 12]]\n"
     ]
    }
   ],
   "source": [
    "print(c)\n",
    "print(a2)"
   ]
  },
  {
   "cell_type": "markdown",
   "metadata": {
    "slideshow": {
     "slide_type": "slide"
    }
   },
   "source": [
    "### Element wise operations"
   ]
  },
  {
   "cell_type": "code",
   "execution_count": 29,
   "metadata": {
    "slideshow": {
     "slide_type": "fragment"
    }
   },
   "outputs": [
    {
     "name": "stdout",
     "output_type": "stream",
     "text": [
      "[[ 1  2  3]\n",
      " [ 3  3  3]\n",
      " [ 7  8  9]\n",
      " [10 11 12]]\n"
     ]
    },
    {
     "data": {
      "text/plain": [
       "array([[  1,   4,   9],\n",
       "       [  9,   9,   9],\n",
       "       [ 49,  64,  81],\n",
       "       [100, 121, 144]])"
      ]
     },
     "execution_count": 29,
     "metadata": {},
     "output_type": "execute_result"
    }
   ],
   "source": [
    "print(a2)\n",
    "a2*a2 "
   ]
  },
  {
   "cell_type": "code",
   "execution_count": 30,
   "metadata": {
    "slideshow": {
     "slide_type": "fragment"
    }
   },
   "outputs": [
    {
     "data": {
      "text/plain": [
       "array([[0, 0, 0],\n",
       "       [0, 0, 0],\n",
       "       [0, 0, 0],\n",
       "       [0, 0, 0]])"
      ]
     },
     "execution_count": 30,
     "metadata": {},
     "output_type": "execute_result"
    }
   ],
   "source": [
    "a2 -a2"
   ]
  },
  {
   "cell_type": "code",
   "execution_count": 31,
   "metadata": {
    "slideshow": {
     "slide_type": "slide"
    }
   },
   "outputs": [
    {
     "data": {
      "text/plain": [
       "array([[ 1.        ,  0.5       ,  0.33333333],\n",
       "       [ 0.33333333,  0.33333333,  0.33333333],\n",
       "       [ 0.14285714,  0.125     ,  0.11111111],\n",
       "       [ 0.1       ,  0.09090909,  0.08333333]])"
      ]
     },
     "execution_count": 31,
     "metadata": {},
     "output_type": "execute_result"
    }
   ],
   "source": [
    "1/a2"
   ]
  },
  {
   "cell_type": "code",
   "execution_count": 32,
   "metadata": {
    "slideshow": {
     "slide_type": "fragment"
    }
   },
   "outputs": [
    {
     "data": {
      "text/plain": [
       "array([[  1,   4,   9],\n",
       "       [  9,   9,   9],\n",
       "       [ 49,  64,  81],\n",
       "       [100, 121, 144]])"
      ]
     },
     "execution_count": 32,
     "metadata": {},
     "output_type": "execute_result"
    }
   ],
   "source": [
    "a2**2"
   ]
  },
  {
   "cell_type": "code",
   "execution_count": 33,
   "metadata": {
    "slideshow": {
     "slide_type": "slide"
    }
   },
   "outputs": [
    {
     "data": {
      "text/plain": [
       "array([[ 0.84147098,  0.90929743,  0.14112001],\n",
       "       [ 0.14112001,  0.14112001,  0.14112001],\n",
       "       [ 0.6569866 ,  0.98935825,  0.41211849],\n",
       "       [-0.54402111, -0.99999021, -0.53657292]])"
      ]
     },
     "execution_count": 33,
     "metadata": {},
     "output_type": "execute_result"
    }
   ],
   "source": [
    "np.sin(a2)"
   ]
  },
  {
   "cell_type": "markdown",
   "metadata": {
    "slideshow": {
     "slide_type": "slide"
    }
   },
   "source": [
    "### Matrix operations"
   ]
  },
  {
   "cell_type": "code",
   "execution_count": 34,
   "metadata": {
    "slideshow": {
     "slide_type": "fragment"
    }
   },
   "outputs": [
    {
     "data": {
      "text/plain": [
       "112.8164"
      ]
     },
     "execution_count": 34,
     "metadata": {},
     "output_type": "execute_result"
    }
   ],
   "source": [
    "a.dot(a)"
   ]
  },
  {
   "cell_type": "code",
   "execution_count": null,
   "metadata": {},
   "outputs": [],
   "source": [
    "a@a"
   ]
  },
  {
   "cell_type": "code",
   "execution_count": 35,
   "metadata": {
    "slideshow": {
     "slide_type": "fragment"
    }
   },
   "outputs": [
    {
     "data": {
      "text/plain": [
       "array([ 8,  9, 26, 35])"
      ]
     },
     "execution_count": 35,
     "metadata": {},
     "output_type": "execute_result"
    }
   ],
   "source": [
    "a2.dot(np.arange(3))"
   ]
  },
  {
   "cell_type": "code",
   "execution_count": 36,
   "metadata": {
    "slideshow": {
     "slide_type": "fragment"
    }
   },
   "outputs": [
    {
     "data": {
      "text/plain": [
       "array([[ 1,  3,  7, 10],\n",
       "       [ 2,  3,  8, 11],\n",
       "       [ 3,  3,  9, 12]])"
      ]
     },
     "execution_count": 36,
     "metadata": {},
     "output_type": "execute_result"
    }
   ],
   "source": [
    "a2.transpose()"
   ]
  },
  {
   "cell_type": "code",
   "execution_count": 37,
   "metadata": {
    "slideshow": {
     "slide_type": "fragment"
    }
   },
   "outputs": [
    {
     "name": "stdout",
     "output_type": "stream",
     "text": [
      "72\n",
      "[ 1  3  6  9 12 15 22 30 39 49 60 72]\n",
      "[        1         2         6        18        54       162      1134\n",
      "      9072     81648    816480   8981280 107775360]\n"
     ]
    }
   ],
   "source": [
    "print(a2.sum())\n",
    "print(a2.cumsum())\n",
    "print(a2.cumprod())"
   ]
  },
  {
   "cell_type": "markdown",
   "metadata": {
    "slideshow": {
     "slide_type": "slide"
    }
   },
   "source": [
    "### Linear Algebra\n",
    "\n",
    "http://docs.scipy.org/doc/numpy-1.10.0/reference/routines.linalg.html"
   ]
  },
  {
   "cell_type": "code",
   "execution_count": 43,
   "metadata": {
    "slideshow": {
     "slide_type": "fragment"
    }
   },
   "outputs": [
    {
     "name": "stdout",
     "output_type": "stream",
     "text": [
      "Help on package numpy.linalg in numpy:\n",
      "\n",
      "NAME\n",
      "    numpy.linalg\n",
      "\n",
      "DESCRIPTION\n",
      "    Core Linear Algebra Tools\n",
      "    -------------------------\n",
      "    Linear algebra basics:\n",
      "    \n",
      "    - norm            Vector or matrix norm\n",
      "    - inv             Inverse of a square matrix\n",
      "    - solve           Solve a linear system of equations\n",
      "    - det             Determinant of a square matrix\n",
      "    - lstsq           Solve linear least-squares problem\n",
      "    - pinv            Pseudo-inverse (Moore-Penrose) calculated using a singular\n",
      "                      value decomposition\n",
      "    - matrix_power    Integer power of a square matrix\n",
      "    \n",
      "    Eigenvalues and decompositions:\n",
      "    \n",
      "    - eig             Eigenvalues and vectors of a square matrix\n",
      "    - eigh            Eigenvalues and eigenvectors of a Hermitian matrix\n",
      "    - eigvals         Eigenvalues of a square matrix\n",
      "    - eigvalsh        Eigenvalues of a Hermitian matrix\n",
      "    - qr              QR decomposition of a matrix\n",
      "    - svd             Singular value decomposition of a matrix\n",
      "    - cholesky        Cholesky decomposition of a matrix\n",
      "    \n",
      "    Tensor operations:\n",
      "    \n",
      "    - tensorsolve     Solve a linear tensor equation\n",
      "    - tensorinv       Calculate an inverse of a tensor\n",
      "    \n",
      "    Exceptions:\n",
      "    \n",
      "    - LinAlgError     Indicates a failed linear algebra operation\n",
      "\n",
      "PACKAGE CONTENTS\n",
      "    _umath_linalg\n",
      "    info\n",
      "    lapack_lite\n",
      "    linalg\n",
      "    setup\n",
      "\n",
      "DATA\n",
      "    absolute_import = _Feature((2, 5, 0, 'alpha', 1), (3, 0, 0, 'alpha', 0...\n",
      "    division = _Feature((2, 2, 0, 'alpha', 2), (3, 0, 0, 'alpha', 0), 8192...\n",
      "    print_function = _Feature((2, 6, 0, 'alpha', 2), (3, 0, 0, 'alpha', 0)...\n",
      "\n",
      "FILE\n",
      "    /home/dani/anaconda3/envs/bbva-data-fundamentals/lib/python3.6/site-packages/numpy/linalg/__init__.py\n",
      "\n",
      "\n"
     ]
    }
   ],
   "source": [
    "from numpy import linalg as la\n",
    "\n",
    "help(la)"
   ]
  },
  {
   "cell_type": "markdown",
   "metadata": {
    "slideshow": {
     "slide_type": "slide"
    }
   },
   "source": [
    "### Trace, determinant and inverse"
   ]
  },
  {
   "cell_type": "code",
   "execution_count": 44,
   "metadata": {
    "slideshow": {
     "slide_type": "fragment"
    }
   },
   "outputs": [
    {
     "data": {
      "text/plain": [
       "3.0"
      ]
     },
     "execution_count": 44,
     "metadata": {},
     "output_type": "execute_result"
    }
   ],
   "source": [
    "np.trace(np.eye(3))"
   ]
  },
  {
   "cell_type": "code",
   "execution_count": 45,
   "metadata": {
    "slideshow": {
     "slide_type": "fragment"
    }
   },
   "outputs": [
    {
     "name": "stdout",
     "output_type": "stream",
     "text": [
      "[[ 1  2  3]\n",
      " [ 3  3  3]\n",
      " [ 7  8  9]\n",
      " [10 11 12]]\n",
      "13\n",
      "5\n",
      "23\n"
     ]
    }
   ],
   "source": [
    "print(a2)\n",
    "print(np.trace(a2))\n",
    "print(np.trace(a2,offset=1))\n",
    "print(np.trace(a2,offset=-1))"
   ]
  },
  {
   "cell_type": "code",
   "execution_count": 46,
   "metadata": {
    "slideshow": {
     "slide_type": "slide"
    }
   },
   "outputs": [
    {
     "name": "stdout",
     "output_type": "stream",
     "text": [
      "[[1 2]\n",
      " [3 4]]\n",
      "(2, 2)\n"
     ]
    },
    {
     "data": {
      "text/plain": [
       "-2.0000000000000004"
      ]
     },
     "execution_count": 46,
     "metadata": {},
     "output_type": "execute_result"
    }
   ],
   "source": [
    "a = np.array([[1, 2], [3, 4]])\n",
    "print(a)\n",
    "print(a.shape)\n",
    "la.det(a)"
   ]
  },
  {
   "cell_type": "code",
   "execution_count": 47,
   "metadata": {
    "slideshow": {
     "slide_type": "slide"
    }
   },
   "outputs": [
    {
     "data": {
      "text/plain": [
       "array([[[1, 2],\n",
       "        [3, 4]],\n",
       "\n",
       "       [[1, 2],\n",
       "        [2, 1]],\n",
       "\n",
       "       [[1, 3],\n",
       "        [3, 1]]])"
      ]
     },
     "execution_count": 47,
     "metadata": {},
     "output_type": "execute_result"
    }
   ],
   "source": [
    "a = np.array([ [[1, 2], [3, 4]], [[1, 2], [2, 1]], [[1, 3], [3, 1]] ])\n",
    "a"
   ]
  },
  {
   "cell_type": "code",
   "execution_count": 48,
   "metadata": {
    "slideshow": {
     "slide_type": "fragment"
    }
   },
   "outputs": [
    {
     "name": "stdout",
     "output_type": "stream",
     "text": [
      "(3, 2, 2)\n",
      "[-2. -3. -8.]\n"
     ]
    }
   ],
   "source": [
    "print(a.shape)\n",
    "print(la.det(a))"
   ]
  },
  {
   "cell_type": "code",
   "execution_count": 49,
   "metadata": {
    "slideshow": {
     "slide_type": "slide"
    }
   },
   "outputs": [
    {
     "data": {
      "text/plain": [
       "array([[-2. ,  1. ],\n",
       "       [ 1.5, -0.5]])"
      ]
     },
     "execution_count": 49,
     "metadata": {},
     "output_type": "execute_result"
    }
   ],
   "source": [
    "la.inv(np.array([[1,2],[3,4]]))"
   ]
  },
  {
   "cell_type": "code",
   "execution_count": 50,
   "metadata": {
    "slideshow": {
     "slide_type": "fragment"
    }
   },
   "outputs": [
    {
     "data": {
      "text/plain": [
       "array([[  1.00000000e+00,   4.44089210e-16],\n",
       "       [  0.00000000e+00,   1.00000000e+00]])"
      ]
     },
     "execution_count": 50,
     "metadata": {},
     "output_type": "execute_result"
    }
   ],
   "source": [
    "la.inv(np.array([[1,2],[3,4]])).dot(np.array([[1,2],[3,4]]))"
   ]
  },
  {
   "cell_type": "markdown",
   "metadata": {
    "slideshow": {
     "slide_type": "slide"
    }
   },
   "source": [
    "#### Exercise\n",
    "\n",
    "In a chicken and rabbit farm, there are 35 heads and 94 legs. How many chickens and how many rabbits do we have?\n",
    "\n"
   ]
  },
  {
   "cell_type": "markdown",
   "metadata": {
    "slideshow": {
     "slide_type": "fragment"
    }
   },
   "source": [
    "Remember:\n",
    "\n",
    "$$A \\cdot X = B$$\n",
    "\n",
    "$$A^{-1} \\cdot A \\cdot X = I \\cdot X = A^{-1} \\cdot B$$\n",
    "\n",
    "$$X = A^{-1} \\cdot B$$"
   ]
  },
  {
   "cell_type": "code",
   "execution_count": 51,
   "metadata": {
    "slideshow": {
     "slide_type": "slide"
    }
   },
   "outputs": [
    {
     "data": {
      "text/plain": [
       "array([[1, 1],\n",
       "       [4, 2]])"
      ]
     },
     "execution_count": 51,
     "metadata": {},
     "output_type": "execute_result"
    }
   ],
   "source": [
    "A = np.array([1,1,4,2]).reshape(2,2)\n",
    "A"
   ]
  },
  {
   "cell_type": "code",
   "execution_count": 52,
   "metadata": {
    "slideshow": {
     "slide_type": "fragment"
    }
   },
   "outputs": [
    {
     "data": {
      "text/plain": [
       "array([35, 94])"
      ]
     },
     "execution_count": 52,
     "metadata": {},
     "output_type": "execute_result"
    }
   ],
   "source": [
    "B = np.array([35,94])\n",
    "B"
   ]
  },
  {
   "cell_type": "code",
   "execution_count": 53,
   "metadata": {
    "slideshow": {
     "slide_type": "fragment"
    }
   },
   "outputs": [
    {
     "data": {
      "text/plain": [
       "array([ 12.,  23.])"
      ]
     },
     "execution_count": 53,
     "metadata": {},
     "output_type": "execute_result"
    }
   ],
   "source": [
    "X = np.linalg.inv(A).dot(B)\n",
    "X"
   ]
  },
  {
   "cell_type": "markdown",
   "metadata": {
    "slideshow": {
     "slide_type": "slide"
    }
   },
   "source": [
    "### Norm of a vector and a matrix"
   ]
  },
  {
   "cell_type": "code",
   "execution_count": 54,
   "metadata": {
    "slideshow": {
     "slide_type": "fragment"
    }
   },
   "outputs": [
    {
     "name": "stdout",
     "output_type": "stream",
     "text": [
      "Help on function norm in module numpy.linalg.linalg:\n",
      "\n",
      "norm(x, ord=None, axis=None, keepdims=False)\n",
      "    Matrix or vector norm.\n",
      "    \n",
      "    This function is able to return one of eight different matrix norms,\n",
      "    or one of an infinite number of vector norms (described below), depending\n",
      "    on the value of the ``ord`` parameter.\n",
      "    \n",
      "    Parameters\n",
      "    ----------\n",
      "    x : array_like\n",
      "        Input array.  If `axis` is None, `x` must be 1-D or 2-D.\n",
      "    ord : {non-zero int, inf, -inf, 'fro', 'nuc'}, optional\n",
      "        Order of the norm (see table under ``Notes``). inf means numpy's\n",
      "        `inf` object.\n",
      "    axis : {int, 2-tuple of ints, None}, optional\n",
      "        If `axis` is an integer, it specifies the axis of `x` along which to\n",
      "        compute the vector norms.  If `axis` is a 2-tuple, it specifies the\n",
      "        axes that hold 2-D matrices, and the matrix norms of these matrices\n",
      "        are computed.  If `axis` is None then either a vector norm (when `x`\n",
      "        is 1-D) or a matrix norm (when `x` is 2-D) is returned.\n",
      "    keepdims : bool, optional\n",
      "        If this is set to True, the axes which are normed over are left in the\n",
      "        result as dimensions with size one.  With this option the result will\n",
      "        broadcast correctly against the original `x`.\n",
      "    \n",
      "        .. versionadded:: 1.10.0\n",
      "    \n",
      "    Returns\n",
      "    -------\n",
      "    n : float or ndarray\n",
      "        Norm of the matrix or vector(s).\n",
      "    \n",
      "    Notes\n",
      "    -----\n",
      "    For values of ``ord <= 0``, the result is, strictly speaking, not a\n",
      "    mathematical 'norm', but it may still be useful for various numerical\n",
      "    purposes.\n",
      "    \n",
      "    The following norms can be calculated:\n",
      "    \n",
      "    =====  ============================  ==========================\n",
      "    ord    norm for matrices             norm for vectors\n",
      "    =====  ============================  ==========================\n",
      "    None   Frobenius norm                2-norm\n",
      "    'fro'  Frobenius norm                --\n",
      "    'nuc'  nuclear norm                  --\n",
      "    inf    max(sum(abs(x), axis=1))      max(abs(x))\n",
      "    -inf   min(sum(abs(x), axis=1))      min(abs(x))\n",
      "    0      --                            sum(x != 0)\n",
      "    1      max(sum(abs(x), axis=0))      as below\n",
      "    -1     min(sum(abs(x), axis=0))      as below\n",
      "    2      2-norm (largest sing. value)  as below\n",
      "    -2     smallest singular value       as below\n",
      "    other  --                            sum(abs(x)**ord)**(1./ord)\n",
      "    =====  ============================  ==========================\n",
      "    \n",
      "    The Frobenius norm is given by [1]_:\n",
      "    \n",
      "        :math:`||A||_F = [\\sum_{i,j} abs(a_{i,j})^2]^{1/2}`\n",
      "    \n",
      "    The nuclear norm is the sum of the singular values.\n",
      "    \n",
      "    References\n",
      "    ----------\n",
      "    .. [1] G. H. Golub and C. F. Van Loan, *Matrix Computations*,\n",
      "           Baltimore, MD, Johns Hopkins University Press, 1985, pg. 15\n",
      "    \n",
      "    Examples\n",
      "    --------\n",
      "    >>> from numpy import linalg as LA\n",
      "    >>> a = np.arange(9) - 4\n",
      "    >>> a\n",
      "    array([-4, -3, -2, -1,  0,  1,  2,  3,  4])\n",
      "    >>> b = a.reshape((3, 3))\n",
      "    >>> b\n",
      "    array([[-4, -3, -2],\n",
      "           [-1,  0,  1],\n",
      "           [ 2,  3,  4]])\n",
      "    \n",
      "    >>> LA.norm(a)\n",
      "    7.745966692414834\n",
      "    >>> LA.norm(b)\n",
      "    7.745966692414834\n",
      "    >>> LA.norm(b, 'fro')\n",
      "    7.745966692414834\n",
      "    >>> LA.norm(a, np.inf)\n",
      "    4.0\n",
      "    >>> LA.norm(b, np.inf)\n",
      "    9.0\n",
      "    >>> LA.norm(a, -np.inf)\n",
      "    0.0\n",
      "    >>> LA.norm(b, -np.inf)\n",
      "    2.0\n",
      "    \n",
      "    >>> LA.norm(a, 1)\n",
      "    20.0\n",
      "    >>> LA.norm(b, 1)\n",
      "    7.0\n",
      "    >>> LA.norm(a, -1)\n",
      "    -4.6566128774142013e-010\n",
      "    >>> LA.norm(b, -1)\n",
      "    6.0\n",
      "    >>> LA.norm(a, 2)\n",
      "    7.745966692414834\n",
      "    >>> LA.norm(b, 2)\n",
      "    7.3484692283495345\n",
      "    \n",
      "    >>> LA.norm(a, -2)\n",
      "    nan\n",
      "    >>> LA.norm(b, -2)\n",
      "    1.8570331885190563e-016\n",
      "    >>> LA.norm(a, 3)\n",
      "    5.8480354764257312\n",
      "    >>> LA.norm(a, -3)\n",
      "    nan\n",
      "    \n",
      "    Using the `axis` argument to compute vector norms:\n",
      "    \n",
      "    >>> c = np.array([[ 1, 2, 3],\n",
      "    ...               [-1, 1, 4]])\n",
      "    >>> LA.norm(c, axis=0)\n",
      "    array([ 1.41421356,  2.23606798,  5.        ])\n",
      "    >>> LA.norm(c, axis=1)\n",
      "    array([ 3.74165739,  4.24264069])\n",
      "    >>> LA.norm(c, ord=1, axis=1)\n",
      "    array([ 6.,  6.])\n",
      "    \n",
      "    Using the `axis` argument to compute matrix norms:\n",
      "    \n",
      "    >>> m = np.arange(8).reshape(2,2,2)\n",
      "    >>> LA.norm(m, axis=(1,2))\n",
      "    array([  3.74165739,  11.22497216])\n",
      "    >>> LA.norm(m[0, :, :]), LA.norm(m[1, :, :])\n",
      "    (3.7416573867739413, 11.224972160321824)\n",
      "\n"
     ]
    }
   ],
   "source": [
    "a = np.array([[1, 2], [3, 4]])\n",
    "help(la.norm)"
   ]
  },
  {
   "cell_type": "code",
   "execution_count": 55,
   "metadata": {
    "slideshow": {
     "slide_type": "slide"
    }
   },
   "outputs": [
    {
     "name": "stdout",
     "output_type": "stream",
     "text": [
      "[[1 2]\n",
      " [3 4]]\n",
      "5.47722557505\n",
      "5.46498570422\n",
      "5.47722557505\n",
      "5.47722557505\n",
      "6.0\n",
      "7.0\n"
     ]
    }
   ],
   "source": [
    "print(a)\n",
    "print(la.norm(a))\n",
    "print(la.norm(a,2))\n",
    "print(la.norm(a,'fro'))\n",
    "print(la.norm(a.reshape(4),2))\n",
    "print(la.norm(a,1))\n",
    "print(la.norm(a,np.inf))"
   ]
  },
  {
   "cell_type": "code",
   "execution_count": 56,
   "metadata": {
    "slideshow": {
     "slide_type": "fragment"
    }
   },
   "outputs": [
    {
     "name": "stdout",
     "output_type": "stream",
     "text": [
      "[1 2 3]\n",
      "3.74165738677\n",
      "3.74165738677\n",
      "6.0\n",
      "3.0\n"
     ]
    }
   ],
   "source": [
    "b = np.arange(1,4)\n",
    "print(b)\n",
    "print(la.norm(b))\n",
    "print(la.norm(b,2))\n",
    "print(la.norm(b,1))\n",
    "print(la.norm(b,np.inf))"
   ]
  },
  {
   "cell_type": "markdown",
   "metadata": {
    "slideshow": {
     "slide_type": "slide"
    }
   },
   "source": [
    "### Matrix factorization: eigen-decomposition y SVD"
   ]
  },
  {
   "cell_type": "markdown",
   "metadata": {
    "slideshow": {
     "slide_type": "fragment"
    }
   },
   "source": [
    "#### Eigenvectors and eigenvalues\n",
    "\n",
    "\n",
    "$$A \\cdot \\vec{v} = \\lambda \\cdot \\vec{v} $$\n",
    "\n",
    "$$ \\det(\\lambda \\cdot I - A) = 0 $$\n",
    "\n"
   ]
  },
  {
   "cell_type": "code",
   "execution_count": 57,
   "metadata": {
    "slideshow": {
     "slide_type": "slide"
    }
   },
   "outputs": [
    {
     "data": {
      "text/plain": [
       "array([-0.37228132,  5.37228132])"
      ]
     },
     "execution_count": 57,
     "metadata": {},
     "output_type": "execute_result"
    }
   ],
   "source": [
    "eigval = la.eigvals(a)\n",
    "eigval"
   ]
  },
  {
   "cell_type": "code",
   "execution_count": 58,
   "metadata": {
    "slideshow": {
     "slide_type": "fragment"
    }
   },
   "outputs": [
    {
     "data": {
      "text/plain": [
       "array([[-0.82456484, -0.41597356],\n",
       "       [ 0.56576746, -0.90937671]])"
      ]
     },
     "execution_count": 58,
     "metadata": {},
     "output_type": "execute_result"
    }
   ],
   "source": [
    "eigvec = la.eig(a)[1]\n",
    "eigvec"
   ]
  },
  {
   "cell_type": "code",
   "execution_count": 59,
   "metadata": {
    "slideshow": {
     "slide_type": "fragment"
    }
   },
   "outputs": [
    {
     "data": {
      "text/plain": [
       "array([[ 1.,  2.],\n",
       "       [ 3.,  4.]])"
      ]
     },
     "execution_count": 59,
     "metadata": {},
     "output_type": "execute_result"
    }
   ],
   "source": [
    "eigvec.dot(np.diag(eigval)).dot(la.inv(eigvec))"
   ]
  },
  {
   "cell_type": "code",
   "execution_count": 60,
   "metadata": {
    "slideshow": {
     "slide_type": "slide"
    }
   },
   "outputs": [
    {
     "name": "stdout",
     "output_type": "stream",
     "text": [
      "[[-0.40455358 -0.9145143 ]\n",
      " [-0.9145143   0.40455358]]\n",
      "[ 5.4649857   0.36596619]\n",
      "[[-0.57604844 -0.81741556]\n",
      " [ 0.81741556 -0.57604844]]\n"
     ]
    }
   ],
   "source": [
    "u, d, v = la.svd(a)\n",
    "print(u)\n",
    "print(d)\n",
    "print(v)"
   ]
  },
  {
   "cell_type": "code",
   "execution_count": 61,
   "metadata": {
    "slideshow": {
     "slide_type": "fragment"
    }
   },
   "outputs": [
    {
     "data": {
      "text/plain": [
       "array([[ 1.,  2.],\n",
       "       [ 3.,  4.]])"
      ]
     },
     "execution_count": 61,
     "metadata": {},
     "output_type": "execute_result"
    }
   ],
   "source": [
    "u.dot(np.diag(d)).dot(v)"
   ]
  },
  {
   "cell_type": "code",
   "execution_count": 62,
   "metadata": {
    "slideshow": {
     "slide_type": "fragment"
    }
   },
   "outputs": [
    {
     "data": {
      "text/plain": [
       "array([[1, 2, 3],\n",
       "       [1, 2, 3]])"
      ]
     },
     "execution_count": 62,
     "metadata": {},
     "output_type": "execute_result"
    }
   ],
   "source": [
    "b = np.array([b,b])\n",
    "b"
   ]
  },
  {
   "cell_type": "code",
   "execution_count": 63,
   "metadata": {
    "slideshow": {
     "slide_type": "slide"
    }
   },
   "outputs": [
    {
     "name": "stdout",
     "output_type": "stream",
     "text": [
      "[[-0.70710678 -0.70710678]\n",
      " [-0.70710678  0.70710678]]\n",
      "[  5.29150262e+00   5.78711299e-16]\n",
      "[[-0.26726124 -0.53452248 -0.80178373]\n",
      " [ 0.94816592  0.00256504 -0.31776533]\n",
      " [ 0.17190932 -0.84515036  0.50613047]]\n"
     ]
    }
   ],
   "source": [
    "u,d,v=la.svd(b)\n",
    "print(u)\n",
    "print(d)\n",
    "print(v)"
   ]
  },
  {
   "cell_type": "code",
   "execution_count": 64,
   "metadata": {
    "slideshow": {
     "slide_type": "fragment"
    }
   },
   "outputs": [
    {
     "name": "stdout",
     "output_type": "stream",
     "text": [
      "[[-0.70710678 -0.70710678]\n",
      " [-0.70710678  0.70710678]]\n",
      "[  5.29150262e+00   5.78711299e-16]\n",
      "[[-0.26726124 -0.53452248 -0.80178373]\n",
      " [ 0.94816592  0.00256504 -0.31776533]]\n"
     ]
    }
   ],
   "source": [
    "u,d,v=la.svd(b,full_matrices=0)\n",
    "print(u)\n",
    "print(d)\n",
    "print(v)"
   ]
  },
  {
   "cell_type": "code",
   "execution_count": 65,
   "metadata": {
    "slideshow": {
     "slide_type": "fragment"
    }
   },
   "outputs": [
    {
     "name": "stdout",
     "output_type": "stream",
     "text": [
      "(1000, 1000) 4 (4, 4)\n",
      "(1000, 4) 4 (4, 4)\n"
     ]
    }
   ],
   "source": [
    "u,d,v = la.svd(np.random.rand(1000,4))\n",
    "u2,d2,v2 = la.svd(np.random.rand(1000,4),full_matrices=0)\n",
    "print(u.shape,d.size,v.shape)\n",
    "print(u2.shape,d2.size,v2.shape)"
   ]
  },
  {
   "cell_type": "markdown",
   "metadata": {
    "slideshow": {
     "slide_type": "slide"
    }
   },
   "source": [
    "### Comparison with python: execution times"
   ]
  },
  {
   "cell_type": "code",
   "execution_count": 66,
   "metadata": {
    "slideshow": {
     "slide_type": "fragment"
    }
   },
   "outputs": [
    {
     "name": "stdout",
     "output_type": "stream",
     "text": [
      "1.476545842217484\n"
     ]
    }
   ],
   "source": [
    "import time\n",
    "size_of_vec = 1000\n",
    "\n",
    "def pure_python_version():\n",
    "    t1 = time.time()\n",
    "    X = range(size_of_vec)\n",
    "    Y = range(size_of_vec)\n",
    "    Z = []\n",
    "    for i in range(len(X)):\n",
    "        Z.append(X[i] + Y[i])\n",
    "    return time.time() - t1\n",
    "\n",
    "def numpy_version():\n",
    "    t1 = time.time()\n",
    "    X = np.arange(size_of_vec)\n",
    "    Y = np.arange(size_of_vec)\n",
    "    Z = X + Y\n",
    "    return time.time() - t1\n",
    "\n",
    "t1 = pure_python_version()\n",
    "t2 = numpy_version()\n",
    "print(t1/t2)"
   ]
  }
 ],
 "metadata": {
  "kernelspec": {
   "display_name": "Python 3",
   "language": "python",
   "name": "python3"
  },
  "language_info": {
   "codemirror_mode": {
    "name": "ipython",
    "version": 3
   },
   "file_extension": ".py",
   "mimetype": "text/x-python",
   "name": "python",
   "nbconvert_exporter": "python",
   "pygments_lexer": "ipython3",
   "version": "3.7.2"
  }
 },
 "nbformat": 4,
 "nbformat_minor": 2
}
