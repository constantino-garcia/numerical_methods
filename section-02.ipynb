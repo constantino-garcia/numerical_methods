{
 "cells": [
  {
   "cell_type": "markdown",
   "metadata": {},
   "source": [
    "# Numerical Methods to find the roots of an equation"
   ]
  },
  {
   "cell_type": "markdown",
   "metadata": {},
   "source": [
    "Roots of an equation:\n",
    "\n",
    "$$f(x) = 0 $$"
   ]
  },
  {
   "cell_type": "markdown",
   "metadata": {},
   "source": [
    "#### Example\n",
    "\n",
    "\n",
    "$$e^{-x} -x$$"
   ]
  },
  {
   "cell_type": "markdown",
   "metadata": {},
   "source": [
    "## The Bisection Method\n",
    "\n",
    "Based on Bolzano's theorem.\n",
    "\n",
    "\n",
    "1. Choose $x_l$ and $x_u$ such that $f(x_l)f(x_u) < 0$\n",
    "2. Estimate the root $x* = \\frac{x_l+x_u}{2}$\n",
    "3. Determine where the root lies:\n",
    "    1. If $f(x^∗) = 0$, then the root is $x^*$. Exit the computation.\n",
    "    2. If $f(x_l)f(x_*) < 0$, then the root lies in the first subinterval. \n",
    "    3. If $f(x_*)f(x_u) < 0$, then the root lies in the second subinterval. \n",
    "    \n",
    "Repeat until we find the root, until we reach a maximum number of iterations, or until we satisfy a convergence criterion, such as $ε_a < ε_s$."
   ]
  },
  {
   "cell_type": "markdown",
   "metadata": {},
   "source": [
    "### Example\n",
    "\n",
    "The falling parachutist\n",
    "\n",
    "\n",
    "$$f(c) = \\frac{g\\cdot m}{c} \\{1 - e^{-t(c/m)}\\}-v$$"
   ]
  },
  {
   "cell_type": "code",
   "execution_count": 11,
   "metadata": {},
   "outputs": [
    {
     "data": {
      "text/plain": [
       "(6.113943075921462, -2.230260706051183)"
      ]
     },
     "execution_count": 11,
     "metadata": {},
     "output_type": "execute_result"
    }
   ],
   "source": [
    "import numpy as np\n",
    "\n",
    "def function(c):\n",
    "    m = 68.1\n",
    "    v = 40\n",
    "    t = 10\n",
    "    g = 9.81\n",
    "    \n",
    "    return g * m / c * (1 - np.e ** (-t * c/m)) - v\n",
    " \n",
    "\n",
    "function(12), function(16)"
   ]
  },
  {
   "cell_type": "code",
   "execution_count": 26,
   "metadata": {},
   "outputs": [
    {
     "name": "stdout",
     "output_type": "stream",
     "text": [
      "1.6111163549207461\n",
      "-0.38445806069939437\n",
      "0.5936984488141874\n",
      "0.09982999167534246\n",
      "-0.143497243851904\n",
      "-0.02213120606264596\n",
      "0.03877477430228282\n"
     ]
    }
   ],
   "source": [
    "print(function(14))\n",
    "print(function(15))\n",
    "print(function(14.5))\n",
    "print(function(14.75))\n",
    "print(function(14.875))\n",
    "print(function(14.8125))\n",
    "print(function(14.78125))"
   ]
  },
  {
   "cell_type": "markdown",
   "metadata": {},
   "source": [
    "#### Exercise\n",
    "\n",
    "Write a function that performs the bisection method on any given function f."
   ]
  },
  {
   "cell_type": "code",
   "execution_count": 120,
   "metadata": {},
   "outputs": [],
   "source": [
    "def bisect(f, left=12, right=16, e_s=1e-5, max_iter=100, history=(), debug=False):\n",
    "    'Find a root of f within the interval [left, right]'\n",
    "    \n",
    "    if f(left) * f(right) > 0:\n",
    "        raise ValueError(\"No change of sign in the interval\")\n",
    "        \n",
    "    n = 0\n",
    "    e_a = abs(left) + abs(right)\n",
    "           \n",
    "    while n < max_iter and e_a > e_s:\n",
    "        n += 1\n",
    "        x_star = (left + right) / 2\n",
    "        \n",
    "        history += (x_star, )\n",
    "        \n",
    "        if f(x_star) * f(left) < 0:\n",
    "            right = x_star \n",
    "        elif f(x_star) * f(right) < 0:\n",
    "            left = x_star\n",
    "        else: \n",
    "            break\n",
    "        \n",
    "        e_a = abs((left + right)/2 - x_star)\n",
    "        \n",
    "        if debug:\n",
    "            print(n, e_a, x_star) \n",
    "\n",
    "    return x_star, history"
   ]
  },
  {
   "cell_type": "code",
   "execution_count": 133,
   "metadata": {},
   "outputs": [
    {
     "data": {
      "text/plain": [
       "(14.801132202148438,\n",
       " (14.0,\n",
       "  15.0,\n",
       "  14.5,\n",
       "  14.75,\n",
       "  14.875,\n",
       "  14.8125,\n",
       "  14.78125,\n",
       "  14.796875,\n",
       "  14.8046875,\n",
       "  14.80078125,\n",
       "  14.802734375,\n",
       "  14.8017578125,\n",
       "  14.80126953125,\n",
       "  14.801025390625,\n",
       "  14.8011474609375,\n",
       "  14.80108642578125,\n",
       "  14.801116943359375,\n",
       "  14.801132202148438))"
      ]
     },
     "execution_count": 133,
     "metadata": {},
     "output_type": "execute_result"
    }
   ],
   "source": [
    "bisect(function)"
   ]
  },
  {
   "cell_type": "markdown",
   "metadata": {},
   "source": [
    "## The Newton-Raphson method\n",
    "\n",
    "Based on \n",
    "\n",
    "$$f'(x_i) = \\frac{f(x_i) - 0}{x_i - x_{i+1}}$$\n",
    "\n",
    "Therefore:\n",
    "\n",
    "$$x_{i+1} = x_i - \\frac{f(x_i)}{f'(x_i)}$$\n",
    "\n",
    "Graphically:\n",
    "\n",
    "![Newton-Raphson method](https://upload.wikimedia.org/wikipedia/commons/e/e0/NewtonIteration_Ani.gif)"
   ]
  },
  {
   "cell_type": "markdown",
   "metadata": {},
   "source": [
    "#### Example\n",
    "\n",
    "Use the Newton-Raphson method to estimate the root of $f(x) = e^{-x} - x$."
   ]
  },
  {
   "cell_type": "code",
   "execution_count": 105,
   "metadata": {},
   "outputs": [],
   "source": [
    "def f(x):\n",
    "    return np.e ** -x - x\n",
    "    \n",
    "def f_prime(x):\n",
    "    return - np.e ** -x - 1\n",
    "\n",
    "x_0 = 0"
   ]
  },
  {
   "cell_type": "code",
   "execution_count": 106,
   "metadata": {},
   "outputs": [
    {
     "data": {
      "text/plain": [
       "0.5"
      ]
     },
     "execution_count": 106,
     "metadata": {},
     "output_type": "execute_result"
    }
   ],
   "source": [
    "x_1 = x_0 - (f(x_0) / f_prime(x_0))\n",
    "x_0 = x_1\n",
    "x_1"
   ]
  },
  {
   "cell_type": "markdown",
   "metadata": {},
   "source": [
    "### Convergence rate\n",
    "\n",
    "Compare it with the bisection method"
   ]
  },
  {
   "cell_type": "code",
   "execution_count": 134,
   "metadata": {},
   "outputs": [
    {
     "data": {
      "text/plain": [
       "(0.5671539306640625,\n",
       " (0.5,\n",
       "  0.75,\n",
       "  0.625,\n",
       "  0.5625,\n",
       "  0.59375,\n",
       "  0.578125,\n",
       "  0.5703125,\n",
       "  0.56640625,\n",
       "  0.568359375,\n",
       "  0.5673828125,\n",
       "  0.56689453125,\n",
       "  0.567138671875,\n",
       "  0.5672607421875,\n",
       "  0.56719970703125,\n",
       "  0.567169189453125,\n",
       "  0.5671539306640625))"
      ]
     },
     "execution_count": 134,
     "metadata": {},
     "output_type": "execute_result"
    }
   ],
   "source": [
    "bisect(f, 0, 1)"
   ]
  },
  {
   "cell_type": "markdown",
   "metadata": {},
   "source": [
    "#### Exercise \n",
    "\n",
    "Write a function that performs the Newton-Raphson method on any given function, f.\n",
    "\n"
   ]
  },
  {
   "cell_type": "code",
   "execution_count": 139,
   "metadata": {},
   "outputs": [
    {
     "data": {
      "text/plain": [
       "(0.5671432904097811,\n",
       " (0.5, 0.5663110031972182, 0.5671431650348623, 0.5671432904097811))"
      ]
     },
     "execution_count": 139,
     "metadata": {},
     "output_type": "execute_result"
    }
   ],
   "source": [
    "def newton_raphson(f, f_prime, x_0=0, e_s=1e-5, max_iter=100, history=(), debug=False):\n",
    "    n=0\n",
    "    e_a = 1e9 \n",
    "    \n",
    "    while n < max_iter and e_a > e_s:\n",
    "        n += 1\n",
    "        x_1 = x_0 - (f(x_0) / f_prime(x_0))\n",
    "        e_a = abs(x_1 - x_0)\n",
    "        history += (x_1,)\n",
    "        x_0 = x_1\n",
    "    \n",
    "    return x_1, history\n",
    "\n",
    "newton_raphson(f, f_prime)"
   ]
  },
  {
   "cell_type": "markdown",
   "metadata": {},
   "source": [
    "### Pitfalls\n",
    "\n",
    "* Multiple roots\n",
    "* $f-(x_i)$ very close to 0\n",
    "* $f$ has an inflection point very close to the root.\n",
    "* Shape of $f$ might make it very sensitive to initial values."
   ]
  },
  {
   "cell_type": "markdown",
   "metadata": {},
   "source": [
    "## Roots of polynomials\n",
    "\n",
    "$$f(x) = a_0 + a_1 x + a_2 x^2 + \\ldots + a_n x^n$$ .\n",
    "\n",
    "1. An $n$th order equation will have $n$ roots, not necessarily different.\n",
    "2. If n is odd, there is at least one real root.\n",
    "3. If there are any complex roots, they come in conjugate pairs: $\\lambda + \\mu i$, $\\lambda - \\mu i$\n",
    "\n",
    "TODO: introduce a concrete method, like Müller's?"
   ]
  },
  {
   "cell_type": "markdown",
   "metadata": {},
   "source": [
    "### Deflation \n",
    "\n",
    "Forward deflation\n",
    "\n",
    "Backward deflation\n",
    "\n",
    "TODO: examples, exercises"
   ]
  },
  {
   "cell_type": "code",
   "execution_count": null,
   "metadata": {},
   "outputs": [],
   "source": []
  },
  {
   "cell_type": "markdown",
   "metadata": {},
   "source": [
    "### Root polishing\n",
    "\n",
    "TODO: examples, exercises"
   ]
  },
  {
   "cell_type": "code",
   "execution_count": 141,
   "metadata": {},
   "outputs": [
    {
     "data": {
      "text/plain": [
       "array([-1.70710678, -0.29289322])"
      ]
     },
     "execution_count": 141,
     "metadata": {},
     "output_type": "execute_result"
    }
   ],
   "source": [
    "import numpy.polynomial.polynomial as poly\n",
    "\n",
    "poly.polyroots([1, 4, 2])"
   ]
  },
  {
   "cell_type": "code",
   "execution_count": 142,
   "metadata": {},
   "outputs": [
    {
     "data": {
      "text/plain": [
       "array([ 6., -5.,  1.])"
      ]
     },
     "execution_count": 142,
     "metadata": {},
     "output_type": "execute_result"
    }
   ],
   "source": [
    "poly.polyfromroots([2,3])"
   ]
  }
 ],
 "metadata": {
  "kernelspec": {
   "display_name": "Python 3",
   "language": "python",
   "name": "python3"
  },
  "language_info": {
   "codemirror_mode": {
    "name": "ipython",
    "version": 3
   },
   "file_extension": ".py",
   "mimetype": "text/x-python",
   "name": "python",
   "nbconvert_exporter": "python",
   "pygments_lexer": "ipython3",
   "version": "3.7.2"
  }
 },
 "nbformat": 4,
 "nbformat_minor": 2
}
