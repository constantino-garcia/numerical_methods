{
 "cells": [
  {
   "cell_type": "markdown",
   "metadata": {},
   "source": [
    "# Finding the roots of an equation\n",
    "\n",
    "## Motivation\n",
    "\n",
    "We will find equations everywhere, and most of the time solving them will imply finding their roots:\n",
    "\n",
    "$$f(x) = 0 $$\n",
    "\n",
    "We will need approximate, numerical, methods when their roots are not analytically accessible. Consider, for example:\n",
    "\n",
    "$$f(x) = e^{-x} -x$$"
   ]
  },
  {
   "cell_type": "markdown",
   "metadata": {},
   "source": [
    "# The Bisection Method\n",
    "\n",
    "Based on Bolzano's theorem. It is an example of a **bracketing** method.\n",
    "\n",
    "\n",
    "1. Choose $x_l$ and $x_u$ such that $f(x_l)f(x_u) < 0$\n",
    "2. Estimate the root $x* = \\frac{x_l+x_u}{2}$\n",
    "3. Determine where the root lies:\n",
    "    1. If $f(x^∗) = 0$, then the root is $x^*$. Exit the computation.\n",
    "    2. If $f(x_l)f(x_*) < 0$, then the root lies in the first subinterval. \n",
    "    3. If $f(x_*)f(x_u) < 0$, then the root lies in the second subinterval. \n",
    "    \n",
    "Repeat until we find the root, until we reach a maximum number of iterations, or until we satisfy a convergence criterion, such as $ε_a < ε_s$."
   ]
  },
  {
   "cell_type": "markdown",
   "metadata": {},
   "source": [
    "#### Example\n",
    "\n",
    "The falling parachutist\n",
    "\n",
    "\n",
    "$$f(c) = \\frac{g\\cdot m}{c} \\{1 - e^{-t(c/m)}\\}-v$$"
   ]
  },
  {
   "cell_type": "code",
   "execution_count": 1,
   "metadata": {},
   "outputs": [
    {
     "data": {
      "text/plain": [
       "(6.113943075921462, -2.230260706051183)"
      ]
     },
     "execution_count": 1,
     "metadata": {},
     "output_type": "execute_result"
    }
   ],
   "source": [
    "import numpy as np\n",
    "import matplotlib.pyplot as plt\n",
    "%matplotlib inline\n",
    "\n",
    "def function(c):\n",
    "    m = 68.1\n",
    "    v = 40\n",
    "    t = 10\n",
    "    g = 9.81\n",
    "    \n",
    "    return g * m / c * (1 - np.e ** (-t * c/m)) - v\n",
    " \n",
    "\n",
    "function(12), function(16)"
   ]
  },
  {
   "cell_type": "code",
   "execution_count": 2,
   "metadata": {},
   "outputs": [
    {
     "name": "stdout",
     "output_type": "stream",
     "text": [
      "1.6111163549207461\n",
      "-0.38445806069939437\n",
      "0.5936984488141874\n",
      "0.09982999167534246\n",
      "-0.143497243851904\n",
      "-0.02213120606264596\n",
      "0.03877477430228282\n"
     ]
    }
   ],
   "source": [
    "print(function(14))\n",
    "print(function(15))\n",
    "print(function(14.5))\n",
    "print(function(14.75))\n",
    "print(function(14.875))\n",
    "print(function(14.8125))\n",
    "print(function(14.78125))"
   ]
  },
  {
   "cell_type": "markdown",
   "metadata": {},
   "source": [
    "#### Exercise\n",
    "\n",
    "Write a function that performs the bisection method on any given function f."
   ]
  },
  {
   "cell_type": "code",
   "execution_count": 3,
   "metadata": {},
   "outputs": [],
   "source": [
    "def bisect(f, left=12, right=16, e_s=1e-5, max_iter=100, history=(), debug=False):\n",
    "    'Find a root of f within the interval [left, right]'\n",
    "    \n",
    "    if f(left) * f(right) > 0:\n",
    "        raise ValueError(\"No change of sign in the interval\")\n",
    "        \n",
    "    n = 0\n",
    "    e_a = abs(left) + abs(right)\n",
    "    while n < max_iter and e_a > e_s:\n",
    "        n += 1\n",
    "        x_star = (left + right) / 2\n",
    "        \n",
    "        history += (x_star, )\n",
    "        if f(x_star) * f(left) < 0:\n",
    "            right = x_star \n",
    "        elif f(x_star) * f(right) < 0:\n",
    "            left = x_star\n",
    "        else: \n",
    "            break\n",
    "        e_a = abs((left + right)/2 - x_star)\n",
    "        \n",
    "        if debug:\n",
    "            print(n, e_a, x_star) \n",
    "\n",
    "    return x_star, history"
   ]
  },
  {
   "cell_type": "code",
   "execution_count": 4,
   "metadata": {},
   "outputs": [
    {
     "data": {
      "text/plain": [
       "(14.801132202148438,\n",
       " (14.0,\n",
       "  15.0,\n",
       "  14.5,\n",
       "  14.75,\n",
       "  14.875,\n",
       "  14.8125,\n",
       "  14.78125,\n",
       "  14.796875,\n",
       "  14.8046875,\n",
       "  14.80078125,\n",
       "  14.802734375,\n",
       "  14.8017578125,\n",
       "  14.80126953125,\n",
       "  14.801025390625,\n",
       "  14.8011474609375,\n",
       "  14.80108642578125,\n",
       "  14.801116943359375,\n",
       "  14.801132202148438))"
      ]
     },
     "execution_count": 4,
     "metadata": {},
     "output_type": "execute_result"
    }
   ],
   "source": [
    "bisect(function)"
   ]
  },
  {
   "cell_type": "markdown",
   "metadata": {},
   "source": [
    "# The Newton-Raphson method\n",
    "\n",
    "Based on \n",
    "\n",
    "$$f'(x_i) = \\frac{f(x_i) - 0}{x_i - x_{i+1}}$$\n",
    "\n",
    "Therefore:\n",
    "\n",
    "$$x_{i+1} = x_i - \\frac{f(x_i)}{f'(x_i)}$$\n",
    "\n",
    "It is an example of an **open** method.\n",
    "\n",
    "Graphically:\n",
    "\n",
    "![Newton-Raphson method](https://upload.wikimedia.org/wikipedia/commons/e/e0/NewtonIteration_Ani.gif)"
   ]
  },
  {
   "cell_type": "markdown",
   "metadata": {},
   "source": [
    "#### Example\n",
    "\n",
    "Use the Newton-Raphson method to estimate the root of $f(x) = e^{-x} - x$."
   ]
  },
  {
   "cell_type": "code",
   "execution_count": 5,
   "metadata": {},
   "outputs": [],
   "source": [
    "def f(x):\n",
    "    return np.e ** -x - x\n",
    "    \n",
    "def f_prime(x):\n",
    "    return - np.e ** -x - 1\n",
    "\n",
    "x_0 = 0"
   ]
  },
  {
   "cell_type": "code",
   "execution_count": 6,
   "metadata": {},
   "outputs": [
    {
     "data": {
      "text/plain": [
       "0.5"
      ]
     },
     "execution_count": 6,
     "metadata": {},
     "output_type": "execute_result"
    }
   ],
   "source": [
    "x_1 = x_0 - (f(x_0) / f_prime(x_0))\n",
    "x_0 = x_1\n",
    "x_1"
   ]
  },
  {
   "cell_type": "code",
   "execution_count": 7,
   "metadata": {},
   "outputs": [
    {
     "data": {
      "text/plain": [
       "0.10653065971263342"
      ]
     },
     "execution_count": 7,
     "metadata": {},
     "output_type": "execute_result"
    }
   ],
   "source": [
    "np.exp(-x_1) - x_1"
   ]
  },
  {
   "cell_type": "markdown",
   "metadata": {},
   "source": [
    "## Convergence rate\n",
    "\n",
    "Compare it with the bisection method"
   ]
  },
  {
   "cell_type": "code",
   "execution_count": 8,
   "metadata": {},
   "outputs": [
    {
     "data": {
      "text/plain": [
       "(0.5671539306640625,\n",
       " (0.5,\n",
       "  0.75,\n",
       "  0.625,\n",
       "  0.5625,\n",
       "  0.59375,\n",
       "  0.578125,\n",
       "  0.5703125,\n",
       "  0.56640625,\n",
       "  0.568359375,\n",
       "  0.5673828125,\n",
       "  0.56689453125,\n",
       "  0.567138671875,\n",
       "  0.5672607421875,\n",
       "  0.56719970703125,\n",
       "  0.567169189453125,\n",
       "  0.5671539306640625))"
      ]
     },
     "execution_count": 8,
     "metadata": {},
     "output_type": "execute_result"
    }
   ],
   "source": [
    "bisect(f, 0, 1)"
   ]
  },
  {
   "cell_type": "markdown",
   "metadata": {},
   "source": [
    "#### Exercise \n",
    "\n",
    "Write a function that performs the Newton-Raphson method on any given function, f.\n",
    "\n"
   ]
  },
  {
   "cell_type": "code",
   "execution_count": 9,
   "metadata": {},
   "outputs": [
    {
     "data": {
      "text/plain": [
       "(0.5671432904097811,\n",
       " (0.5, 0.5663110031972182, 0.5671431650348623, 0.5671432904097811))"
      ]
     },
     "execution_count": 9,
     "metadata": {},
     "output_type": "execute_result"
    }
   ],
   "source": [
    "def newton_raphson(f, f_prime, x_0=0, e_s=1e-5, max_iter=100, history=(), debug=False):\n",
    "    '''Calculate a zero of f by closing in on it using the gradient'''\n",
    "    n=0\n",
    "    e_a = 1e9 \n",
    "    \n",
    "    while n < max_iter and e_a > e_s:\n",
    "        n += 1\n",
    "        x_1 = x_0 - (f(x_0) / f_prime(x_0))\n",
    "        e_a = abs(x_1 - x_0)\n",
    "        history += (x_1,)\n",
    "        x_0 = x_1\n",
    "    \n",
    "    return x_1, history\n",
    "\n",
    "newton_raphson(f, f_prime)"
   ]
  },
  {
   "cell_type": "markdown",
   "metadata": {},
   "source": [
    "## Pitfalls\n",
    "\n",
    "* Multiple roots\n",
    "* $f-(x_i)$ very close to 0\n",
    "* $f$ has an inflection point very close to the root.\n",
    "* Shape of $f$ might make it very sensitive to initial values."
   ]
  },
  {
   "cell_type": "markdown",
   "metadata": {},
   "source": [
    "#### Example\n",
    "\n",
    "Use the Newton-Raphson function we wrote earlier to find a root of $f(x) = sin(x)$"
   ]
  },
  {
   "cell_type": "code",
   "execution_count": 10,
   "metadata": {},
   "outputs": [
    {
     "data": {
      "text/plain": [
       "(4.793986133227309,\n",
       " 17.022104570959424,\n",
       " 13.211753675595238,\n",
       " 12.45880896507305,\n",
       " 12.566787354860113,\n",
       " 12.566370614335048,\n",
       " 12.566370614359172)"
      ]
     },
     "execution_count": 10,
     "metadata": {},
     "output_type": "execute_result"
    }
   ],
   "source": [
    "def f(x):\n",
    "    return np.sin(x)\n",
    "\n",
    "def f_prime(x):\n",
    "    return np.cos(x)\n",
    "\n",
    "estimate, history = newton_raphson(f, f_prime, 7.5)\n",
    "history"
   ]
  },
  {
   "cell_type": "code",
   "execution_count": 11,
   "metadata": {},
   "outputs": [
    {
     "data": {
      "text/plain": [
       "<matplotlib.collections.PathCollection at 0x7fed1691d4a8>"
      ]
     },
     "execution_count": 11,
     "metadata": {},
     "output_type": "execute_result"
    },
    {
     "data": {
      "image/png": "[encoded data removed]",
      "text/plain": [
       "<Figure size 432x288 with 1 Axes>"
      ]
     },
     "metadata": {
      "needs_background": "light"
     },
     "output_type": "display_data"
    }
   ],
   "source": [
    "xs = np.linspace(0, 15)\n",
    "sin = np.sin(xs)\n",
    "\n",
    "plt.plot(xs, sin)\n",
    "plt.plot(xs, np.zeros_like(xs))\n",
    "plt.scatter(history, np.sin(np.array(history)), c='black')"
   ]
  },
  {
   "cell_type": "markdown",
   "metadata": {},
   "source": [
    "# Roots of polynomials\n",
    "\n",
    "$$f(x) = a_0 + a_1 x + a_2 x^2 + \\ldots + a_n x^n$$ .\n",
    "\n",
    "1. An $n$th order equation will have $n$ roots, not necessarily different.\n",
    "2. If n is odd, there is at least one real root.\n",
    "3. If there are any complex roots, they come in conjugate pairs: $\\lambda + \\mu i$, $\\lambda - \\mu i$\n",
    "\n",
    "Newton-Raphson can be used to find roots of polynomials but it might be susceptible to convergence problems. For that reason, methods specific to the roots of polynomials have been developed, like Müller's and Bairstow's."
   ]
  },
  {
   "cell_type": "markdown",
   "metadata": {},
   "source": [
    "## Deflation \n",
    "\n",
    "Deflation is the process of eliminating already found roots of polynomials in order not to find them again. We just do this by dividing by $(x-r)$.\n"
   ]
  },
  {
   "cell_type": "markdown",
   "metadata": {},
   "source": [
    "## Root polishing\n",
    "\n",
    "Consists of taking the solutions found during deflation as initial estimates, and then going back to the original polynomial and determining each again.\n",
    "\n",
    "We might have problems if there are two or more roots that are so close that they converge on the same undeflated root."
   ]
  },
  {
   "cell_type": "markdown",
   "metadata": {},
   "source": [
    "## `polyroot`\n",
    "\n",
    "See [numpy polyroot](https://docs.scipy.org/doc/numpy-1.15.4/reference/generated/numpy.polynomial.polynomial.polyroots.html) for more details.\n"
   ]
  },
  {
   "cell_type": "code",
   "execution_count": 34,
   "metadata": {},
   "outputs": [
    {
     "data": {
      "text/plain": [
       "array([2., 3.])"
      ]
     },
     "execution_count": 34,
     "metadata": {},
     "output_type": "execute_result"
    }
   ],
   "source": [
    "import numpy.polynomial.polynomial as poly\n",
    "\n",
    "poly.polyroots([6, -5, 1])"
   ]
  },
  {
   "cell_type": "code",
   "execution_count": 13,
   "metadata": {},
   "outputs": [
    {
     "data": {
      "text/plain": [
       "array([ 6., -5.,  1.])"
      ]
     },
     "execution_count": 13,
     "metadata": {},
     "output_type": "execute_result"
    }
   ],
   "source": [
    "poly.polyfromroots([2,3])"
   ]
  },
  {
   "cell_type": "markdown",
   "metadata": {},
   "source": [
    "# Problems"
   ]
  },
  {
   "cell_type": "markdown",
   "metadata": {},
   "source": [
    "#### Exercise\n",
    "\n",
    "Use Newton-Raphson to find the positive real root of\n",
    "\n",
    "$$f(x) = x^3 + x^2 -4x -4$$\n",
    "\n",
    "Plot the functions, and compare the roots to those returned by polyroot."
   ]
  },
  {
   "cell_type": "code",
   "execution_count": 45,
   "metadata": {},
   "outputs": [
    {
     "data": {
      "text/plain": [
       "(2.0000000000356346, array([-2., -1.,  2.]))"
      ]
     },
     "execution_count": 45,
     "metadata": {},
     "output_type": "execute_result"
    }
   ],
   "source": [
    "def f(x):\n",
    "    return x ** 3 + x **2 - 4*x -4\n",
    "\n",
    "def f_prime(x):\n",
    "    return 3 * x ** 2 + 2 * x - 4\n",
    "\n",
    "solution, history = newton_raphson(f, f_prime, x_0 = 1)\n",
    "solution, poly.polyroots([-4, -4, 1, 1])"
   ]
  },
  {
   "cell_type": "code",
   "execution_count": 47,
   "metadata": {},
   "outputs": [
    {
     "data": {
      "text/plain": [
       "[<matplotlib.lines.Line2D at 0x7fed1563eb00>]"
      ]
     },
     "execution_count": 47,
     "metadata": {},
     "output_type": "execute_result"
    },
    {
     "data": {
      "image/png": "[encoded data removed]",
      "text/plain": [
       "<Figure size 432x288 with 1 Axes>"
      ]
     },
     "metadata": {
      "needs_background": "light"
     },
     "output_type": "display_data"
    }
   ],
   "source": [
    "xs = np.linspace(-3, 3)\n",
    "plt.plot(xs, f(xs))"
   ]
  },
  {
   "cell_type": "markdown",
   "metadata": {},
   "source": [
    "#### Exercise\n",
    "\n",
    "Remember that the velocity v of a falling parachutist is given by\n",
    "\n",
    "$$v = \\frac{gm}{c} (1 - e^{-(c/m)t})$$\n",
    "\n",
    "where $g = 9.8 m/s^2$. For a parachutist with a drag coefficient $c = 15 kg/s$, compute the mass $m$ so that velocity is $v = 35 m/s$ at $t = 9s$. Use any method to determine m to a level of $\\epsilon_s = 0.1%$."
   ]
  },
  {
   "cell_type": "code",
   "execution_count": null,
   "metadata": {},
   "outputs": [],
   "source": []
  },
  {
   "cell_type": "markdown",
   "metadata": {},
   "source": [
    "#### Use bisection to determine the drag coefficient needed so that\n",
    "\n",
    "Use bisection to determine the drag coefficient needed so that an 80-kg parachutist has a velocity of 36 m/s after 4 s of free fall. Start with initial guesses of $x_l = 0.1$ and $x_u = 0.2$ and iterate until the approximate relative error falls below 2%."
   ]
  },
  {
   "cell_type": "code",
   "execution_count": null,
   "metadata": {},
   "outputs": [],
   "source": []
  },
  {
   "cell_type": "markdown",
   "metadata": {},
   "source": [
    "#### Exercise\n",
    "\n",
    "Determine the lowest real root of f(x) = –12 − 21x + 18x 2 − 2.4x 3:\n",
    "\n",
    "* Graphically \n",
    "* Using Newton-Raphson to a value of $\\epsilon_s$ corresponding to three significant figures."
   ]
  },
  {
   "cell_type": "code",
   "execution_count": null,
   "metadata": {},
   "outputs": [],
   "source": []
  },
  {
   "cell_type": "markdown",
   "metadata": {},
   "source": [
    "# Further Reading\n",
    "[Muller's method]\n",
    "\n",
    "[Bairstow's method]\n",
    "\n",
    "[Muller's method]: https://en.wikipedia.org/wiki/Muller%27s_method\n",
    "[Bairstow's method]: https://en.wikipedia.org/wiki/Bairstow%27s_method"
   ]
  }
 ],
 "metadata": {
  "kernelspec": {
   "display_name": "Python 3",
   "language": "python",
   "name": "python3"
  },
  "language_info": {
   "codemirror_mode": {
    "name": "ipython",
    "version": 3
   },
   "file_extension": ".py",
   "mimetype": "text/x-python",
   "name": "python",
   "nbconvert_exporter": "python",
   "pygments_lexer": "ipython3",
   "version": "3.7.2"
  },
  "toc-autonumbering": true
 },
 "nbformat": 4,
 "nbformat_minor": 2
}
